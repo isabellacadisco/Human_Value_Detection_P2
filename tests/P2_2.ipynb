{
  "cells": [
    {
      "cell_type": "markdown",
      "metadata": {
        "id": "view-in-github",
        "colab_type": "text"
      },
      "source": [
        "<a href=\"https://colab.research.google.com/github/isabellacadisco/Human_Value_Detection_P2/blob/main/tests/P2_2.ipynb\" target=\"_parent\"><img src=\"https://colab.research.google.com/assets/colab-badge.svg\" alt=\"Open In Colab\"/></a>"
      ]
    },
    {
      "cell_type": "code",
      "execution_count": null,
      "metadata": {
        "application/vnd.databricks.v1+cell": {
          "cellMetadata": {
            "byteLimit": 2048000,
            "rowLimit": 10000
          },
          "inputWidgets": {},
          "nuid": "219dcd27-a1a4-40cf-9fba-9c9bbc607e41",
          "showTitle": false,
          "title": ""
        },
        "id": "-mLm-r4GZ04k",
        "outputId": "a6fdcbea-d9cc-4a62-84fe-7144cef4aa15"
      },
      "outputs": [
        {
          "output_type": "stream",
          "name": "stdout",
          "text": [
            "\u001b[43mNote: you may need to restart the kernel using dbutils.library.restartPython() to use updated packages.\u001b[0m\nERROR: pip's dependency resolver does not currently take into account all the packages that are installed. This behaviour is the source of the following dependency conflicts.\npetastorm 0.12.1 requires pyspark>=2.1.0, which is not installed.\n\u001b[43mNote: you may need to restart the kernel using dbutils.library.restartPython() to use updated packages.\u001b[0m\n"
          ]
        }
      ],
      "source": [
        "%pip install -q -U transformers datasets evaluate accelerate\n",
        "#%pip install optuna"
      ]
    },
    {
      "cell_type": "code",
      "execution_count": null,
      "metadata": {
        "application/vnd.databricks.v1+cell": {
          "cellMetadata": {
            "byteLimit": 2048000,
            "rowLimit": 10000
          },
          "inputWidgets": {},
          "nuid": "8fa62c49-827b-4951-b5d0-178b72e05264",
          "showTitle": false,
          "title": ""
        },
        "id": "3ftJi1OHZ04l"
      },
      "outputs": [],
      "source": [
        "dbutils.library.restartPython()"
      ]
    },
    {
      "cell_type": "code",
      "execution_count": null,
      "metadata": {
        "application/vnd.databricks.v1+cell": {
          "cellMetadata": {
            "byteLimit": 2048000,
            "rowLimit": 10000
          },
          "inputWidgets": {},
          "nuid": "8583cbc2-a79a-45ea-b366-5f55ba1c8c72",
          "showTitle": false,
          "title": ""
        },
        "id": "R0BeUSOtZ04l",
        "outputId": "fcdf070b-649f-4bb4-b174-9423d0ba18ec"
      },
      "outputs": [
        {
          "output_type": "stream",
          "name": "stderr",
          "text": [
            "2024-05-18 12:48:50.892758: E tensorflow/compiler/xla/stream_executor/cuda/cuda_dnn.cc:9342] Unable to register cuDNN factory: Attempting to register factory for plugin cuDNN when one has already been registered\n2024-05-18 12:48:50.892820: E tensorflow/compiler/xla/stream_executor/cuda/cuda_fft.cc:609] Unable to register cuFFT factory: Attempting to register factory for plugin cuFFT when one has already been registered\n2024-05-18 12:48:50.892845: E tensorflow/compiler/xla/stream_executor/cuda/cuda_blas.cc:1518] Unable to register cuBLAS factory: Attempting to register factory for plugin cuBLAS when one has already been registered\n2024-05-18 12:48:50.899321: I tensorflow/core/platform/cpu_feature_guard.cc:182] This TensorFlow binary is optimized to use available CPU instructions in performance-critical operations.\nTo enable the following instructions: AVX2 FMA, in other operations, rebuild TensorFlow with the appropriate compiler flags.\n"
          ]
        }
      ],
      "source": [
        "# Importing stock ml libraries\n",
        "import numpy as np\n",
        "import pandas as pd\n",
        "from sklearn import metrics\n",
        "import transformers\n",
        "import torch\n",
        "import torch.nn as nn\n",
        "from torch.utils.data import Dataset, DataLoader, RandomSampler, SequentialSampler\n",
        "from transformers import BertTokenizer, BertModel, BertConfig\n",
        "from transformers import AutoTokenizer, AutoModel\n",
        "\n",
        "# for viz\n",
        "import matplotlib.pyplot as plt\n",
        "\n",
        "# Preparing for TPU usage\n",
        "# import torch_xla\n",
        "# import torch_xla.core.xla_model as xm\n",
        "# device = xm.xla_device()\n",
        "import copy\n"
      ]
    },
    {
      "cell_type": "code",
      "execution_count": null,
      "metadata": {
        "application/vnd.databricks.v1+cell": {
          "cellMetadata": {
            "byteLimit": 2048000,
            "rowLimit": 10000
          },
          "inputWidgets": {},
          "nuid": "afadddd2-2d2b-40fd-a8f4-f4dab1bcdfe6",
          "showTitle": false,
          "title": ""
        },
        "id": "oFuih26cZ04m"
      },
      "outputs": [],
      "source": [
        "# # Setting up the device for GPU usage\n",
        "\n",
        "from torch import cuda\n",
        "device = 'cuda' if cuda.is_available() else 'cpu'"
      ]
    },
    {
      "cell_type": "code",
      "execution_count": null,
      "metadata": {
        "application/vnd.databricks.v1+cell": {
          "cellMetadata": {
            "byteLimit": 2048000,
            "rowLimit": 10000
          },
          "inputWidgets": {},
          "nuid": "49beb403-0c85-44a7-8a5c-d2a0d7d88b41",
          "showTitle": false,
          "title": ""
        },
        "id": "g3S5297SZ04m",
        "outputId": "f769a636-6f60-4f79-f459-4a07f3bb07e1"
      },
      "outputs": [
        {
          "output_type": "stream",
          "name": "stdout",
          "text": [
            "Sat May 18 12:49:06 2024       \r\n+---------------------------------------------------------------------------------------+\r\n| NVIDIA-SMI 535.54.03              Driver Version: 535.54.03    CUDA Version: 12.2     |\r\n|-----------------------------------------+----------------------+----------------------+\r\n| GPU  Name                 Persistence-M | Bus-Id        Disp.A | Volatile Uncorr. ECC |\r\n| Fan  Temp   Perf          Pwr:Usage/Cap |         Memory-Usage | GPU-Util  Compute M. |\r\n|                                         |                      |               MIG M. |\r\n|=========================================+======================+======================|\r\n|   0  Tesla T4                       Off | 00000001:00:00.0 Off |                  Off |\r\n| N/A   34C    P8               9W /  70W |      5MiB / 16384MiB |      0%      Default |\r\n|                                         |                      |                  N/A |\r\n+-----------------------------------------+----------------------+----------------------+\r\n                                                                                         \r\n+---------------------------------------------------------------------------------------+\r\n| Processes:                                                                            |\r\n|  GPU   GI   CI        PID   Type   Process name                            GPU Memory |\r\n|        ID   ID                                                             Usage      |\r\n|=======================================================================================|\r\n|  No running processes found                                                           |\r\n+---------------------------------------------------------------------------------------+\r\n"
          ]
        }
      ],
      "source": [
        "!nvidia-smi"
      ]
    },
    {
      "cell_type": "code",
      "execution_count": null,
      "metadata": {
        "application/vnd.databricks.v1+cell": {
          "cellMetadata": {
            "byteLimit": 2048000,
            "rowLimit": 10000
          },
          "inputWidgets": {},
          "nuid": "07c84937-dbf0-4bc6-9c37-139d36e5dba1",
          "showTitle": false,
          "title": ""
        },
        "id": "vxXJc9ggZ04m"
      },
      "outputs": [],
      "source": [
        "# train\n",
        "arg_training = pd.read_csv(\"/dbfs/mnt/tesi/hs/data_ir/arguments-training.tsv\", delimiter='\\t')\n",
        "label_training = pd.read_csv(\"/dbfs/mnt/tesi/hs/data_ir/labels-training.tsv\", delimiter= '\\t')\n",
        "df_training = pd.merge(arg_training, label_training, how='left', on=\"Argument ID\")"
      ]
    },
    {
      "cell_type": "code",
      "execution_count": null,
      "metadata": {
        "application/vnd.databricks.v1+cell": {
          "cellMetadata": {
            "byteLimit": 2048000,
            "rowLimit": 10000
          },
          "inputWidgets": {},
          "nuid": "a5a18b00-00aa-4fef-b84a-dacbbba5a9d4",
          "showTitle": false,
          "title": ""
        },
        "id": "RrSxwDg9Z04m"
      },
      "outputs": [],
      "source": [
        "# validation\n",
        "arg_validation = pd.read_csv(\"/dbfs/mnt/tesi/hs/data_ir/arguments-validation.tsv\", delimiter='\\t')\n",
        "label_validation = pd.read_csv(\"/dbfs/mnt/tesi/hs/data_ir/labels-validation.tsv\", delimiter= '\\t')\n",
        "df_validation = pd.merge(arg_validation, label_validation, how='left', on=\"Argument ID\")\n",
        "\n"
      ]
    },
    {
      "cell_type": "code",
      "execution_count": null,
      "metadata": {
        "application/vnd.databricks.v1+cell": {
          "cellMetadata": {
            "byteLimit": 2048000,
            "rowLimit": 10000
          },
          "inputWidgets": {},
          "nuid": "eae73c32-96d3-42b8-8311-4b0252f8bc8b",
          "showTitle": false,
          "title": ""
        },
        "id": "Kwls5eoZZ04m",
        "outputId": "7b935602-a01b-48b2-85d8-a03307227990"
      },
      "outputs": [
        {
          "output_type": "stream",
          "name": "stdout",
          "text": [
            "<class 'pandas.core.frame.DataFrame'>\nInt64Index: 5393 entries, 0 to 5392\nData columns (total 24 columns):\n #   Column                      Non-Null Count  Dtype \n---  ------                      --------------  ----- \n 0   Argument ID                 5393 non-null   object\n 1   Conclusion                  5393 non-null   object\n 2   Stance                      5393 non-null   object\n 3   Premise                     5393 non-null   object\n 4   Self-direction: thought     5393 non-null   int64 \n 5   Self-direction: action      5393 non-null   int64 \n 6   Stimulation                 5393 non-null   int64 \n 7   Hedonism                    5393 non-null   int64 \n 8   Achievement                 5393 non-null   int64 \n 9   Power: dominance            5393 non-null   int64 \n 10  Power: resources            5393 non-null   int64 \n 11  Face                        5393 non-null   int64 \n 12  Security: personal          5393 non-null   int64 \n 13  Security: societal          5393 non-null   int64 \n 14  Tradition                   5393 non-null   int64 \n 15  Conformity: rules           5393 non-null   int64 \n 16  Conformity: interpersonal   5393 non-null   int64 \n 17  Humility                    5393 non-null   int64 \n 18  Benevolence: caring         5393 non-null   int64 \n 19  Benevolence: dependability  5393 non-null   int64 \n 20  Universalism: concern       5393 non-null   int64 \n 21  Universalism: nature        5393 non-null   int64 \n 22  Universalism: tolerance     5393 non-null   int64 \n 23  Universalism: objectivity   5393 non-null   int64 \ndtypes: int64(20), object(4)\nmemory usage: 1.0+ MB\n"
          ]
        }
      ],
      "source": [
        "df_training.info()"
      ]
    },
    {
      "cell_type": "code",
      "execution_count": null,
      "metadata": {
        "application/vnd.databricks.v1+cell": {
          "cellMetadata": {
            "byteLimit": 2048000,
            "rowLimit": 10000
          },
          "inputWidgets": {},
          "nuid": "74d1a93e-c01e-45ff-8bdb-349625a21fff",
          "showTitle": false,
          "title": ""
        },
        "id": "-dLTQaf6Z04n",
        "outputId": "c6c41bec-2583-4c73-c43a-aefdddf2e0fb"
      },
      "outputs": [
        {
          "output_type": "stream",
          "name": "stdout",
          "text": [
            "<class 'pandas.core.frame.DataFrame'>\nInt64Index: 1896 entries, 0 to 1895\nData columns (total 24 columns):\n #   Column                      Non-Null Count  Dtype \n---  ------                      --------------  ----- \n 0   Argument ID                 1896 non-null   object\n 1   Conclusion                  1896 non-null   object\n 2   Stance                      1896 non-null   object\n 3   Premise                     1896 non-null   object\n 4   Self-direction: thought     1896 non-null   int64 \n 5   Self-direction: action      1896 non-null   int64 \n 6   Stimulation                 1896 non-null   int64 \n 7   Hedonism                    1896 non-null   int64 \n 8   Achievement                 1896 non-null   int64 \n 9   Power: dominance            1896 non-null   int64 \n 10  Power: resources            1896 non-null   int64 \n 11  Face                        1896 non-null   int64 \n 12  Security: personal          1896 non-null   int64 \n 13  Security: societal          1896 non-null   int64 \n 14  Tradition                   1896 non-null   int64 \n 15  Conformity: rules           1896 non-null   int64 \n 16  Conformity: interpersonal   1896 non-null   int64 \n 17  Humility                    1896 non-null   int64 \n 18  Benevolence: caring         1896 non-null   int64 \n 19  Benevolence: dependability  1896 non-null   int64 \n 20  Universalism: concern       1896 non-null   int64 \n 21  Universalism: nature        1896 non-null   int64 \n 22  Universalism: tolerance     1896 non-null   int64 \n 23  Universalism: objectivity   1896 non-null   int64 \ndtypes: int64(20), object(4)\nmemory usage: 370.3+ KB\n"
          ]
        }
      ],
      "source": [
        "df_validation.info()"
      ]
    },
    {
      "cell_type": "code",
      "execution_count": null,
      "metadata": {
        "application/vnd.databricks.v1+cell": {
          "cellMetadata": {
            "byteLimit": 2048000,
            "rowLimit": 10000
          },
          "inputWidgets": {},
          "nuid": "06049835-17ba-4628-b92b-d371815bb765",
          "showTitle": false,
          "title": ""
        },
        "id": "KqlWa5ICZ04n",
        "outputId": "5e447e79-8507-4bee-fd58-5b596c544bf5"
      },
      "outputs": [
        {
          "output_type": "stream",
          "name": "stderr",
          "text": [
            "/root/.ipykernel/1485/command-3585659305476833-3482145072:1: FutureWarning: The frame.append method is deprecated and will be removed from pandas in a future version. Use pandas.concat instead.\n  df_merged = df_training.append(df_validation, ignore_index=True)\n"
          ]
        }
      ],
      "source": [
        "df_merged = df_training.append(df_validation, ignore_index=True)"
      ]
    },
    {
      "cell_type": "code",
      "execution_count": null,
      "metadata": {
        "application/vnd.databricks.v1+cell": {
          "cellMetadata": {
            "byteLimit": 2048000,
            "rowLimit": 10000
          },
          "inputWidgets": {},
          "nuid": "0914601e-ed9a-4de6-ad4d-d1f0285b9469",
          "showTitle": false,
          "title": ""
        },
        "id": "ZuO-QPfdZ04n",
        "outputId": "5603935d-c7e2-41e7-e194-039726845f70"
      },
      "outputs": [
        {
          "output_type": "stream",
          "name": "stdout",
          "text": [
            "<class 'pandas.core.frame.DataFrame'>\nRangeIndex: 7289 entries, 0 to 7288\nData columns (total 24 columns):\n #   Column                      Non-Null Count  Dtype \n---  ------                      --------------  ----- \n 0   Argument ID                 7289 non-null   object\n 1   Conclusion                  7289 non-null   object\n 2   Stance                      7289 non-null   object\n 3   Premise                     7289 non-null   object\n 4   Self-direction: thought     7289 non-null   int64 \n 5   Self-direction: action      7289 non-null   int64 \n 6   Stimulation                 7289 non-null   int64 \n 7   Hedonism                    7289 non-null   int64 \n 8   Achievement                 7289 non-null   int64 \n 9   Power: dominance            7289 non-null   int64 \n 10  Power: resources            7289 non-null   int64 \n 11  Face                        7289 non-null   int64 \n 12  Security: personal          7289 non-null   int64 \n 13  Security: societal          7289 non-null   int64 \n 14  Tradition                   7289 non-null   int64 \n 15  Conformity: rules           7289 non-null   int64 \n 16  Conformity: interpersonal   7289 non-null   int64 \n 17  Humility                    7289 non-null   int64 \n 18  Benevolence: caring         7289 non-null   int64 \n 19  Benevolence: dependability  7289 non-null   int64 \n 20  Universalism: concern       7289 non-null   int64 \n 21  Universalism: nature        7289 non-null   int64 \n 22  Universalism: tolerance     7289 non-null   int64 \n 23  Universalism: objectivity   7289 non-null   int64 \ndtypes: int64(20), object(4)\nmemory usage: 1.3+ MB\n"
          ]
        }
      ],
      "source": [
        "df_merged.info()"
      ]
    },
    {
      "cell_type": "code",
      "execution_count": null,
      "metadata": {
        "application/vnd.databricks.v1+cell": {
          "cellMetadata": {
            "byteLimit": 2048000,
            "rowLimit": 10000
          },
          "inputWidgets": {},
          "nuid": "c7852b18-a266-49e0-93ee-81fa2b11781c",
          "showTitle": false,
          "title": ""
        },
        "id": "aLgUWt6JZ04n"
      },
      "outputs": [],
      "source": [
        "df_training = df_merged"
      ]
    },
    {
      "cell_type": "code",
      "execution_count": null,
      "metadata": {
        "application/vnd.databricks.v1+cell": {
          "cellMetadata": {
            "byteLimit": 2048000,
            "rowLimit": 10000
          },
          "inputWidgets": {},
          "nuid": "aefde1ea-1ab5-45a9-8fac-3c62ef674e9f",
          "showTitle": false,
          "title": ""
        },
        "id": "G9ryb4YCZ04n",
        "outputId": "c188eb2f-7422-49cf-9f28-39f73dc7f20b"
      },
      "outputs": [
        {
          "output_type": "stream",
          "name": "stdout",
          "text": [
            "Sat May 18 12:49:46 2024       \r\n+---------------------------------------------------------------------------------------+\r\n| NVIDIA-SMI 535.54.03              Driver Version: 535.54.03    CUDA Version: 12.2     |\r\n|-----------------------------------------+----------------------+----------------------+\r\n| GPU  Name                 Persistence-M | Bus-Id        Disp.A | Volatile Uncorr. ECC |\r\n| Fan  Temp   Perf          Pwr:Usage/Cap |         Memory-Usage | GPU-Util  Compute M. |\r\n|                                         |                      |               MIG M. |\r\n|=========================================+======================+======================|\r\n|   0  Tesla T4                       Off | 00000001:00:00.0 Off |                  Off |\r\n| N/A   33C    P8               9W /  70W |      5MiB / 16384MiB |      0%      Default |\r\n|                                         |                      |                  N/A |\r\n+-----------------------------------------+----------------------+----------------------+\r\n                                                                                         \r\n+---------------------------------------------------------------------------------------+\r\n| Processes:                                                                            |\r\n|  GPU   GI   CI        PID   Type   Process name                            GPU Memory |\r\n|        ID   ID                                                             Usage      |\r\n|=======================================================================================|\r\n|  No running processes found                                                           |\r\n+---------------------------------------------------------------------------------------+\r\n"
          ]
        }
      ],
      "source": [
        "!nvidia-smi"
      ]
    },
    {
      "cell_type": "code",
      "execution_count": null,
      "metadata": {
        "application/vnd.databricks.v1+cell": {
          "cellMetadata": {
            "byteLimit": 2048000,
            "rowLimit": 10000
          },
          "inputWidgets": {},
          "nuid": "d227407e-5971-4379-a306-35f2487c5e2b",
          "showTitle": false,
          "title": ""
        },
        "id": "TshZc6StZ04o",
        "outputId": "5ae945b8-6e59-4695-cc21-7dc65cd80b36"
      },
      "outputs": [
        {
          "output_type": "stream",
          "name": "stdout",
          "text": [
            "<class 'pandas.core.frame.DataFrame'>\nRangeIndex: 7289 entries, 0 to 7288\nData columns (total 24 columns):\n #   Column                      Non-Null Count  Dtype \n---  ------                      --------------  ----- \n 0   Argument ID                 7289 non-null   object\n 1   Conclusion                  7289 non-null   object\n 2   Stance                      7289 non-null   object\n 3   Premise                     7289 non-null   object\n 4   Self-direction: thought     7289 non-null   int64 \n 5   Self-direction: action      7289 non-null   int64 \n 6   Stimulation                 7289 non-null   int64 \n 7   Hedonism                    7289 non-null   int64 \n 8   Achievement                 7289 non-null   int64 \n 9   Power: dominance            7289 non-null   int64 \n 10  Power: resources            7289 non-null   int64 \n 11  Face                        7289 non-null   int64 \n 12  Security: personal          7289 non-null   int64 \n 13  Security: societal          7289 non-null   int64 \n 14  Tradition                   7289 non-null   int64 \n 15  Conformity: rules           7289 non-null   int64 \n 16  Conformity: interpersonal   7289 non-null   int64 \n 17  Humility                    7289 non-null   int64 \n 18  Benevolence: caring         7289 non-null   int64 \n 19  Benevolence: dependability  7289 non-null   int64 \n 20  Universalism: concern       7289 non-null   int64 \n 21  Universalism: nature        7289 non-null   int64 \n 22  Universalism: tolerance     7289 non-null   int64 \n 23  Universalism: objectivity   7289 non-null   int64 \ndtypes: int64(20), object(4)\nmemory usage: 1.3+ MB\n"
          ]
        }
      ],
      "source": [
        "df_training.info()"
      ]
    },
    {
      "cell_type": "code",
      "execution_count": null,
      "metadata": {
        "application/vnd.databricks.v1+cell": {
          "cellMetadata": {
            "byteLimit": 2048000,
            "rowLimit": 10000
          },
          "inputWidgets": {},
          "nuid": "5dae4f85-356a-4a65-b1a2-878d35caa69e",
          "showTitle": false,
          "title": ""
        },
        "id": "YDVjh2aFZ04o"
      },
      "outputs": [],
      "source": [
        "# test\n",
        "arg_test = pd.read_csv(\"/dbfs/mnt/tesi/hs/data_ir/arguments-test.tsv\", delimiter='\\t')\n",
        "label_test = pd.read_csv(\"/dbfs/mnt/tesi/hs/data_ir/labels-test.tsv\", delimiter= '\\t')\n",
        "df_test = pd.merge(arg_test, label_test, how='left', on=\"Argument ID\")"
      ]
    },
    {
      "cell_type": "code",
      "execution_count": null,
      "metadata": {
        "application/vnd.databricks.v1+cell": {
          "cellMetadata": {
            "byteLimit": 2048000,
            "rowLimit": 10000
          },
          "inputWidgets": {},
          "nuid": "ce84f7bf-2b75-4514-918a-02038da2ab0f",
          "showTitle": false,
          "title": ""
        },
        "id": "P-0c51yoZ04o"
      },
      "outputs": [],
      "source": [
        "selected_col = ['Argument ID', 'Conclusion', 'Stance', 'Premise','Self-direction: action', 'Achievement', 'Security: personal', 'Security: societal', 'Benevolence: caring', 'Universalism: concern']\n",
        "\n",
        "subset_train = df_training[selected_col]\n",
        "#subset_val = df_validation[selected_col]\n",
        "subset_test = df_test[selected_col]\n"
      ]
    },
    {
      "cell_type": "code",
      "execution_count": null,
      "metadata": {
        "application/vnd.databricks.v1+cell": {
          "cellMetadata": {
            "byteLimit": 2048000,
            "rowLimit": 10000
          },
          "inputWidgets": {},
          "nuid": "1d744929-f4ae-4fb5-9996-a8761774071f",
          "showTitle": false,
          "title": ""
        },
        "id": "K-Ip4WSrZ04o",
        "outputId": "bcc7bedb-8ed2-4743-a99e-2affb4053b4b"
      },
      "outputs": [
        {
          "output_type": "execute_result",
          "data": {
            "text/html": [
              "<div>\n",
              "<style scoped>\n",
              "    .dataframe tbody tr th:only-of-type {\n",
              "        vertical-align: middle;\n",
              "    }\n",
              "\n",
              "    .dataframe tbody tr th {\n",
              "        vertical-align: top;\n",
              "    }\n",
              "\n",
              "    .dataframe thead th {\n",
              "        text-align: right;\n",
              "    }\n",
              "</style>\n",
              "<table border=\"1\" class=\"dataframe\">\n",
              "  <thead>\n",
              "    <tr style=\"text-align: right;\">\n",
              "      <th></th>\n",
              "      <th>Argument ID</th>\n",
              "      <th>Conclusion</th>\n",
              "      <th>Stance</th>\n",
              "      <th>Premise</th>\n",
              "      <th>Self-direction: action</th>\n",
              "      <th>Achievement</th>\n",
              "      <th>Security: personal</th>\n",
              "      <th>Security: societal</th>\n",
              "      <th>Benevolence: caring</th>\n",
              "      <th>Universalism: concern</th>\n",
              "    </tr>\n",
              "  </thead>\n",
              "  <tbody>\n",
              "    <tr>\n",
              "      <th>0</th>\n",
              "      <td>A01002</td>\n",
              "      <td>We should ban human cloning</td>\n",
              "      <td>in favor of</td>\n",
              "      <td>we should ban human cloning as it will only ca...</td>\n",
              "      <td>0</td>\n",
              "      <td>0</td>\n",
              "      <td>0</td>\n",
              "      <td>1</td>\n",
              "      <td>0</td>\n",
              "      <td>0</td>\n",
              "    </tr>\n",
              "  </tbody>\n",
              "</table>\n",
              "</div>"
            ],
            "text/plain": [
              "  Argument ID  ... Universalism: concern\n",
              "0      A01002  ...                     0\n",
              "\n",
              "[1 rows x 10 columns]"
            ]
          },
          "execution_count": 15,
          "metadata": {}
        }
      ],
      "source": [
        "subset_train.head(1)"
      ]
    },
    {
      "cell_type": "code",
      "execution_count": null,
      "metadata": {
        "application/vnd.databricks.v1+cell": {
          "cellMetadata": {
            "byteLimit": 2048000,
            "rowLimit": 10000
          },
          "inputWidgets": {},
          "nuid": "443616b0-f6a5-4293-9bde-d6b67cc33119",
          "showTitle": false,
          "title": ""
        },
        "id": "P8sIT0xUZ04o"
      },
      "outputs": [],
      "source": [
        "subset_train = subset_train.copy()\n",
        "subset_train['Text'] = subset_train['Stance'] + \" \" + subset_train['Conclusion'] + \" \" + subset_train['Premise']\n",
        "subset_train.drop(labels=['Argument ID','Conclusion','Premise','Stance'], axis=1, inplace=True)"
      ]
    },
    {
      "cell_type": "code",
      "execution_count": null,
      "metadata": {
        "application/vnd.databricks.v1+cell": {
          "cellMetadata": {
            "byteLimit": 2048000,
            "rowLimit": 10000
          },
          "inputWidgets": {},
          "nuid": "75fe5ffc-8914-4e30-8dc9-8d1974aa143c",
          "showTitle": false,
          "title": ""
        },
        "id": "w8Z8lvzHZ04o",
        "outputId": "af255cd7-ab46-4b82-d0f4-732d5d278efc"
      },
      "outputs": [
        {
          "output_type": "execute_result",
          "data": {
            "text/html": [
              "<div>\n",
              "<style scoped>\n",
              "    .dataframe tbody tr th:only-of-type {\n",
              "        vertical-align: middle;\n",
              "    }\n",
              "\n",
              "    .dataframe tbody tr th {\n",
              "        vertical-align: top;\n",
              "    }\n",
              "\n",
              "    .dataframe thead th {\n",
              "        text-align: right;\n",
              "    }\n",
              "</style>\n",
              "<table border=\"1\" class=\"dataframe\">\n",
              "  <thead>\n",
              "    <tr style=\"text-align: right;\">\n",
              "      <th></th>\n",
              "      <th>Self-direction: action</th>\n",
              "      <th>Achievement</th>\n",
              "      <th>Security: personal</th>\n",
              "      <th>Security: societal</th>\n",
              "      <th>Benevolence: caring</th>\n",
              "      <th>Universalism: concern</th>\n",
              "      <th>Text</th>\n",
              "    </tr>\n",
              "  </thead>\n",
              "  <tbody>\n",
              "    <tr>\n",
              "      <th>0</th>\n",
              "      <td>0</td>\n",
              "      <td>0</td>\n",
              "      <td>0</td>\n",
              "      <td>1</td>\n",
              "      <td>0</td>\n",
              "      <td>0</td>\n",
              "      <td>in favor of We should ban human cloning we sho...</td>\n",
              "    </tr>\n",
              "  </tbody>\n",
              "</table>\n",
              "</div>"
            ],
            "text/plain": [
              "   Self-direction: action  ...                                               Text\n",
              "0                       0  ...  in favor of We should ban human cloning we sho...\n",
              "\n",
              "[1 rows x 7 columns]"
            ]
          },
          "execution_count": 17,
          "metadata": {}
        }
      ],
      "source": [
        "subset_train.head(1)"
      ]
    },
    {
      "cell_type": "code",
      "execution_count": null,
      "metadata": {
        "application/vnd.databricks.v1+cell": {
          "cellMetadata": {
            "byteLimit": 2048000,
            "rowLimit": 10000
          },
          "inputWidgets": {},
          "nuid": "971f78d6-6503-40a1-ab60-a423dea7129c",
          "showTitle": false,
          "title": ""
        },
        "id": "rMG9imVVZ04o",
        "outputId": "3d31334c-5e19-478a-99f4-aae6d30dc4db"
      },
      "outputs": [
        {
          "output_type": "execute_result",
          "data": {
            "text/html": [
              "<div>\n",
              "<style scoped>\n",
              "    .dataframe tbody tr th:only-of-type {\n",
              "        vertical-align: middle;\n",
              "    }\n",
              "\n",
              "    .dataframe tbody tr th {\n",
              "        vertical-align: top;\n",
              "    }\n",
              "\n",
              "    .dataframe thead th {\n",
              "        text-align: right;\n",
              "    }\n",
              "</style>\n",
              "<table border=\"1\" class=\"dataframe\">\n",
              "  <thead>\n",
              "    <tr style=\"text-align: right;\">\n",
              "      <th></th>\n",
              "      <th>Text</th>\n",
              "      <th>list</th>\n",
              "    </tr>\n",
              "  </thead>\n",
              "  <tbody>\n",
              "    <tr>\n",
              "      <th>0</th>\n",
              "      <td>in favor of We should ban human cloning we sho...</td>\n",
              "      <td>[0, 0, 0, 1, 0, 0]</td>\n",
              "    </tr>\n",
              "    <tr>\n",
              "      <th>1</th>\n",
              "      <td>in favor of We should ban fast food fast food ...</td>\n",
              "      <td>[0, 0, 1, 0, 0, 0]</td>\n",
              "    </tr>\n",
              "    <tr>\n",
              "      <th>2</th>\n",
              "      <td>against We should end the use of economic sanc...</td>\n",
              "      <td>[0, 0, 0, 1, 0, 0]</td>\n",
              "    </tr>\n",
              "    <tr>\n",
              "      <th>3</th>\n",
              "      <td>against We should abolish capital punishment c...</td>\n",
              "      <td>[0, 0, 0, 1, 0, 1]</td>\n",
              "    </tr>\n",
              "    <tr>\n",
              "      <th>4</th>\n",
              "      <td>against We should ban factory farming factory ...</td>\n",
              "      <td>[0, 0, 1, 0, 1, 1]</td>\n",
              "    </tr>\n",
              "  </tbody>\n",
              "</table>\n",
              "</div>"
            ],
            "text/plain": [
              "                                                Text                list\n",
              "0  in favor of We should ban human cloning we sho...  [0, 0, 0, 1, 0, 0]\n",
              "1  in favor of We should ban fast food fast food ...  [0, 0, 1, 0, 0, 0]\n",
              "2  against We should end the use of economic sanc...  [0, 0, 0, 1, 0, 0]\n",
              "3  against We should abolish capital punishment c...  [0, 0, 0, 1, 0, 1]\n",
              "4  against We should ban factory farming factory ...  [0, 0, 1, 0, 1, 1]"
            ]
          },
          "execution_count": 18,
          "metadata": {}
        }
      ],
      "source": [
        "subset_train['list'] = subset_train[subset_train.columns[:6]].values.tolist()\n",
        "train_set = subset_train[['Text', 'list']].copy()\n",
        "train_set.head()"
      ]
    },
    {
      "cell_type": "code",
      "execution_count": null,
      "metadata": {
        "application/vnd.databricks.v1+cell": {
          "cellMetadata": {
            "byteLimit": 2048000,
            "rowLimit": 10000
          },
          "inputWidgets": {},
          "nuid": "b36ae9ff-0460-478f-8ef1-5917118aca43",
          "showTitle": false,
          "title": ""
        },
        "id": "TVhwpXJKZ04p"
      },
      "outputs": [],
      "source": [
        "subset_test = subset_test.copy()\n",
        "subset_test['Text'] = subset_test['Stance'] + \" \" + subset_test['Conclusion'] + \" \" + subset_test['Premise']\n",
        "subset_test.drop(labels=['Argument ID','Conclusion','Premise','Stance'], axis=1, inplace=True)"
      ]
    },
    {
      "cell_type": "code",
      "execution_count": null,
      "metadata": {
        "application/vnd.databricks.v1+cell": {
          "cellMetadata": {
            "byteLimit": 2048000,
            "rowLimit": 10000
          },
          "inputWidgets": {},
          "nuid": "bb6265f4-34c8-4055-a3d0-de7e023d5923",
          "showTitle": false,
          "title": ""
        },
        "id": "fZxpZoy3Z04p",
        "outputId": "8d74774e-99fd-4840-ed40-2fec102ca156"
      },
      "outputs": [
        {
          "output_type": "execute_result",
          "data": {
            "text/html": [
              "<div>\n",
              "<style scoped>\n",
              "    .dataframe tbody tr th:only-of-type {\n",
              "        vertical-align: middle;\n",
              "    }\n",
              "\n",
              "    .dataframe tbody tr th {\n",
              "        vertical-align: top;\n",
              "    }\n",
              "\n",
              "    .dataframe thead th {\n",
              "        text-align: right;\n",
              "    }\n",
              "</style>\n",
              "<table border=\"1\" class=\"dataframe\">\n",
              "  <thead>\n",
              "    <tr style=\"text-align: right;\">\n",
              "      <th></th>\n",
              "      <th>Self-direction: action</th>\n",
              "      <th>Achievement</th>\n",
              "      <th>Security: personal</th>\n",
              "      <th>Security: societal</th>\n",
              "      <th>Benevolence: caring</th>\n",
              "      <th>Universalism: concern</th>\n",
              "      <th>Text</th>\n",
              "    </tr>\n",
              "  </thead>\n",
              "  <tbody>\n",
              "    <tr>\n",
              "      <th>0</th>\n",
              "      <td>0</td>\n",
              "      <td>1</td>\n",
              "      <td>1</td>\n",
              "      <td>0</td>\n",
              "      <td>0</td>\n",
              "      <td>1</td>\n",
              "      <td>against We should end affirmative action affir...</td>\n",
              "    </tr>\n",
              "  </tbody>\n",
              "</table>\n",
              "</div>"
            ],
            "text/plain": [
              "   Self-direction: action  ...                                               Text\n",
              "0                       0  ...  against We should end affirmative action affir...\n",
              "\n",
              "[1 rows x 7 columns]"
            ]
          },
          "execution_count": 20,
          "metadata": {}
        }
      ],
      "source": [
        "subset_test.head(1)"
      ]
    },
    {
      "cell_type": "code",
      "execution_count": null,
      "metadata": {
        "application/vnd.databricks.v1+cell": {
          "cellMetadata": {
            "byteLimit": 2048000,
            "rowLimit": 10000
          },
          "inputWidgets": {},
          "nuid": "c1e2b14b-4627-4177-a88a-0ba76129d1ac",
          "showTitle": false,
          "title": ""
        },
        "id": "d63dzVxxZ04p",
        "outputId": "cbabe3be-4566-486a-8b42-0c6911bf3fa7"
      },
      "outputs": [
        {
          "output_type": "execute_result",
          "data": {
            "text/html": [
              "<div>\n",
              "<style scoped>\n",
              "    .dataframe tbody tr th:only-of-type {\n",
              "        vertical-align: middle;\n",
              "    }\n",
              "\n",
              "    .dataframe tbody tr th {\n",
              "        vertical-align: top;\n",
              "    }\n",
              "\n",
              "    .dataframe thead th {\n",
              "        text-align: right;\n",
              "    }\n",
              "</style>\n",
              "<table border=\"1\" class=\"dataframe\">\n",
              "  <thead>\n",
              "    <tr style=\"text-align: right;\">\n",
              "      <th></th>\n",
              "      <th>Text</th>\n",
              "      <th>list</th>\n",
              "    </tr>\n",
              "  </thead>\n",
              "  <tbody>\n",
              "    <tr>\n",
              "      <th>0</th>\n",
              "      <td>against We should end affirmative action affir...</td>\n",
              "      <td>[0, 1, 1, 0, 0, 1]</td>\n",
              "    </tr>\n",
              "    <tr>\n",
              "      <th>1</th>\n",
              "      <td>in favor of We should end affirmative action a...</td>\n",
              "      <td>[0, 1, 0, 0, 0, 1]</td>\n",
              "    </tr>\n",
              "    <tr>\n",
              "      <th>2</th>\n",
              "      <td>in favor of We should ban naturopathy naturopa...</td>\n",
              "      <td>[0, 1, 1, 0, 0, 1]</td>\n",
              "    </tr>\n",
              "    <tr>\n",
              "      <th>3</th>\n",
              "      <td>in favor of We should prohibit women in combat...</td>\n",
              "      <td>[0, 1, 0, 0, 0, 0]</td>\n",
              "    </tr>\n",
              "    <tr>\n",
              "      <th>4</th>\n",
              "      <td>in favor of We should ban naturopathy once era...</td>\n",
              "      <td>[0, 1, 1, 1, 1, 0]</td>\n",
              "    </tr>\n",
              "  </tbody>\n",
              "</table>\n",
              "</div>"
            ],
            "text/plain": [
              "                                                Text                list\n",
              "0  against We should end affirmative action affir...  [0, 1, 1, 0, 0, 1]\n",
              "1  in favor of We should end affirmative action a...  [0, 1, 0, 0, 0, 1]\n",
              "2  in favor of We should ban naturopathy naturopa...  [0, 1, 1, 0, 0, 1]\n",
              "3  in favor of We should prohibit women in combat...  [0, 1, 0, 0, 0, 0]\n",
              "4  in favor of We should ban naturopathy once era...  [0, 1, 1, 1, 1, 0]"
            ]
          },
          "execution_count": 21,
          "metadata": {}
        }
      ],
      "source": [
        "subset_test['list'] = subset_test[subset_test.columns[:6]].values.tolist()\n",
        "test_set = subset_test[['Text', 'list']].copy()\n",
        "test_set.head()"
      ]
    },
    {
      "cell_type": "code",
      "execution_count": null,
      "metadata": {
        "application/vnd.databricks.v1+cell": {
          "cellMetadata": {
            "byteLimit": 2048000,
            "rowLimit": 10000
          },
          "inputWidgets": {},
          "nuid": "12d0d4c8-198b-4386-85fc-0307274a016e",
          "showTitle": false,
          "title": ""
        },
        "id": "GHOA27JBZ04p",
        "outputId": "1e0c16cd-a3b5-44e0-e2a3-8769649b7cb3",
        "colab": {
          "referenced_widgets": [
            "6652a59b11994c11abb569bc99913d33",
            "c6e69901210942a1b37f707b13a40a54",
            "70193bd43b694b67afd0003254ac013d",
            "6e4af54e05f34d2bb704bf71a8f8cf6f"
          ]
        }
      },
      "outputs": [
        {
          "output_type": "display_data",
          "data": {
            "application/vnd.jupyter.widget-view+json": {
              "model_id": "6652a59b11994c11abb569bc99913d33",
              "version_major": 2,
              "version_minor": 0
            },
            "text/plain": [
              "tokenizer_config.json:   0%|          | 0.00/48.0 [00:00<?, ?B/s]"
            ]
          },
          "metadata": {}
        },
        {
          "output_type": "stream",
          "name": "stderr",
          "text": [
            "/local_disk0/.ephemeral_nfs/envs/pythonEnv-9065445b-4587-46a7-a0ef-6e2dc22968da/lib/python3.10/site-packages/huggingface_hub/file_download.py:1132: FutureWarning: `resume_download` is deprecated and will be removed in version 1.0.0. Downloads always resume when possible. If you want to force a new download, use `force_download=True`.\n  warnings.warn(\n"
          ]
        },
        {
          "output_type": "display_data",
          "data": {
            "application/vnd.jupyter.widget-view+json": {
              "model_id": "c6e69901210942a1b37f707b13a40a54",
              "version_major": 2,
              "version_minor": 0
            },
            "text/plain": [
              "config.json:   0%|          | 0.00/483 [00:00<?, ?B/s]"
            ]
          },
          "metadata": {}
        },
        {
          "output_type": "display_data",
          "data": {
            "application/vnd.jupyter.widget-view+json": {
              "model_id": "70193bd43b694b67afd0003254ac013d",
              "version_major": 2,
              "version_minor": 0
            },
            "text/plain": [
              "vocab.txt:   0%|          | 0.00/232k [00:00<?, ?B/s]"
            ]
          },
          "metadata": {}
        },
        {
          "output_type": "display_data",
          "data": {
            "application/vnd.jupyter.widget-view+json": {
              "model_id": "6e4af54e05f34d2bb704bf71a8f8cf6f",
              "version_major": 2,
              "version_minor": 0
            },
            "text/plain": [
              "tokenizer.json:   0%|          | 0.00/466k [00:00<?, ?B/s]"
            ]
          },
          "metadata": {}
        }
      ],
      "source": [
        "# try DISTILBERT\n",
        "#tokenizer = BertTokenizer.from_pretrained('bert-base-uncased')\n",
        "tokenizer = AutoTokenizer.from_pretrained('distilbert/distilbert-base-uncased')"
      ]
    },
    {
      "cell_type": "code",
      "execution_count": null,
      "metadata": {
        "application/vnd.databricks.v1+cell": {
          "cellMetadata": {
            "byteLimit": 2048000,
            "rowLimit": 10000
          },
          "inputWidgets": {},
          "nuid": "4905a10b-3d31-49ed-b56e-97d0ba911e5e",
          "showTitle": false,
          "title": ""
        },
        "id": "DbVNpCCqZ04p"
      },
      "outputs": [],
      "source": [
        "def max_text_length(df):\n",
        "  df['length'] = df['Text'].apply(lambda x: len(tokenizer.encode(x)))\n",
        "  max_length = df['length'].max()\n",
        "  return max_length"
      ]
    },
    {
      "cell_type": "code",
      "execution_count": null,
      "metadata": {
        "application/vnd.databricks.v1+cell": {
          "cellMetadata": {
            "byteLimit": 2048000,
            "rowLimit": 10000
          },
          "inputWidgets": {},
          "nuid": "e6eb9ed8-fd6c-4e42-8ba5-e0b2713993b7",
          "showTitle": false,
          "title": ""
        },
        "id": "r8WOoksFZ04p",
        "outputId": "ab8cacfa-46ae-41a3-a352-deccee173ea7"
      },
      "outputs": [
        {
          "output_type": "execute_result",
          "data": {
            "text/plain": [
              "171"
            ]
          },
          "execution_count": 28,
          "metadata": {}
        }
      ],
      "source": [
        "max_text_length(train_set)"
      ]
    },
    {
      "cell_type": "code",
      "execution_count": null,
      "metadata": {
        "application/vnd.databricks.v1+cell": {
          "cellMetadata": {
            "byteLimit": 2048000,
            "rowLimit": 10000
          },
          "inputWidgets": {},
          "nuid": "17716644-3577-4d85-afa0-ea5866188a2f",
          "showTitle": false,
          "title": ""
        },
        "id": "jw3icIPQZ04p",
        "outputId": "3f8c41b4-786f-4208-f7b0-9af5f16d2fd8"
      },
      "outputs": [
        {
          "output_type": "execute_result",
          "data": {
            "text/plain": [
              "189"
            ]
          },
          "execution_count": 29,
          "metadata": {}
        }
      ],
      "source": [
        "max_text_length(test_set)"
      ]
    },
    {
      "cell_type": "code",
      "execution_count": null,
      "metadata": {
        "application/vnd.databricks.v1+cell": {
          "cellMetadata": {
            "byteLimit": 2048000,
            "rowLimit": 10000
          },
          "inputWidgets": {},
          "nuid": "cb027972-b851-4fda-9d5d-c03164b5acb3",
          "showTitle": false,
          "title": ""
        },
        "id": "Ak3OZT_1Z04q"
      },
      "outputs": [],
      "source": [
        "# variables that will be used later on in the training\n",
        "MAX_LEN = 189\n",
        "TRAIN_BATCH_SIZE = 32 #aumentare a 32 (eventualmente vedere 64)\n",
        "VALID_BATCH_SIZE = 32\n",
        "EPOCHS = 10\n",
        "LEARNING_RATE = 2e-05"
      ]
    },
    {
      "cell_type": "code",
      "execution_count": null,
      "metadata": {
        "application/vnd.databricks.v1+cell": {
          "cellMetadata": {
            "byteLimit": 2048000,
            "rowLimit": 10000
          },
          "inputWidgets": {},
          "nuid": "b9131efb-a135-4c69-b218-6ddb69b97f7c",
          "showTitle": false,
          "title": ""
        },
        "id": "716Vs7fjZ04q"
      },
      "outputs": [],
      "source": [
        "class CustomDataset(Dataset):\n",
        "\n",
        "    def __init__(self, dataframe, tokenizer, max_len):\n",
        "        self.tokenizer = tokenizer\n",
        "        self.data = dataframe\n",
        "        self.Text = dataframe.Text\n",
        "        self.targets = self.data.list\n",
        "        self.max_len = max_len\n",
        "\n",
        "    def __len__(self):\n",
        "        return len(self.Text)\n",
        "\n",
        "    def __getitem__(self, index):\n",
        "        Text = str(self.Text[index])\n",
        "        Text = \" \".join(Text.split())\n",
        "\n",
        "        inputs = self.tokenizer.encode_plus(\n",
        "            Text,\n",
        "            None,\n",
        "            add_special_tokens=True,\n",
        "            max_length=self.max_len,\n",
        "            #pad_to_max_length=True, deprecated\n",
        "            padding='max_length',\n",
        "            #return_token_type_ids=True\n",
        "        )\n",
        "        ids = inputs['input_ids']\n",
        "        mask = inputs['attention_mask']\n",
        "        #token_type_ids = inputs[\"token_type_ids\"]\n",
        "\n",
        "\n",
        "        return {\n",
        "            'ids': torch.tensor(ids, dtype=torch.long),\n",
        "            'mask': torch.tensor(mask, dtype=torch.long),\n",
        "            #'token_type_ids': torch.tensor(token_type_ids, dtype=torch.long),\n",
        "            'targets': torch.tensor(self.targets[index], dtype=torch.float)\n",
        "        }"
      ]
    },
    {
      "cell_type": "code",
      "execution_count": null,
      "metadata": {
        "application/vnd.databricks.v1+cell": {
          "cellMetadata": {
            "byteLimit": 2048000,
            "rowLimit": 10000
          },
          "inputWidgets": {},
          "nuid": "8ec6882c-d4b5-4456-9781-be12d091fef8",
          "showTitle": false,
          "title": ""
        },
        "id": "ejB6AIgrZ04q"
      },
      "outputs": [],
      "source": [
        "train_set = train_set.reset_index(drop=True)\n",
        "test_set = test_set.reset_index(drop=True)\n"
      ]
    },
    {
      "cell_type": "code",
      "execution_count": null,
      "metadata": {
        "application/vnd.databricks.v1+cell": {
          "cellMetadata": {
            "byteLimit": 2048000,
            "rowLimit": 10000
          },
          "inputWidgets": {},
          "nuid": "ee6fa10b-f358-445b-b130-dbf6430a934a",
          "showTitle": false,
          "title": ""
        },
        "id": "x5ZdQG48Z04q",
        "outputId": "fdb96bc7-f99e-44a0-c91d-226bc6a6f650"
      },
      "outputs": [
        {
          "output_type": "stream",
          "name": "stdout",
          "text": [
            "TRAIN Dataset: (7289, 3)\nTEST Dataset: (1576, 3)\n"
          ]
        }
      ],
      "source": [
        "print(\"TRAIN Dataset: {}\".format(train_set.shape))\n",
        "print(\"TEST Dataset: {}\".format(test_set.shape))"
      ]
    },
    {
      "cell_type": "code",
      "execution_count": null,
      "metadata": {
        "application/vnd.databricks.v1+cell": {
          "cellMetadata": {
            "byteLimit": 2048000,
            "rowLimit": 10000
          },
          "inputWidgets": {},
          "nuid": "e44e66da-050a-45d3-b3d1-a6a68c28cf2d",
          "showTitle": false,
          "title": ""
        },
        "id": "CeuSFpgCZ04q"
      },
      "outputs": [],
      "source": [
        "training_set = CustomDataset(train_set, tokenizer, MAX_LEN)\n",
        "testing_set = CustomDataset(test_set, tokenizer, MAX_LEN)\n"
      ]
    },
    {
      "cell_type": "code",
      "execution_count": null,
      "metadata": {
        "application/vnd.databricks.v1+cell": {
          "cellMetadata": {
            "byteLimit": 2048000,
            "rowLimit": 10000
          },
          "inputWidgets": {},
          "nuid": "8962b71d-a4b4-4b84-b274-98743d05b188",
          "showTitle": false,
          "title": ""
        },
        "id": "BIvuwGnrZ04q"
      },
      "outputs": [],
      "source": [
        "\n",
        "train_params = {'batch_size': TRAIN_BATCH_SIZE,\n",
        "                'shuffle': True,\n",
        "                'num_workers': 0\n",
        "                }\n",
        "\n",
        "test_params = {'batch_size': VALID_BATCH_SIZE,\n",
        "                'shuffle': True,\n",
        "                'num_workers': 0\n",
        "                }\n",
        "\n",
        "training_loader = DataLoader(training_set, **train_params)\n",
        "testing_loader = DataLoader(testing_set, **test_params)"
      ]
    },
    {
      "cell_type": "code",
      "execution_count": null,
      "metadata": {
        "application/vnd.databricks.v1+cell": {
          "cellMetadata": {
            "byteLimit": 2048000,
            "rowLimit": 10000
          },
          "inputWidgets": {},
          "nuid": "45398ad8-efe5-4eed-8acb-52b114480512",
          "showTitle": false,
          "title": ""
        },
        "id": "T_Ldz8YWZ04r",
        "outputId": "56191341-192f-432b-e2f8-a7001b5ca425",
        "colab": {
          "referenced_widgets": [
            "fa343aee96cb4ca58c2c6a9e4c85ee62",
            "c7057802bddc4ac7b51a7276884fe8bf"
          ]
        }
      },
      "outputs": [
        {
          "output_type": "display_data",
          "data": {
            "application/vnd.jupyter.widget-view+json": {
              "model_id": "fa343aee96cb4ca58c2c6a9e4c85ee62",
              "version_major": 2,
              "version_minor": 0
            },
            "text/plain": [
              "config.json:   0%|          | 0.00/483 [00:00<?, ?B/s]"
            ]
          },
          "metadata": {}
        },
        {
          "output_type": "display_data",
          "data": {
            "application/vnd.jupyter.widget-view+json": {
              "model_id": "c7057802bddc4ac7b51a7276884fe8bf",
              "version_major": 2,
              "version_minor": 0
            },
            "text/plain": [
              "model.safetensors:   0%|          | 0.00/268M [00:00<?, ?B/s]"
            ]
          },
          "metadata": {}
        },
        {
          "output_type": "execute_result",
          "data": {
            "text/plain": [
              "DistilBERTClass(\n",
              "  (l1): DistilBertModel(\n",
              "    (embeddings): Embeddings(\n",
              "      (word_embeddings): Embedding(30522, 768, padding_idx=0)\n",
              "      (position_embeddings): Embedding(512, 768)\n",
              "      (LayerNorm): LayerNorm((768,), eps=1e-12, elementwise_affine=True)\n",
              "      (dropout): Dropout(p=0.1, inplace=False)\n",
              "    )\n",
              "    (transformer): Transformer(\n",
              "      (layer): ModuleList(\n",
              "        (0-5): 6 x TransformerBlock(\n",
              "          (attention): MultiHeadSelfAttention(\n",
              "            (dropout): Dropout(p=0.1, inplace=False)\n",
              "            (q_lin): Linear(in_features=768, out_features=768, bias=True)\n",
              "            (k_lin): Linear(in_features=768, out_features=768, bias=True)\n",
              "            (v_lin): Linear(in_features=768, out_features=768, bias=True)\n",
              "            (out_lin): Linear(in_features=768, out_features=768, bias=True)\n",
              "          )\n",
              "          (sa_layer_norm): LayerNorm((768,), eps=1e-12, elementwise_affine=True)\n",
              "          (ffn): FFN(\n",
              "            (dropout): Dropout(p=0.1, inplace=False)\n",
              "            (lin1): Linear(in_features=768, out_features=3072, bias=True)\n",
              "            (lin2): Linear(in_features=3072, out_features=768, bias=True)\n",
              "            (activation): GELUActivation()\n",
              "          )\n",
              "          (output_layer_norm): LayerNorm((768,), eps=1e-12, elementwise_affine=True)\n",
              "        )\n",
              "      )\n",
              "    )\n",
              "  )\n",
              "  (l2): Dropout(p=0.3, inplace=False)\n",
              "  (l3): Linear(in_features=768, out_features=6, bias=True)\n",
              ")"
            ]
          },
          "execution_count": 36,
          "metadata": {}
        }
      ],
      "source": [
        "import torch\n",
        "import transformers\n",
        "\n",
        "class DistilBERTClass(torch.nn.Module):\n",
        "    def __init__(self):\n",
        "        super(DistilBERTClass, self).__init__()\n",
        "        self.l1 = transformers.DistilBertModel.from_pretrained('distilbert-base-uncased')\n",
        "        self.l2 = torch.nn.Dropout(0.3)\n",
        "        self.l3 = torch.nn.Linear(768, 6)\n",
        "\n",
        "    def forward(self, ids, mask):\n",
        "        outputs = self.l1(ids, attention_mask=mask)\n",
        "        output_1 = outputs.last_hidden_state[:, 0, :]  # DistilBERT doesn't have pooler_output; use the [CLS] token\n",
        "\n",
        "        output_2 = self.l2(output_1)\n",
        "        output = self.l3(output_2)\n",
        "        return output\n",
        "\n",
        "model = DistilBERTClass()\n",
        "model.to(device)\n"
      ]
    },
    {
      "cell_type": "code",
      "execution_count": null,
      "metadata": {
        "application/vnd.databricks.v1+cell": {
          "cellMetadata": {
            "byteLimit": 2048000,
            "rowLimit": 10000
          },
          "inputWidgets": {},
          "nuid": "95084eb4-185b-4fb8-8e62-4eabd9180c92",
          "showTitle": false,
          "title": ""
        },
        "id": "NCMS5X91Z04r"
      },
      "outputs": [],
      "source": [
        "def loss_fn(outputs, targets):\n",
        "    return torch.nn.BCEWithLogitsLoss()(outputs, targets)"
      ]
    },
    {
      "cell_type": "code",
      "execution_count": null,
      "metadata": {
        "application/vnd.databricks.v1+cell": {
          "cellMetadata": {
            "byteLimit": 2048000,
            "rowLimit": 10000
          },
          "inputWidgets": {},
          "nuid": "86328917-e419-4a0b-84d6-207f1e8b3e08",
          "showTitle": false,
          "title": ""
        },
        "id": "071xH4N9Z04r"
      },
      "outputs": [],
      "source": [
        "# optimizer\n",
        "optimizer = torch.optim.AdamW(model.parameters(), lr=LEARNING_RATE, weight_decay=0.1)"
      ]
    },
    {
      "cell_type": "code",
      "execution_count": null,
      "metadata": {
        "application/vnd.databricks.v1+cell": {
          "cellMetadata": {
            "byteLimit": 2048000,
            "rowLimit": 10000
          },
          "inputWidgets": {},
          "nuid": "be4f9e74-2dc7-4de3-8c99-b1afee02bde9",
          "showTitle": false,
          "title": ""
        },
        "id": "omjBd7baZ04r"
      },
      "outputs": [],
      "source": [
        "# LR scheduler\n",
        "scheduler = torch.optim.lr_scheduler.StepLR(optimizer, step_size=2, gamma=0.01)"
      ]
    },
    {
      "cell_type": "code",
      "execution_count": null,
      "metadata": {
        "application/vnd.databricks.v1+cell": {
          "cellMetadata": {
            "byteLimit": 2048000,
            "rowLimit": 10000
          },
          "inputWidgets": {},
          "nuid": "cac03047-6909-4ae4-bf55-db57669f0bd4",
          "showTitle": false,
          "title": ""
        },
        "id": "epTR6OxSZ04r"
      },
      "outputs": [],
      "source": [
        "def train(epoch):\n",
        "    model.train()\n",
        "\n",
        "    losses = []\n",
        "\n",
        "    t_fin_targets=[]\n",
        "    t_fin_outputs=[]\n",
        "\n",
        "    for _,data in enumerate(training_loader, 0):\n",
        "        ids = data['ids'].to(device, dtype = torch.long)\n",
        "        mask = data['mask'].to(device, dtype = torch.long)\n",
        "        #token_type_ids = data['token_type_ids'].to(device, dtype = torch.long)\n",
        "        targets = data['targets'].to(device, dtype = torch.float)\n",
        "\n",
        "        # forward\n",
        "        outputs = model(ids, mask) #, token_type_ids)\n",
        "\n",
        "        t_fin_targets.extend(targets.cpu().detach().numpy().tolist())\n",
        "        # apply SIGMOID to get multilabel predictions\n",
        "        t_fin_outputs.extend(torch.sigmoid(outputs).cpu().detach().numpy().tolist())\n",
        "\n",
        "        #optimizer.zero_grad()\n",
        "        loss = loss_fn(outputs, targets)\n",
        "        losses.append(loss.item())\n",
        "\n",
        "        #if _%2000==0:\n",
        "         #   print(f'Epoch: {epoch}, Loss:  {loss.item()}')\n",
        "\n",
        "        # backward\n",
        "        optimizer.zero_grad()\n",
        "        loss.backward()\n",
        "        # clipping\n",
        "        nn.utils.clip_grad_norm_(model.parameters(), max_norm=1.0)\n",
        "        optimizer.step()\n",
        "\n",
        "    return t_fin_outputs, t_fin_targets, np.mean(losses)"
      ]
    },
    {
      "cell_type": "code",
      "execution_count": null,
      "metadata": {
        "application/vnd.databricks.v1+cell": {
          "cellMetadata": {
            "byteLimit": 2048000,
            "rowLimit": 10000
          },
          "inputWidgets": {},
          "nuid": "e705f07d-4771-45bc-9134-a0bc6ebfe76b",
          "showTitle": false,
          "title": ""
        },
        "id": "wftUdBiTZ04r"
      },
      "outputs": [],
      "source": [
        "def validation(epoch):\n",
        "    model.eval()\n",
        "\n",
        "    fin_targets=[]\n",
        "    fin_outputs=[]\n",
        "\n",
        "    with torch.no_grad(): #disable gradient calculation, useful for evaluation\n",
        "        for _, data in enumerate(testing_loader, 0):\n",
        "\n",
        "            ids = data['ids'].to(device, dtype = torch.long)\n",
        "            mask = data['mask'].to(device, dtype = torch.long)\n",
        "            #token_type_ids = data['token_type_ids'].to(device, dtype = torch.long)\n",
        "            targets = data['targets'].to(device, dtype = torch.float)\n",
        "\n",
        "            outputs = model(ids, mask) #, token_type_ids)\n",
        "            fin_targets.extend(targets.cpu().detach().numpy().tolist())\n",
        "            fin_outputs.extend(torch.sigmoid(outputs).cpu().detach().numpy().tolist())\n",
        "    return fin_outputs, fin_targets"
      ]
    },
    {
      "cell_type": "code",
      "execution_count": null,
      "metadata": {
        "application/vnd.databricks.v1+cell": {
          "cellMetadata": {
            "byteLimit": 2048000,
            "rowLimit": 10000
          },
          "inputWidgets": {},
          "nuid": "d7b1b5e7-d530-4cf5-8d2b-160330402308",
          "showTitle": false,
          "title": ""
        },
        "id": "iJHowkdQZ04v"
      },
      "outputs": [],
      "source": [
        "metrics_train_eval = {}"
      ]
    },
    {
      "cell_type": "code",
      "execution_count": null,
      "metadata": {
        "application/vnd.databricks.v1+cell": {
          "cellMetadata": {
            "byteLimit": 2048000,
            "rowLimit": 10000
          },
          "inputWidgets": {},
          "nuid": "4d006171-3684-4e69-9c16-f2e93ce1a719",
          "showTitle": false,
          "title": ""
        },
        "id": "j6ynhHcRZ04v",
        "outputId": "2fdc941c-b2de-457a-ea63-6978120f9e99"
      },
      "outputs": [
        {
          "output_type": "stream",
          "name": "stdout",
          "text": [
            "Epoch: 0\nTrain Accuracy Score = 0.19316778707641652\nTrain F1 Score (Micro) = 0.4623540856031128\nTrain F1 Score (Macro) = 0.43469021758934145\nTrain loss = 0.5248795203995287\nEval Accuracy Score = 0.25\nEval F1 Score (Micro) = 0.6008719778042014\nEval F1 Score (Macro) = 0.5726316176815321\n-------------------------------------------------------------------\nEpoch: 1\nTrain Accuracy Score = 0.28851694333927835\nTrain F1 Score (Micro) = 0.6366811124668658\nTrain F1 Score (Macro) = 0.616465848212889\nTrain loss = 0.4365006941452361\nEval Accuracy Score = 0.2893401015228426\nEval F1 Score (Micro) = 0.6143273635985006\nEval F1 Score (Macro) = 0.5878124038183544\n-------------------------------------------------------------------\nEpoch: 2\nTrain Accuracy Score = 0.34929345589244065\nTrain F1 Score (Micro) = 0.7024867509172441\nTrain F1 Score (Macro) = 0.6878058262043778\nTrain loss = 0.3844891156543765\nEval Accuracy Score = 0.28045685279187815\nEval F1 Score (Micro) = 0.6330203442879498\nEval F1 Score (Macro) = 0.6049233538691109\n-------------------------------------------------------------------\nEpoch: 3\nTrain Accuracy Score = 0.42022225270956237\nTrain F1 Score (Micro) = 0.7566301413371446\nTrain F1 Score (Macro) = 0.7450719239467655\nTrain loss = 0.3352013240780747\nEval Accuracy Score = 0.30076142131979694\nEval F1 Score (Micro) = 0.6410154700515669\nEval F1 Score (Macro) = 0.6164163602406529\n-------------------------------------------------------------------\nEpoch: 4\nTrain Accuracy Score = 0.499931403484703\nTrain F1 Score (Micro) = 0.8064465898473996\nTrain F1 Score (Macro) = 0.797908749797667\nTrain loss = 0.2846462885408025\nEval Accuracy Score = 0.3020304568527919\nEval F1 Score (Micro) = 0.6262543518328896\nEval F1 Score (Macro) = 0.6063362911386995\n-------------------------------------------------------------------\nEpoch: 5\nTrain Accuracy Score = 0.5904788036767732\nTrain F1 Score (Micro) = 0.8528261369736942\nTrain F1 Score (Macro) = 0.8461814925863756\nTrain loss = 0.234511721552464\nEval Accuracy Score = 0.27093908629441626\nEval F1 Score (Micro) = 0.6240833654959475\nEval F1 Score (Macro) = 0.6061657045307646\n-------------------------------------------------------------------\nEpoch: 6\nTrain Accuracy Score = 0.6716970777884483\nTrain F1 Score (Micro) = 0.888029424032154\nTrain F1 Score (Macro) = 0.8831092230329874\nTrain loss = 0.19236624936916327\nEval Accuracy Score = 0.2868020304568528\nEval F1 Score (Micro) = 0.6195673744790633\nEval F1 Score (Macro) = 0.5978313355283994\n-------------------------------------------------------------------\nEpoch: 7\nTrain Accuracy Score = 0.7490739470434902\nTrain F1 Score (Micro) = 0.9183888179153828\nTrain F1 Score (Macro) = 0.91489800820149\nTrain loss = 0.15459973567671942\nEval Accuracy Score = 0.27284263959390864\nEval F1 Score (Micro) = 0.6216895418519235\nEval F1 Score (Macro) = 0.6019733370454246\n-------------------------------------------------------------------\nEpoch: 8\nTrain Accuracy Score = 0.8014816847304157\nTrain F1 Score (Micro) = 0.9360718678942856\nTrain F1 Score (Macro) = 0.9337941138618023\nTrain loss = 0.12684449337814985\nEval Accuracy Score = 0.24492385786802032\nEval F1 Score (Micro) = 0.6222711429095579\nEval F1 Score (Macro) = 0.6086984819148918\n-------------------------------------------------------------------\nEpoch: 9\nTrain Accuracy Score = 0.8566332830292221\nTrain F1 Score (Micro) = 0.9554946682464455\nTrain F1 Score (Macro) = 0.9539969916042309\nTrain loss = 0.10184014608201228\nEval Accuracy Score = 0.2614213197969543\nEval F1 Score (Micro) = 0.6186604723190089\nEval F1 Score (Macro) = 0.5990978443213036\n-------------------------------------------------------------------\n"
          ]
        }
      ],
      "source": [
        "for epoch in range(EPOCHS):\n",
        "\n",
        "    print(f'Epoch: {epoch}')\n",
        "\n",
        "    # training ----------------------------------------------------------------\n",
        "    train_outputs, train_targets, train_loss = train(epoch)\n",
        "    # put to 1 predictions with value >= 0.5\n",
        "    train_outputs = np.array(train_outputs) >= 0.5\n",
        "\n",
        "    train_accuracy = metrics.accuracy_score(train_targets, train_outputs)\n",
        "    train_f1_score_micro = metrics.f1_score(train_targets, train_outputs, average='micro')\n",
        "    train_f1_score_macro = metrics.f1_score(train_targets, train_outputs, average='macro')\n",
        "\n",
        "    metrics_train_eval[epoch] = {'Train Accuracy Score' : train_accuracy,\n",
        "                        'Train F1 Score (Micro)' : train_f1_score_micro,\n",
        "                        'Train F1 Score (Macro)' : train_f1_score_macro}\n",
        "\n",
        "    print(f\"Train Accuracy Score = {train_accuracy}\")\n",
        "    print(f\"Train F1 Score (Micro) = {train_f1_score_micro}\")\n",
        "    print(f\"Train F1 Score (Macro) = {train_f1_score_macro}\")\n",
        "    print(f\"Train loss = {train_loss}\")\n",
        "\n",
        "\n",
        "    # validation --------------------------------------------------------------\n",
        "\n",
        "    eval_outputs, eval_targets = validation(epoch)\n",
        "    # put to 1 predictions with value >= 0.5\n",
        "    eval_outputs = np.array(eval_outputs) >= 0.5\n",
        "\n",
        "    eval_accuracy = metrics.accuracy_score(eval_targets, eval_outputs)\n",
        "    eval_f1_score_micro = metrics.f1_score(eval_targets, eval_outputs, average='micro')\n",
        "    eval_f1_score_macro = metrics.f1_score(eval_targets, eval_outputs, average='macro')\n",
        "\n",
        "    metrics_train_eval[epoch].update({\n",
        "        'Eval Accuracy Score': eval_accuracy,\n",
        "        'Eval F1 Score (Micro)': eval_f1_score_micro,\n",
        "        'Eval F1 Score (Macro)': eval_f1_score_macro\n",
        "    })\n",
        "\n",
        "    print(f\"Eval Accuracy Score = {eval_accuracy}\")\n",
        "    print(f\"Eval F1 Score (Micro) = {eval_f1_score_micro}\")\n",
        "    print(f\"Eval F1 Score (Macro) = {eval_f1_score_macro}\")\n",
        "\n",
        "    # Adjust the learning rate\n",
        "    #scheduler.step()\n",
        "\n",
        "    print('-------------------------------------------------------------------')"
      ]
    },
    {
      "cell_type": "code",
      "execution_count": null,
      "metadata": {
        "application/vnd.databricks.v1+cell": {
          "cellMetadata": {
            "byteLimit": 2048000,
            "rowLimit": 10000
          },
          "inputWidgets": {},
          "nuid": "fd546411-f6ce-450b-91d3-89ec7680d8fa",
          "showTitle": false,
          "title": ""
        },
        "id": "Y4ac7J6DZ04v",
        "outputId": "d88e2d2e-e00c-4dea-f415-8be95a9276f4"
      },
      "outputs": [
        {
          "output_type": "execute_result",
          "data": {
            "text/plain": [
              "0.2614213197969543"
            ]
          },
          "execution_count": 55,
          "metadata": {}
        }
      ],
      "source": [
        "metrics.accuracy_score(eval_targets, eval_outputs)"
      ]
    },
    {
      "cell_type": "markdown",
      "metadata": {
        "application/vnd.databricks.v1+cell": {
          "cellMetadata": {},
          "inputWidgets": {},
          "nuid": "ecf5fb72-19ab-4cd9-b6e6-888810b22258",
          "showTitle": false,
          "title": ""
        },
        "id": "oYCMzHH8Z04w"
      },
      "source": [
        "è possibile che la calcoli considerando i vettori di predizioni come elementi da confrontare"
      ]
    },
    {
      "cell_type": "code",
      "execution_count": null,
      "metadata": {
        "application/vnd.databricks.v1+cell": {
          "cellMetadata": {
            "byteLimit": 2048000,
            "rowLimit": 10000
          },
          "inputWidgets": {},
          "nuid": "61dc71c9-b25f-45e3-9598-16d9181d3662",
          "showTitle": false,
          "title": ""
        },
        "id": "VuFW36S_Z04w",
        "outputId": "dd2646cd-9fc4-43cb-c980-d05f24355e15"
      },
      "outputs": [
        {
          "output_type": "execute_result",
          "data": {
            "text/plain": [
              "0.5"
            ]
          },
          "execution_count": 73,
          "metadata": {}
        }
      ],
      "source": [
        "metrics.accuracy_score([0.0, 0.0, 1.0, 0.0, 0.0, 0.0], [ True, False, False, False, False,  True])"
      ]
    },
    {
      "cell_type": "code",
      "execution_count": null,
      "metadata": {
        "application/vnd.databricks.v1+cell": {
          "cellMetadata": {
            "byteLimit": 2048000,
            "rowLimit": 10000
          },
          "inputWidgets": {},
          "nuid": "95486930-86db-4050-8e0a-19052fe095c6",
          "showTitle": false,
          "title": ""
        },
        "id": "ES4LcLYrZ04w",
        "outputId": "fb1e2779-393a-4c70-8ae2-e3896e7cfb43"
      },
      "outputs": [
        {
          "output_type": "execute_result",
          "data": {
            "text/plain": [
              "0.0"
            ]
          },
          "execution_count": 74,
          "metadata": {}
        }
      ],
      "source": [
        "metrics.accuracy_score([[0.0, 0.0, 1.0, 0.0, 0.0, 0.0], [0.0, 0.0, 1.0, 0.0, 0.0, 0.0]], [[ True, False, False, False, False,  True], [ True, False, False, False, False,  True]])"
      ]
    },
    {
      "cell_type": "code",
      "execution_count": null,
      "metadata": {
        "application/vnd.databricks.v1+cell": {
          "cellMetadata": {
            "byteLimit": 2048000,
            "rowLimit": 10000
          },
          "inputWidgets": {},
          "nuid": "4dfacdf0-b0a0-41a4-8a7a-1452b216fa41",
          "showTitle": false,
          "title": ""
        },
        "id": "5V8VGOXFZ04w",
        "outputId": "4869a28b-e7e4-46f3-fdd0-8ab33eb135ad"
      },
      "outputs": [
        {
          "output_type": "execute_result",
          "data": {
            "text/plain": [
              "0.0"
            ]
          },
          "execution_count": 75,
          "metadata": {}
        }
      ],
      "source": [
        "metrics.accuracy_score([[1,0,1], [1,0, 1]], [[True,False, False], [True,False, False]])"
      ]
    },
    {
      "cell_type": "markdown",
      "metadata": {
        "application/vnd.databricks.v1+cell": {
          "cellMetadata": {},
          "inputWidgets": {},
          "nuid": "655d97ef-d046-4ec2-b149-57418ddc485b",
          "showTitle": false,
          "title": ""
        },
        "id": "AufLD9PaZ04x"
      },
      "source": [
        "Accuracy score con vettori confronta gli elementi come unici"
      ]
    },
    {
      "cell_type": "code",
      "execution_count": null,
      "metadata": {
        "application/vnd.databricks.v1+cell": {
          "cellMetadata": {
            "byteLimit": 2048000,
            "rowLimit": 10000
          },
          "inputWidgets": {},
          "nuid": "1615db3a-f65b-43ba-a050-6ca65489750d",
          "showTitle": false,
          "title": ""
        },
        "id": "oDGB87ugZ04x",
        "outputId": "c1bd7e25-e457-4968-e3c1-ed56e0bfc16d"
      },
      "outputs": [
        {
          "output_type": "execute_result",
          "data": {
            "text/plain": [
              "0.6666666666666666"
            ]
          },
          "execution_count": 83,
          "metadata": {}
        }
      ],
      "source": [
        "metrics.accuracy_score([1,0,1,1,0, 1], [True,False, False, True,False, False])"
      ]
    },
    {
      "cell_type": "code",
      "execution_count": null,
      "metadata": {
        "application/vnd.databricks.v1+cell": {
          "cellMetadata": {
            "byteLimit": 2048000,
            "rowLimit": 10000
          },
          "inputWidgets": {},
          "nuid": "9815424d-c9e2-4d72-8bf2-b4bf8332c96a",
          "showTitle": false,
          "title": ""
        },
        "id": "v8oupD5qZ04x",
        "outputId": "007dc68d-6b65-4e17-bcd3-aa85a5d61e50"
      },
      "outputs": [
        {
          "output_type": "execute_result",
          "data": {
            "text/plain": [
              "0.6666666666666666"
            ]
          },
          "execution_count": 82,
          "metadata": {}
        }
      ],
      "source": [
        "metrics.accuracy_score([1,0,1], [True,False, False])"
      ]
    },
    {
      "cell_type": "code",
      "execution_count": null,
      "metadata": {
        "application/vnd.databricks.v1+cell": {
          "cellMetadata": {
            "byteLimit": 2048000,
            "rowLimit": 10000
          },
          "inputWidgets": {},
          "nuid": "bf0db6e7-13b6-4584-b4a8-b3a57a050d72",
          "showTitle": false,
          "title": ""
        },
        "id": "hoH2W2wJZ04x",
        "outputId": "429770b9-df4c-44a1-a405-8661b566e56d"
      },
      "outputs": [
        {
          "output_type": "execute_result",
          "data": {
            "text/plain": [
              "0.6666666666666666"
            ]
          },
          "execution_count": 79,
          "metadata": {}
        }
      ],
      "source": [
        "metrics.f1_score([[1,0,1], [1,0, 1]], [[True,False, False], [True,False, False]], average='micro')"
      ]
    },
    {
      "cell_type": "code",
      "execution_count": null,
      "metadata": {
        "application/vnd.databricks.v1+cell": {
          "cellMetadata": {
            "byteLimit": 2048000,
            "rowLimit": 10000
          },
          "inputWidgets": {},
          "nuid": "e9cb551c-7ae4-4153-8c46-67272e907171",
          "showTitle": false,
          "title": ""
        },
        "id": "wbyBjeutZ04x",
        "outputId": "dade1748-77f9-49f2-993a-705fe1940f73"
      },
      "outputs": [
        {
          "output_type": "stream",
          "name": "stderr",
          "text": [
            "/databricks/python/lib/python3.10/site-packages/sklearn/metrics/_classification.py:1592: UndefinedMetricWarning: F-score is ill-defined and being set to 0.0 in labels with no true nor predicted samples. Use `zero_division` parameter to control this behavior.\n  _warn_prf(average, \"true nor predicted\", \"F-score is\", len(true_sum))\n"
          ]
        },
        {
          "output_type": "execute_result",
          "data": {
            "text/plain": [
              "0.3333333333333333"
            ]
          },
          "execution_count": 80,
          "metadata": {}
        }
      ],
      "source": [
        "metrics.f1_score([[1,0,1], [1,0, 1]], [[True,False, False], [True,False, False]], average='macro')"
      ]
    },
    {
      "cell_type": "code",
      "execution_count": null,
      "metadata": {
        "application/vnd.databricks.v1+cell": {
          "cellMetadata": {
            "byteLimit": 2048000,
            "rowLimit": 10000
          },
          "inputWidgets": {},
          "nuid": "d507a363-40cd-40d1-983f-cc0703f8865d",
          "showTitle": false,
          "title": ""
        },
        "id": "2fP2NP9dZ04x",
        "outputId": "787a57eb-742c-4794-86d5-244a4836d29b"
      },
      "outputs": [
        {
          "output_type": "execute_result",
          "data": {
            "text/plain": [
              "0.6666666666666666"
            ]
          },
          "execution_count": 76,
          "metadata": {}
        }
      ],
      "source": [
        "metrics.accuracy_score([1,0,1],[True,False, False])"
      ]
    },
    {
      "cell_type": "code",
      "execution_count": null,
      "metadata": {
        "application/vnd.databricks.v1+cell": {
          "cellMetadata": {
            "byteLimit": 2048000,
            "rowLimit": 10000
          },
          "inputWidgets": {},
          "nuid": "4fdeb1f5-f361-48b9-9dc5-fd7210f4d13e",
          "showTitle": false,
          "title": ""
        },
        "id": "Svi3kPEJZ04y",
        "outputId": "d43eae28-cc90-4168-c114-8f734b6f0241"
      },
      "outputs": [
        {
          "output_type": "execute_result",
          "data": {
            "text/plain": [
              "array([[ True, False, False, False, False,  True],\n",
              "       [False, False,  True,  True, False, False],\n",
              "       [ True, False, False, False, False, False],\n",
              "       ...,\n",
              "       [False, False,  True, False, False,  True],\n",
              "       [False,  True, False, False, False, False],\n",
              "       [False, False,  True, False, False, False]])"
            ]
          },
          "execution_count": 43,
          "metadata": {}
        }
      ],
      "source": [
        "eval_outputs"
      ]
    },
    {
      "cell_type": "code",
      "execution_count": null,
      "metadata": {
        "application/vnd.databricks.v1+cell": {
          "cellMetadata": {
            "byteLimit": 2048000,
            "rowLimit": 10000
          },
          "inputWidgets": {},
          "nuid": "cd2c9927-6186-4377-9c86-321fa5a37d99",
          "showTitle": false,
          "title": ""
        },
        "id": "t845cnb6Z04y",
        "outputId": "c4188b88-2878-45e5-8f93-b0241c7924c9"
      },
      "outputs": [
        {
          "output_type": "execute_result",
          "data": {
            "text/plain": [
              "[[1.0, 0.0, 0.0, 0.0, 0.0, 0.0],\n",
              " [0.0, 0.0, 1.0, 1.0, 1.0, 0.0],\n",
              " [1.0, 0.0, 0.0, 0.0, 0.0, 1.0],\n",
              " [0.0, 0.0, 1.0, 0.0, 0.0, 0.0],\n",
              " [0.0, 0.0, 0.0, 1.0, 0.0, 0.0],\n",
              " [0.0, 0.0, 1.0, 0.0, 1.0, 0.0],\n",
              " [1.0, 0.0, 0.0, 0.0, 0.0, 1.0],\n",
              " [0.0, 0.0, 0.0, 0.0, 0.0, 0.0],\n",
              " [0.0, 0.0, 0.0, 0.0, 0.0, 1.0],\n",
              " [0.0, 0.0, 1.0, 0.0, 0.0, 1.0],\n",
              " [0.0, 0.0, 1.0, 0.0, 1.0, 1.0],\n",
              " [0.0, 1.0, 0.0, 0.0, 0.0, 0.0],\n",
              " [0.0, 0.0, 0.0, 0.0, 0.0, 1.0],\n",
              " [0.0, 0.0, 1.0, 0.0, 1.0, 0.0],\n",
              " [0.0, 1.0, 0.0, 1.0, 0.0, 1.0],\n",
              " [0.0, 0.0, 0.0, 1.0, 0.0, 1.0],\n",
              " [0.0, 0.0, 0.0, 0.0, 0.0, 1.0],\n",
              " [0.0, 0.0, 0.0, 0.0, 0.0, 0.0],\n",
              " [0.0, 0.0, 0.0, 0.0, 0.0, 1.0],\n",
              " [1.0, 0.0, 0.0, 0.0, 0.0, 0.0],\n",
              " [0.0, 0.0, 1.0, 0.0, 1.0, 0.0],\n",
              " [0.0, 0.0, 0.0, 1.0, 0.0, 0.0],\n",
              " [1.0, 0.0, 0.0, 0.0, 0.0, 1.0],\n",
              " [0.0, 0.0, 1.0, 0.0, 0.0, 1.0],\n",
              " [1.0, 0.0, 1.0, 1.0, 0.0, 0.0],\n",
              " [0.0, 0.0, 1.0, 0.0, 1.0, 0.0],\n",
              " [0.0, 0.0, 1.0, 0.0, 0.0, 0.0],\n",
              " [0.0, 1.0, 1.0, 0.0, 0.0, 1.0],\n",
              " [0.0, 0.0, 0.0, 0.0, 0.0, 0.0],\n",
              " [0.0, 0.0, 0.0, 1.0, 0.0, 0.0],\n",
              " [0.0, 0.0, 0.0, 0.0, 1.0, 0.0],\n",
              " [0.0, 0.0, 1.0, 0.0, 0.0, 0.0],\n",
              " [0.0, 0.0, 0.0, 1.0, 1.0, 0.0],\n",
              " [1.0, 1.0, 0.0, 1.0, 0.0, 0.0],\n",
              " [0.0, 0.0, 1.0, 0.0, 0.0, 0.0],\n",
              " [0.0, 0.0, 0.0, 0.0, 1.0, 1.0],\n",
              " [0.0, 0.0, 0.0, 0.0, 0.0, 1.0],\n",
              " [0.0, 0.0, 1.0, 0.0, 1.0, 0.0],\n",
              " [0.0, 0.0, 0.0, 0.0, 0.0, 1.0],\n",
              " [0.0, 0.0, 0.0, 1.0, 0.0, 1.0],\n",
              " [1.0, 0.0, 0.0, 0.0, 0.0, 1.0],\n",
              " [0.0, 0.0, 0.0, 0.0, 0.0, 0.0],\n",
              " [1.0, 1.0, 0.0, 0.0, 0.0, 1.0],\n",
              " [1.0, 0.0, 0.0, 1.0, 0.0, 1.0],\n",
              " [0.0, 1.0, 0.0, 0.0, 1.0, 0.0],\n",
              " [0.0, 0.0, 0.0, 0.0, 0.0, 0.0],\n",
              " [1.0, 0.0, 0.0, 0.0, 0.0, 0.0],\n",
              " [0.0, 0.0, 1.0, 1.0, 0.0, 0.0],\n",
              " [0.0, 0.0, 1.0, 0.0, 0.0, 0.0],\n",
              " [0.0, 0.0, 0.0, 0.0, 1.0, 1.0],\n",
              " [0.0, 0.0, 0.0, 0.0, 0.0, 0.0],\n",
              " [0.0, 0.0, 0.0, 0.0, 0.0, 0.0],\n",
              " [0.0, 1.0, 1.0, 0.0, 1.0, 0.0],\n",
              " [0.0, 1.0, 0.0, 1.0, 0.0, 1.0],\n",
              " [0.0, 1.0, 0.0, 1.0, 0.0, 1.0],\n",
              " [0.0, 1.0, 0.0, 1.0, 0.0, 0.0],\n",
              " [0.0, 1.0, 0.0, 0.0, 0.0, 0.0],\n",
              " [0.0, 0.0, 0.0, 0.0, 0.0, 0.0],\n",
              " [0.0, 0.0, 0.0, 0.0, 0.0, 0.0],\n",
              " [0.0, 0.0, 1.0, 0.0, 1.0, 0.0],\n",
              " [0.0, 0.0, 0.0, 0.0, 0.0, 0.0],\n",
              " [0.0, 0.0, 1.0, 0.0, 0.0, 1.0],\n",
              " [0.0, 0.0, 0.0, 0.0, 0.0, 1.0],\n",
              " [1.0, 1.0, 1.0, 0.0, 0.0, 0.0],\n",
              " [0.0, 0.0, 1.0, 0.0, 1.0, 0.0],\n",
              " [0.0, 1.0, 0.0, 0.0, 0.0, 0.0],\n",
              " [0.0, 0.0, 0.0, 1.0, 0.0, 0.0],\n",
              " [0.0, 0.0, 0.0, 0.0, 0.0, 0.0],\n",
              " [0.0, 0.0, 0.0, 1.0, 0.0, 0.0],\n",
              " [1.0, 0.0, 0.0, 1.0, 0.0, 0.0],\n",
              " [0.0, 0.0, 0.0, 1.0, 0.0, 0.0],\n",
              " [0.0, 1.0, 1.0, 0.0, 0.0, 0.0],\n",
              " [0.0, 1.0, 0.0, 0.0, 0.0, 0.0],\n",
              " [0.0, 0.0, 0.0, 1.0, 0.0, 1.0],\n",
              " [1.0, 0.0, 0.0, 0.0, 0.0, 1.0],\n",
              " [1.0, 0.0, 0.0, 0.0, 0.0, 0.0],\n",
              " [0.0, 0.0, 0.0, 0.0, 0.0, 0.0],\n",
              " [0.0, 0.0, 0.0, 0.0, 1.0, 0.0],\n",
              " [0.0, 1.0, 0.0, 0.0, 0.0, 0.0],\n",
              " [0.0, 0.0, 0.0, 0.0, 0.0, 0.0],\n",
              " [0.0, 0.0, 0.0, 1.0, 0.0, 0.0],\n",
              " [0.0, 0.0, 0.0, 0.0, 0.0, 0.0],\n",
              " [0.0, 0.0, 0.0, 1.0, 0.0, 1.0],\n",
              " [0.0, 0.0, 0.0, 0.0, 0.0, 1.0],\n",
              " [0.0, 0.0, 1.0, 0.0, 0.0, 0.0],\n",
              " [0.0, 0.0, 0.0, 0.0, 1.0, 0.0],\n",
              " [0.0, 0.0, 0.0, 1.0, 1.0, 0.0],\n",
              " [1.0, 1.0, 1.0, 1.0, 0.0, 1.0],\n",
              " [1.0, 0.0, 0.0, 0.0, 0.0, 0.0],\n",
              " [0.0, 0.0, 0.0, 0.0, 0.0, 0.0],\n",
              " [0.0, 1.0, 0.0, 0.0, 0.0, 0.0],\n",
              " [0.0, 0.0, 1.0, 0.0, 0.0, 0.0],\n",
              " [0.0, 0.0, 0.0, 1.0, 0.0, 0.0],\n",
              " [0.0, 0.0, 0.0, 0.0, 0.0, 1.0],\n",
              " [0.0, 0.0, 0.0, 1.0, 0.0, 1.0],\n",
              " [0.0, 0.0, 0.0, 0.0, 0.0, 0.0],\n",
              " [0.0, 0.0, 1.0, 0.0, 1.0, 0.0],\n",
              " [0.0, 0.0, 0.0, 0.0, 0.0, 1.0],\n",
              " [1.0, 0.0, 0.0, 0.0, 0.0, 0.0],\n",
              " [1.0, 0.0, 0.0, 0.0, 1.0, 0.0],\n",
              " [0.0, 0.0, 0.0, 0.0, 0.0, 0.0],\n",
              " [1.0, 0.0, 0.0, 0.0, 0.0, 0.0],\n",
              " [0.0, 0.0, 1.0, 1.0, 1.0, 0.0],\n",
              " [1.0, 0.0, 0.0, 1.0, 0.0, 0.0],\n",
              " [0.0, 1.0, 0.0, 0.0, 0.0, 0.0],\n",
              " [1.0, 0.0, 0.0, 0.0, 0.0, 0.0],\n",
              " [1.0, 1.0, 0.0, 0.0, 0.0, 1.0],\n",
              " [0.0, 0.0, 0.0, 1.0, 0.0, 1.0],\n",
              " [0.0, 0.0, 1.0, 1.0, 1.0, 0.0],\n",
              " [0.0, 0.0, 1.0, 0.0, 1.0, 1.0],\n",
              " [0.0, 0.0, 1.0, 1.0, 1.0, 0.0],\n",
              " [0.0, 0.0, 0.0, 0.0, 0.0, 1.0],\n",
              " [0.0, 1.0, 0.0, 0.0, 0.0, 1.0],\n",
              " [0.0, 1.0, 0.0, 0.0, 0.0, 1.0],\n",
              " [0.0, 0.0, 0.0, 0.0, 1.0, 1.0],\n",
              " [1.0, 0.0, 0.0, 0.0, 0.0, 0.0],\n",
              " [1.0, 0.0, 0.0, 0.0, 0.0, 0.0],\n",
              " [1.0, 0.0, 1.0, 0.0, 0.0, 0.0],\n",
              " [1.0, 0.0, 0.0, 1.0, 1.0, 1.0],\n",
              " [1.0, 0.0, 0.0, 0.0, 0.0, 0.0],\n",
              " [0.0, 0.0, 0.0, 1.0, 0.0, 0.0],\n",
              " [0.0, 0.0, 0.0, 1.0, 0.0, 0.0],\n",
              " [0.0, 0.0, 0.0, 0.0, 0.0, 0.0],\n",
              " [0.0, 0.0, 0.0, 0.0, 0.0, 0.0],\n",
              " [0.0, 0.0, 0.0, 1.0, 0.0, 0.0],\n",
              " [0.0, 0.0, 0.0, 0.0, 0.0, 1.0],\n",
              " [1.0, 0.0, 1.0, 0.0, 0.0, 0.0],\n",
              " [0.0, 1.0, 1.0, 0.0, 0.0, 0.0],\n",
              " [0.0, 0.0, 1.0, 1.0, 1.0, 0.0],\n",
              " [1.0, 0.0, 0.0, 0.0, 0.0, 0.0],\n",
              " [1.0, 0.0, 0.0, 0.0, 0.0, 0.0],\n",
              " [0.0, 1.0, 0.0, 1.0, 1.0, 1.0],\n",
              " [0.0, 0.0, 0.0, 0.0, 0.0, 0.0],\n",
              " [0.0, 0.0, 1.0, 1.0, 1.0, 0.0],\n",
              " [1.0, 0.0, 0.0, 0.0, 0.0, 1.0],\n",
              " [0.0, 0.0, 1.0, 0.0, 1.0, 0.0],\n",
              " [1.0, 0.0, 0.0, 0.0, 0.0, 0.0],\n",
              " [0.0, 0.0, 0.0, 1.0, 0.0, 0.0],\n",
              " [0.0, 1.0, 0.0, 0.0, 0.0, 1.0],\n",
              " [0.0, 0.0, 1.0, 0.0, 0.0, 0.0],\n",
              " [1.0, 0.0, 1.0, 0.0, 0.0, 0.0],\n",
              " [0.0, 0.0, 0.0, 0.0, 1.0, 0.0],\n",
              " [1.0, 0.0, 0.0, 0.0, 0.0, 1.0],\n",
              " [0.0, 1.0, 1.0, 0.0, 0.0, 0.0],\n",
              " [0.0, 0.0, 0.0, 0.0, 0.0, 0.0],\n",
              " [1.0, 1.0, 0.0, 0.0, 0.0, 0.0],\n",
              " [1.0, 0.0, 0.0, 0.0, 0.0, 0.0],\n",
              " [0.0, 0.0, 1.0, 1.0, 0.0, 1.0],\n",
              " [0.0, 0.0, 0.0, 0.0, 0.0, 0.0],\n",
              " [1.0, 0.0, 0.0, 1.0, 1.0, 1.0],\n",
              " [1.0, 1.0, 0.0, 0.0, 0.0, 1.0],\n",
              " [0.0, 1.0, 0.0, 1.0, 1.0, 0.0],\n",
              " [0.0, 0.0, 0.0, 0.0, 0.0, 1.0],\n",
              " [0.0, 1.0, 1.0, 0.0, 0.0, 0.0],\n",
              " [0.0, 0.0, 0.0, 1.0, 0.0, 1.0],\n",
              " [1.0, 0.0, 0.0, 0.0, 0.0, 0.0],\n",
              " [0.0, 0.0, 0.0, 1.0, 0.0, 1.0],\n",
              " [0.0, 0.0, 1.0, 1.0, 1.0, 1.0],\n",
              " [0.0, 0.0, 0.0, 0.0, 0.0, 0.0],\n",
              " [0.0, 0.0, 1.0, 0.0, 1.0, 1.0],\n",
              " [0.0, 1.0, 1.0, 0.0, 0.0, 1.0],\n",
              " [0.0, 0.0, 1.0, 0.0, 0.0, 0.0],\n",
              " [1.0, 0.0, 1.0, 1.0, 1.0, 1.0],\n",
              " [0.0, 0.0, 0.0, 0.0, 1.0, 1.0],\n",
              " [0.0, 0.0, 0.0, 0.0, 0.0, 0.0],\n",
              " [0.0, 1.0, 0.0, 0.0, 0.0, 0.0],\n",
              " [0.0, 1.0, 1.0, 0.0, 0.0, 0.0],\n",
              " [0.0, 1.0, 0.0, 1.0, 0.0, 0.0],\n",
              " [1.0, 0.0, 0.0, 0.0, 0.0, 0.0],\n",
              " [0.0, 1.0, 0.0, 0.0, 0.0, 1.0],\n",
              " [0.0, 0.0, 0.0, 1.0, 0.0, 0.0],\n",
              " [0.0, 0.0, 0.0, 0.0, 0.0, 1.0],\n",
              " [0.0, 0.0, 0.0, 0.0, 1.0, 0.0],\n",
              " [0.0, 0.0, 1.0, 0.0, 0.0, 1.0],\n",
              " [1.0, 0.0, 1.0, 0.0, 0.0, 0.0],\n",
              " [0.0, 0.0, 0.0, 0.0, 0.0, 0.0],\n",
              " [0.0, 1.0, 0.0, 0.0, 0.0, 1.0],\n",
              " [1.0, 0.0, 0.0, 0.0, 1.0, 0.0],\n",
              " [1.0, 0.0, 1.0, 0.0, 0.0, 0.0],\n",
              " [0.0, 0.0, 0.0, 1.0, 0.0, 0.0],\n",
              " [0.0, 0.0, 0.0, 0.0, 1.0, 1.0],\n",
              " [0.0, 0.0, 0.0, 0.0, 1.0, 0.0],\n",
              " [1.0, 0.0, 0.0, 0.0, 0.0, 0.0],\n",
              " [1.0, 1.0, 1.0, 0.0, 0.0, 0.0],\n",
              " [1.0, 0.0, 0.0, 0.0, 0.0, 0.0],\n",
              " [1.0, 1.0, 0.0, 0.0, 0.0, 1.0],\n",
              " [1.0, 0.0, 0.0, 0.0, 0.0, 0.0],\n",
              " [0.0, 1.0, 0.0, 1.0, 0.0, 0.0],\n",
              " [0.0, 0.0, 0.0, 0.0, 0.0, 0.0],\n",
              " [1.0, 1.0, 1.0, 0.0, 0.0, 0.0],\n",
              " [0.0, 1.0, 1.0, 0.0, 1.0, 1.0],\n",
              " [0.0, 0.0, 1.0, 1.0, 0.0, 1.0],\n",
              " [0.0, 0.0, 0.0, 0.0, 0.0, 1.0],\n",
              " [0.0, 0.0, 1.0, 0.0, 0.0, 1.0],\n",
              " [0.0, 0.0, 1.0, 0.0, 0.0, 0.0],\n",
              " [1.0, 0.0, 0.0, 0.0, 0.0, 0.0],\n",
              " [1.0, 0.0, 1.0, 0.0, 0.0, 0.0],\n",
              " [0.0, 1.0, 0.0, 0.0, 0.0, 0.0],\n",
              " [0.0, 0.0, 1.0, 0.0, 0.0, 0.0],\n",
              " [0.0, 0.0, 0.0, 1.0, 0.0, 0.0],\n",
              " [1.0, 0.0, 0.0, 0.0, 0.0, 0.0],\n",
              " [0.0, 1.0, 1.0, 0.0, 0.0, 0.0],\n",
              " [0.0, 0.0, 1.0, 0.0, 0.0, 0.0],\n",
              " [0.0, 0.0, 0.0, 1.0, 0.0, 0.0],\n",
              " [0.0, 0.0, 0.0, 0.0, 0.0, 0.0],\n",
              " [0.0, 0.0, 0.0, 0.0, 0.0, 0.0],\n",
              " [0.0, 1.0, 0.0, 1.0, 1.0, 0.0],\n",
              " [0.0, 1.0, 1.0, 0.0, 0.0, 0.0],\n",
              " [1.0, 1.0, 1.0, 0.0, 0.0, 0.0],\n",
              " [0.0, 0.0, 0.0, 0.0, 0.0, 0.0],\n",
              " [0.0, 0.0, 0.0, 0.0, 0.0, 1.0],\n",
              " [0.0, 0.0, 1.0, 0.0, 0.0, 1.0],\n",
              " [0.0, 0.0, 1.0, 1.0, 0.0, 0.0],\n",
              " [0.0, 0.0, 1.0, 1.0, 1.0, 1.0],\n",
              " [0.0, 0.0, 1.0, 0.0, 1.0, 1.0],\n",
              " [1.0, 0.0, 1.0, 0.0, 1.0, 1.0],\n",
              " [0.0, 0.0, 0.0, 1.0, 0.0, 0.0],\n",
              " [0.0, 0.0, 1.0, 0.0, 1.0, 0.0],\n",
              " [1.0, 0.0, 0.0, 0.0, 0.0, 1.0],\n",
              " [1.0, 0.0, 0.0, 0.0, 0.0, 0.0],\n",
              " [0.0, 0.0, 0.0, 0.0, 1.0, 0.0],\n",
              " [0.0, 0.0, 0.0, 0.0, 0.0, 1.0],\n",
              " [1.0, 1.0, 0.0, 1.0, 0.0, 1.0],\n",
              " [1.0, 0.0, 0.0, 0.0, 0.0, 0.0],\n",
              " [0.0, 1.0, 0.0, 0.0, 1.0, 0.0],\n",
              " [0.0, 1.0, 0.0, 0.0, 0.0, 0.0],\n",
              " [0.0, 0.0, 0.0, 0.0, 0.0, 0.0],\n",
              " [1.0, 0.0, 0.0, 0.0, 0.0, 0.0],\n",
              " [0.0, 0.0, 1.0, 0.0, 0.0, 0.0],\n",
              " [0.0, 1.0, 0.0, 0.0, 0.0, 0.0],\n",
              " [1.0, 0.0, 1.0, 0.0, 0.0, 0.0],\n",
              " [0.0, 0.0, 0.0, 1.0, 0.0, 1.0],\n",
              " [1.0, 0.0, 0.0, 0.0, 0.0, 1.0],\n",
              " [1.0, 0.0, 1.0, 0.0, 0.0, 0.0],\n",
              " [0.0, 0.0, 0.0, 0.0, 0.0, 1.0],\n",
              " [0.0, 0.0, 0.0, 1.0, 0.0, 0.0],\n",
              " [0.0, 0.0, 1.0, 0.0, 0.0, 0.0],\n",
              " [0.0, 0.0, 0.0, 0.0, 0.0, 1.0],\n",
              " [0.0, 1.0, 1.0, 0.0, 1.0, 1.0],\n",
              " [0.0, 1.0, 0.0, 1.0, 0.0, 1.0],\n",
              " [0.0, 0.0, 1.0, 0.0, 0.0, 0.0],\n",
              " [1.0, 1.0, 0.0, 0.0, 1.0, 0.0],\n",
              " [1.0, 0.0, 0.0, 0.0, 0.0, 0.0],\n",
              " [0.0, 1.0, 0.0, 1.0, 0.0, 0.0],\n",
              " [0.0, 0.0, 1.0, 0.0, 0.0, 0.0],\n",
              " [0.0, 1.0, 0.0, 1.0, 1.0, 1.0],\n",
              " [0.0, 0.0, 1.0, 0.0, 0.0, 1.0],\n",
              " [0.0, 0.0, 0.0, 1.0, 0.0, 1.0],\n",
              " [0.0, 0.0, 1.0, 0.0, 0.0, 0.0],\n",
              " [0.0, 0.0, 0.0, 0.0, 0.0, 1.0],\n",
              " [1.0, 0.0, 0.0, 0.0, 0.0, 0.0],\n",
              " [0.0, 1.0, 1.0, 0.0, 0.0, 0.0],\n",
              " [0.0, 0.0, 1.0, 0.0, 0.0, 0.0],\n",
              " [1.0, 0.0, 0.0, 1.0, 0.0, 0.0],\n",
              " [0.0, 0.0, 1.0, 0.0, 0.0, 0.0],\n",
              " [0.0, 1.0, 1.0, 0.0, 1.0, 0.0],\n",
              " [0.0, 0.0, 0.0, 0.0, 1.0, 0.0],\n",
              " [0.0, 1.0, 0.0, 1.0, 0.0, 0.0],\n",
              " [1.0, 1.0, 0.0, 0.0, 0.0, 0.0],\n",
              " [0.0, 0.0, 0.0, 1.0, 0.0, 1.0],\n",
              " [0.0, 0.0, 0.0, 0.0, 1.0, 0.0],\n",
              " [0.0, 1.0, 1.0, 0.0, 0.0, 0.0],\n",
              " [0.0, 1.0, 0.0, 0.0, 0.0, 1.0],\n",
              " [0.0, 1.0, 0.0, 1.0, 0.0, 1.0],\n",
              " [0.0, 1.0, 1.0, 0.0, 0.0, 0.0],\n",
              " [0.0, 0.0, 0.0, 1.0, 1.0, 1.0],\n",
              " [1.0, 0.0, 0.0, 0.0, 1.0, 0.0],\n",
              " [1.0, 0.0, 0.0, 0.0, 0.0, 0.0],\n",
              " [1.0, 0.0, 0.0, 0.0, 0.0, 0.0],\n",
              " [0.0, 1.0, 1.0, 0.0, 0.0, 1.0],\n",
              " [0.0, 0.0, 0.0, 0.0, 1.0, 0.0],\n",
              " [0.0, 0.0, 0.0, 1.0, 0.0, 1.0],\n",
              " [1.0, 0.0, 0.0, 0.0, 0.0, 0.0],\n",
              " [0.0, 0.0, 1.0, 0.0, 0.0, 0.0],\n",
              " [0.0, 0.0, 1.0, 0.0, 0.0, 0.0],\n",
              " [1.0, 0.0, 0.0, 0.0, 0.0, 0.0],\n",
              " [0.0, 0.0, 0.0, 1.0, 0.0, 0.0],\n",
              " [0.0, 0.0, 0.0, 1.0, 0.0, 0.0],\n",
              " [1.0, 0.0, 1.0, 0.0, 0.0, 1.0],\n",
              " [0.0, 0.0, 0.0, 0.0, 0.0, 0.0],\n",
              " [0.0, 0.0, 0.0, 1.0, 0.0, 0.0],\n",
              " [0.0, 0.0, 0.0, 0.0, 0.0, 1.0],\n",
              " [0.0, 0.0, 1.0, 0.0, 0.0, 0.0],\n",
              " [0.0, 0.0, 0.0, 0.0, 1.0, 1.0],\n",
              " [0.0, 0.0, 0.0, 0.0, 0.0, 1.0],\n",
              " [0.0, 0.0, 1.0, 0.0, 0.0, 1.0],\n",
              " [1.0, 0.0, 1.0, 0.0, 1.0, 0.0],\n",
              " [1.0, 1.0, 0.0, 0.0, 0.0, 0.0],\n",
              " [0.0, 0.0, 1.0, 0.0, 0.0, 0.0],\n",
              " [0.0, 0.0, 1.0, 0.0, 1.0, 0.0],\n",
              " [0.0, 0.0, 0.0, 1.0, 0.0, 1.0],\n",
              " [0.0, 0.0, 0.0, 0.0, 1.0, 0.0],\n",
              " [1.0, 0.0, 0.0, 1.0, 0.0, 1.0],\n",
              " [0.0, 1.0, 1.0, 1.0, 1.0, 0.0],\n",
              " [0.0, 0.0, 0.0, 1.0, 0.0, 0.0],\n",
              " [0.0, 1.0, 0.0, 0.0, 0.0, 0.0],\n",
              " [0.0, 0.0, 0.0, 0.0, 0.0, 1.0],\n",
              " [1.0, 0.0, 0.0, 0.0, 0.0, 0.0],\n",
              " [1.0, 1.0, 0.0, 1.0, 0.0, 1.0],\n",
              " [1.0, 0.0, 0.0, 0.0, 0.0, 0.0],\n",
              " [1.0, 0.0, 0.0, 0.0, 0.0, 0.0],\n",
              " [0.0, 0.0, 1.0, 0.0, 0.0, 0.0],\n",
              " [0.0, 0.0, 0.0, 0.0, 0.0, 0.0],\n",
              " [0.0, 1.0, 0.0, 1.0, 1.0, 0.0],\n",
              " [1.0, 0.0, 0.0, 0.0, 0.0, 0.0],\n",
              " [0.0, 0.0, 1.0, 1.0, 0.0, 0.0],\n",
              " [0.0, 0.0, 0.0, 0.0, 1.0, 0.0],\n",
              " [0.0, 1.0, 0.0, 0.0, 0.0, 0.0],\n",
              " [0.0, 0.0, 0.0, 0.0, 0.0, 1.0],\n",
              " [0.0, 1.0, 0.0, 1.0, 0.0, 0.0],\n",
              " [0.0, 1.0, 1.0, 1.0, 1.0, 0.0],\n",
              " [1.0, 0.0, 0.0, 1.0, 0.0, 0.0],\n",
              " [0.0, 0.0, 0.0, 0.0, 0.0, 1.0],\n",
              " [0.0, 0.0, 1.0, 1.0, 1.0, 1.0],\n",
              " [1.0, 0.0, 0.0, 1.0, 0.0, 0.0],\n",
              " [0.0, 0.0, 0.0, 0.0, 0.0, 0.0],\n",
              " [1.0, 1.0, 0.0, 1.0, 0.0, 1.0],\n",
              " [0.0, 1.0, 0.0, 1.0, 0.0, 0.0],\n",
              " [0.0, 1.0, 0.0, 1.0, 0.0, 1.0],\n",
              " [0.0, 0.0, 1.0, 0.0, 0.0, 0.0],\n",
              " [0.0, 0.0, 1.0, 0.0, 1.0, 0.0],\n",
              " [1.0, 1.0, 1.0, 0.0, 0.0, 1.0],\n",
              " [1.0, 0.0, 1.0, 0.0, 0.0, 0.0],\n",
              " [0.0, 0.0, 0.0, 0.0, 0.0, 1.0],\n",
              " [1.0, 1.0, 0.0, 0.0, 0.0, 0.0],\n",
              " [0.0, 0.0, 0.0, 0.0, 0.0, 1.0],\n",
              " [1.0, 0.0, 0.0, 0.0, 0.0, 0.0],\n",
              " [0.0, 1.0, 0.0, 1.0, 0.0, 0.0],\n",
              " [0.0, 1.0, 1.0, 0.0, 0.0, 0.0],\n",
              " [1.0, 0.0, 0.0, 0.0, 0.0, 0.0],\n",
              " [0.0, 0.0, 0.0, 0.0, 1.0, 1.0],\n",
              " [0.0, 0.0, 0.0, 1.0, 0.0, 1.0],\n",
              " [0.0, 0.0, 0.0, 0.0, 0.0, 1.0],\n",
              " [0.0, 0.0, 1.0, 0.0, 0.0, 0.0],\n",
              " [0.0, 0.0, 0.0, 1.0, 0.0, 0.0],\n",
              " [0.0, 0.0, 1.0, 0.0, 0.0, 0.0],\n",
              " [0.0, 0.0, 0.0, 0.0, 1.0, 1.0],\n",
              " [0.0, 0.0, 1.0, 0.0, 1.0, 0.0],\n",
              " [1.0, 0.0, 0.0, 1.0, 0.0, 0.0],\n",
              " [0.0, 0.0, 1.0, 0.0, 1.0, 1.0],\n",
              " [0.0, 1.0, 1.0, 0.0, 0.0, 0.0],\n",
              " [0.0, 0.0, 0.0, 1.0, 0.0, 0.0],\n",
              " [1.0, 0.0, 0.0, 1.0, 0.0, 1.0],\n",
              " [0.0, 0.0, 0.0, 0.0, 0.0, 1.0],\n",
              " [0.0, 0.0, 0.0, 0.0, 1.0, 0.0],\n",
              " [0.0, 0.0, 0.0, 0.0, 1.0, 0.0],\n",
              " [0.0, 0.0, 1.0, 0.0, 0.0, 0.0],\n",
              " [0.0, 1.0, 1.0, 0.0, 1.0, 1.0],\n",
              " [0.0, 0.0, 0.0, 1.0, 0.0, 1.0],\n",
              " [0.0, 1.0, 1.0, 0.0, 0.0, 0.0],\n",
              " [0.0, 1.0, 1.0, 1.0, 1.0, 1.0],\n",
              " [0.0, 0.0, 0.0, 0.0, 0.0, 0.0],\n",
              " [1.0, 0.0, 0.0, 0.0, 0.0, 1.0],\n",
              " [0.0, 0.0, 0.0, 0.0, 0.0, 1.0],\n",
              " [0.0, 0.0, 0.0, 1.0, 0.0, 1.0],\n",
              " [1.0, 0.0, 0.0, 1.0, 0.0, 1.0],\n",
              " [0.0, 0.0, 1.0, 0.0, 0.0, 0.0],\n",
              " [0.0, 0.0, 1.0, 0.0, 0.0, 0.0],\n",
              " [0.0, 0.0, 0.0, 1.0, 1.0, 1.0],\n",
              " [0.0, 0.0, 0.0, 1.0, 0.0, 1.0],\n",
              " [1.0, 0.0, 1.0, 0.0, 1.0, 0.0],\n",
              " [1.0, 1.0, 0.0, 1.0, 0.0, 0.0],\n",
              " [0.0, 0.0, 0.0, 1.0, 0.0, 1.0],\n",
              " [0.0, 1.0, 0.0, 0.0, 1.0, 0.0],\n",
              " [0.0, 0.0, 0.0, 1.0, 1.0, 0.0],\n",
              " [0.0, 1.0, 0.0, 0.0, 0.0, 1.0],\n",
              " [1.0, 1.0, 0.0, 1.0, 0.0, 0.0],\n",
              " [0.0, 0.0, 0.0, 0.0, 1.0, 1.0],\n",
              " [1.0, 1.0, 0.0, 1.0, 0.0, 1.0],\n",
              " [0.0, 0.0, 0.0, 0.0, 0.0, 1.0],\n",
              " [0.0, 1.0, 0.0, 1.0, 0.0, 0.0],\n",
              " [0.0, 0.0, 0.0, 1.0, 1.0, 1.0],\n",
              " [0.0, 0.0, 1.0, 0.0, 0.0, 1.0],\n",
              " [0.0, 0.0, 0.0, 0.0, 0.0, 0.0],\n",
              " [1.0, 0.0, 0.0, 0.0, 0.0, 0.0],\n",
              " [0.0, 1.0, 1.0, 0.0, 1.0, 0.0],\n",
              " [0.0, 1.0, 1.0, 0.0, 0.0, 0.0],\n",
              " [1.0, 1.0, 1.0, 1.0, 0.0, 1.0],\n",
              " [0.0, 0.0, 0.0, 1.0, 0.0, 1.0],\n",
              " [0.0, 0.0, 0.0, 1.0, 1.0, 0.0],\n",
              " [0.0, 1.0, 1.0, 1.0, 1.0, 0.0],\n",
              " [1.0, 1.0, 0.0, 1.0, 0.0, 0.0],\n",
              " [0.0, 0.0, 0.0, 1.0, 0.0, 0.0],\n",
              " [0.0, 0.0, 0.0, 0.0, 0.0, 1.0],\n",
              " [0.0, 0.0, 1.0, 0.0, 1.0, 0.0],\n",
              " [0.0, 0.0, 0.0, 0.0, 0.0, 1.0],\n",
              " [1.0, 0.0, 0.0, 0.0, 0.0, 1.0],\n",
              " [0.0, 1.0, 1.0, 0.0, 1.0, 0.0],\n",
              " [0.0, 0.0, 1.0, 1.0, 0.0, 1.0],\n",
              " [0.0, 1.0, 0.0, 0.0, 0.0, 0.0],\n",
              " [1.0, 1.0, 0.0, 1.0, 0.0, 1.0],\n",
              " [0.0, 0.0, 1.0, 0.0, 0.0, 0.0],\n",
              " [0.0, 0.0, 0.0, 0.0, 0.0, 1.0],\n",
              " [1.0, 0.0, 0.0, 0.0, 0.0, 0.0],\n",
              " [0.0, 0.0, 1.0, 0.0, 1.0, 0.0],\n",
              " [0.0, 0.0, 0.0, 0.0, 0.0, 1.0],\n",
              " [0.0, 1.0, 1.0, 0.0, 0.0, 0.0],\n",
              " [0.0, 1.0, 1.0, 0.0, 1.0, 1.0],\n",
              " [0.0, 0.0, 0.0, 0.0, 1.0, 1.0],\n",
              " [0.0, 0.0, 1.0, 0.0, 1.0, 1.0],\n",
              " [1.0, 1.0, 0.0, 0.0, 0.0, 0.0],\n",
              " [0.0, 1.0, 0.0, 0.0, 0.0, 1.0],\n",
              " [0.0, 1.0, 0.0, 0.0, 0.0, 0.0],\n",
              " [0.0, 0.0, 1.0, 0.0, 0.0, 0.0],\n",
              " [0.0, 0.0, 1.0, 0.0, 0.0, 0.0],\n",
              " [0.0, 0.0, 1.0, 0.0, 0.0, 0.0],\n",
              " [0.0, 1.0, 0.0, 1.0, 0.0, 1.0],\n",
              " [0.0, 0.0, 0.0, 1.0, 0.0, 0.0],\n",
              " [0.0, 0.0, 1.0, 0.0, 0.0, 0.0],\n",
              " [1.0, 0.0, 0.0, 0.0, 0.0, 0.0],\n",
              " [0.0, 0.0, 1.0, 0.0, 1.0, 0.0],\n",
              " [0.0, 1.0, 1.0, 1.0, 0.0, 0.0],\n",
              " [1.0, 0.0, 0.0, 0.0, 0.0, 0.0],\n",
              " [0.0, 0.0, 1.0, 0.0, 1.0, 0.0],\n",
              " [0.0, 1.0, 0.0, 1.0, 0.0, 0.0],\n",
              " [0.0, 0.0, 1.0, 0.0, 0.0, 1.0],\n",
              " [0.0, 1.0, 1.0, 0.0, 0.0, 1.0],\n",
              " [0.0, 0.0, 1.0, 0.0, 0.0, 1.0],\n",
              " [0.0, 0.0, 1.0, 0.0, 0.0, 1.0],\n",
              " [0.0, 1.0, 0.0, 1.0, 0.0, 1.0],\n",
              " [0.0, 1.0, 0.0, 1.0, 0.0, 0.0],\n",
              " [1.0, 1.0, 0.0, 0.0, 0.0, 0.0],\n",
              " [0.0, 0.0, 0.0, 0.0, 0.0, 1.0],\n",
              " [0.0, 0.0, 0.0, 0.0, 1.0, 0.0],\n",
              " [0.0, 0.0, 0.0, 0.0, 0.0, 1.0],\n",
              " [0.0, 1.0, 0.0, 0.0, 0.0, 0.0],\n",
              " [0.0, 1.0, 0.0, 1.0, 1.0, 1.0],\n",
              " [0.0, 0.0, 0.0, 1.0, 1.0, 1.0],\n",
              " [0.0, 1.0, 1.0, 0.0, 1.0, 0.0],\n",
              " [0.0, 0.0, 0.0, 1.0, 0.0, 1.0],\n",
              " [0.0, 0.0, 0.0, 0.0, 1.0, 0.0],\n",
              " [0.0, 0.0, 0.0, 0.0, 0.0, 1.0],\n",
              " [0.0, 1.0, 1.0, 0.0, 0.0, 0.0],\n",
              " [1.0, 0.0, 0.0, 0.0, 0.0, 0.0],\n",
              " [0.0, 0.0, 0.0, 0.0, 0.0, 1.0],\n",
              " [0.0, 1.0, 0.0, 0.0, 0.0, 0.0],\n",
              " [0.0, 1.0, 0.0, 1.0, 0.0, 0.0],\n",
              " [1.0, 0.0, 0.0, 0.0, 0.0, 1.0],\n",
              " [0.0, 0.0, 1.0, 0.0, 0.0, 0.0],\n",
              " [0.0, 1.0, 1.0, 0.0, 0.0, 0.0],\n",
              " [0.0, 0.0, 1.0, 0.0, 0.0, 0.0],\n",
              " [0.0, 1.0, 0.0, 1.0, 0.0, 0.0],\n",
              " [0.0, 0.0, 0.0, 0.0, 0.0, 1.0],\n",
              " [0.0, 0.0, 1.0, 0.0, 1.0, 0.0],\n",
              " [0.0, 0.0, 1.0, 0.0, 0.0, 0.0],\n",
              " [0.0, 0.0, 0.0, 0.0, 0.0, 0.0],\n",
              " [0.0, 0.0, 0.0, 0.0, 0.0, 1.0],\n",
              " [0.0, 0.0, 1.0, 0.0, 0.0, 1.0],\n",
              " [0.0, 0.0, 1.0, 0.0, 0.0, 1.0],\n",
              " [1.0, 0.0, 0.0, 0.0, 0.0, 0.0],\n",
              " [0.0, 1.0, 1.0, 0.0, 0.0, 1.0],\n",
              " [0.0, 0.0, 0.0, 1.0, 0.0, 1.0],\n",
              " [0.0, 0.0, 0.0, 1.0, 0.0, 0.0],\n",
              " [0.0, 0.0, 0.0, 0.0, 0.0, 0.0],\n",
              " [0.0, 0.0, 1.0, 1.0, 0.0, 0.0],\n",
              " [1.0, 0.0, 0.0, 0.0, 0.0, 1.0],\n",
              " [1.0, 0.0, 1.0, 0.0, 1.0, 1.0],\n",
              " [1.0, 0.0, 0.0, 0.0, 0.0, 0.0],\n",
              " [0.0, 0.0, 1.0, 0.0, 1.0, 0.0],\n",
              " [1.0, 0.0, 0.0, 0.0, 0.0, 0.0],\n",
              " [0.0, 0.0, 0.0, 0.0, 0.0, 0.0],\n",
              " [0.0, 1.0, 1.0, 1.0, 1.0, 0.0],\n",
              " [0.0, 0.0, 0.0, 0.0, 0.0, 1.0],\n",
              " [1.0, 0.0, 0.0, 1.0, 0.0, 1.0],\n",
              " [0.0, 0.0, 0.0, 0.0, 1.0, 1.0],\n",
              " [0.0, 1.0, 0.0, 1.0, 1.0, 0.0],\n",
              " [0.0, 0.0, 1.0, 0.0, 1.0, 1.0],\n",
              " [0.0, 1.0, 0.0, 1.0, 0.0, 0.0],\n",
              " [0.0, 0.0, 0.0, 0.0, 1.0, 1.0],\n",
              " [0.0, 0.0, 0.0, 1.0, 1.0, 0.0],\n",
              " [0.0, 0.0, 0.0, 1.0, 0.0, 1.0],\n",
              " [0.0, 0.0, 0.0, 1.0, 0.0, 1.0],\n",
              " [0.0, 0.0, 0.0, 0.0, 0.0, 0.0],\n",
              " [0.0, 0.0, 1.0, 0.0, 1.0, 0.0],\n",
              " [0.0, 0.0, 1.0, 0.0, 1.0, 0.0],\n",
              " [1.0, 0.0, 1.0, 0.0, 0.0, 0.0],\n",
              " [0.0, 0.0, 1.0, 0.0, 1.0, 0.0],\n",
              " [1.0, 1.0, 1.0, 0.0, 0.0, 0.0],\n",
              " [1.0, 0.0, 0.0, 0.0, 0.0, 0.0],\n",
              " [0.0, 0.0, 0.0, 1.0, 0.0, 0.0],\n",
              " [1.0, 1.0, 0.0, 0.0, 0.0, 0.0],\n",
              " [1.0, 1.0, 0.0, 1.0, 0.0, 0.0],\n",
              " [1.0, 0.0, 0.0, 0.0, 0.0, 0.0],\n",
              " [0.0, 0.0, 1.0, 0.0, 0.0, 1.0],\n",
              " [0.0, 1.0, 0.0, 1.0, 0.0, 1.0],\n",
              " [0.0, 1.0, 0.0, 1.0, 0.0, 1.0],\n",
              " [0.0, 0.0, 0.0, 0.0, 1.0, 0.0],\n",
              " [0.0, 0.0, 0.0, 1.0, 0.0, 1.0],\n",
              " [0.0, 0.0, 1.0, 0.0, 1.0, 0.0],\n",
              " [0.0, 0.0, 0.0, 0.0, 0.0, 1.0],\n",
              " [0.0, 0.0, 1.0, 0.0, 0.0, 0.0],\n",
              " [1.0, 1.0, 1.0, 0.0, 0.0, 0.0],\n",
              " [0.0, 0.0, 0.0, 1.0, 0.0, 0.0],\n",
              " [1.0, 0.0, 0.0, 0.0, 0.0, 0.0],\n",
              " [1.0, 1.0, 1.0, 0.0, 0.0, 0.0],\n",
              " [0.0, 0.0, 1.0, 0.0, 1.0, 0.0],\n",
              " [0.0, 1.0, 1.0, 0.0, 1.0, 0.0],\n",
              " [0.0, 0.0, 1.0, 0.0, 0.0, 0.0],\n",
              " [1.0, 0.0, 1.0, 0.0, 0.0, 0.0],\n",
              " [0.0, 0.0, 1.0, 1.0, 0.0, 0.0],\n",
              " [0.0, 0.0, 1.0, 0.0, 0.0, 0.0],\n",
              " [0.0, 0.0, 0.0, 0.0, 0.0, 1.0],\n",
              " [0.0, 0.0, 1.0, 0.0, 0.0, 0.0],\n",
              " [0.0, 0.0, 0.0, 1.0, 0.0, 1.0],\n",
              " [0.0, 0.0, 0.0, 0.0, 0.0, 0.0],\n",
              " [0.0, 0.0, 0.0, 0.0, 1.0, 0.0],\n",
              " [0.0, 0.0, 1.0, 0.0, 1.0, 0.0],\n",
              " [0.0, 1.0, 0.0, 0.0, 0.0, 0.0],\n",
              " [1.0, 0.0, 0.0, 0.0, 0.0, 0.0],\n",
              " [1.0, 0.0, 0.0, 0.0, 0.0, 0.0],\n",
              " [0.0, 1.0, 0.0, 0.0, 0.0, 1.0],\n",
              " [0.0, 1.0, 0.0, 0.0, 0.0, 1.0],\n",
              " [1.0, 1.0, 0.0, 0.0, 1.0, 1.0],\n",
              " [0.0, 0.0, 1.0, 1.0, 0.0, 1.0],\n",
              " [0.0, 0.0, 0.0, 0.0, 1.0, 1.0],\n",
              " [0.0, 0.0, 0.0, 1.0, 1.0, 1.0],\n",
              " [0.0, 1.0, 0.0, 1.0, 0.0, 0.0],\n",
              " [0.0, 0.0, 1.0, 0.0, 0.0, 0.0],\n",
              " [0.0, 0.0, 0.0, 0.0, 1.0, 1.0],\n",
              " [1.0, 0.0, 0.0, 0.0, 0.0, 0.0],\n",
              " [0.0, 0.0, 0.0, 0.0, 0.0, 0.0],\n",
              " [1.0, 0.0, 0.0, 0.0, 0.0, 0.0],\n",
              " [0.0, 0.0, 1.0, 0.0, 1.0, 1.0],\n",
              " [1.0, 0.0, 0.0, 0.0, 0.0, 0.0],\n",
              " [0.0, 1.0, 0.0, 1.0, 0.0, 0.0],\n",
              " [0.0, 0.0, 0.0, 1.0, 1.0, 1.0],\n",
              " [0.0, 0.0, 1.0, 0.0, 0.0, 1.0],\n",
              " [1.0, 0.0, 0.0, 0.0, 0.0, 1.0],\n",
              " [1.0, 0.0, 0.0, 0.0, 0.0, 0.0],\n",
              " [1.0, 0.0, 0.0, 0.0, 0.0, 0.0],\n",
              " [0.0, 0.0, 1.0, 0.0, 1.0, 0.0],\n",
              " [0.0, 0.0, 1.0, 1.0, 0.0, 0.0],\n",
              " [1.0, 1.0, 0.0, 0.0, 0.0, 1.0],\n",
              " [0.0, 0.0, 1.0, 1.0, 0.0, 0.0],\n",
              " [0.0, 0.0, 0.0, 0.0, 0.0, 1.0],\n",
              " [0.0, 0.0, 0.0, 0.0, 0.0, 1.0],\n",
              " [1.0, 0.0, 0.0, 0.0, 0.0, 0.0],\n",
              " [1.0, 0.0, 0.0, 0.0, 0.0, 0.0],\n",
              " [1.0, 0.0, 0.0, 0.0, 0.0, 0.0],\n",
              " [1.0, 1.0, 0.0, 0.0, 0.0, 0.0],\n",
              " [0.0, 0.0, 0.0, 0.0, 0.0, 0.0],\n",
              " [0.0, 1.0, 1.0, 0.0, 1.0, 1.0],\n",
              " [0.0, 0.0, 0.0, 0.0, 0.0, 1.0],\n",
              " [0.0, 0.0, 0.0, 0.0, 0.0, 1.0],\n",
              " [0.0, 0.0, 0.0, 0.0, 0.0, 0.0],\n",
              " [1.0, 1.0, 0.0, 0.0, 0.0, 0.0],\n",
              " [0.0, 0.0, 1.0, 0.0, 1.0, 1.0],\n",
              " [1.0, 0.0, 1.0, 1.0, 0.0, 1.0],\n",
              " [1.0, 0.0, 0.0, 0.0, 0.0, 0.0],\n",
              " [0.0, 0.0, 0.0, 1.0, 0.0, 1.0],\n",
              " [0.0, 0.0, 0.0, 0.0, 0.0, 1.0],\n",
              " [0.0, 0.0, 0.0, 1.0, 0.0, 1.0],\n",
              " [1.0, 0.0, 1.0, 0.0, 0.0, 0.0],\n",
              " [1.0, 0.0, 0.0, 0.0, 0.0, 0.0],\n",
              " [0.0, 1.0, 0.0, 0.0, 0.0, 1.0],\n",
              " [0.0, 0.0, 1.0, 0.0, 0.0, 0.0],\n",
              " [1.0, 1.0, 0.0, 1.0, 0.0, 1.0],\n",
              " [1.0, 1.0, 0.0, 0.0, 0.0, 1.0],\n",
              " [0.0, 0.0, 1.0, 0.0, 0.0, 0.0],\n",
              " [0.0, 0.0, 1.0, 0.0, 0.0, 0.0],\n",
              " [0.0, 1.0, 1.0, 0.0, 1.0, 1.0],\n",
              " [0.0, 0.0, 1.0, 0.0, 0.0, 0.0],\n",
              " [0.0, 1.0, 0.0, 0.0, 0.0, 1.0],\n",
              " [1.0, 0.0, 0.0, 0.0, 0.0, 0.0],\n",
              " [0.0, 1.0, 1.0, 0.0, 1.0, 0.0],\n",
              " [1.0, 0.0, 0.0, 0.0, 0.0, 0.0],\n",
              " [0.0, 1.0, 0.0, 0.0, 0.0, 0.0],\n",
              " [0.0, 0.0, 1.0, 0.0, 0.0, 0.0],\n",
              " [1.0, 0.0, 0.0, 0.0, 0.0, 1.0],\n",
              " [0.0, 1.0, 1.0, 0.0, 0.0, 1.0],\n",
              " [0.0, 1.0, 0.0, 0.0, 1.0, 0.0],\n",
              " [0.0, 0.0, 0.0, 0.0, 0.0, 1.0],\n",
              " [0.0, 0.0, 0.0, 0.0, 0.0, 1.0],\n",
              " [1.0, 0.0, 0.0, 0.0, 0.0, 0.0],\n",
              " [1.0, 0.0, 0.0, 0.0, 0.0, 0.0],\n",
              " [0.0, 0.0, 0.0, 0.0, 0.0, 0.0],\n",
              " [0.0, 0.0, 0.0, 0.0, 0.0, 0.0],\n",
              " [0.0, 1.0, 1.0, 0.0, 1.0, 0.0],\n",
              " [0.0, 0.0, 1.0, 0.0, 0.0, 0.0],\n",
              " [0.0, 1.0, 0.0, 0.0, 0.0, 1.0],\n",
              " [1.0, 0.0, 0.0, 0.0, 0.0, 1.0],\n",
              " [0.0, 0.0, 0.0, 0.0, 0.0, 1.0],\n",
              " [0.0, 1.0, 1.0, 0.0, 0.0, 1.0],\n",
              " [0.0, 0.0, 0.0, 0.0, 0.0, 1.0],\n",
              " [0.0, 1.0, 0.0, 0.0, 0.0, 0.0],\n",
              " [0.0, 0.0, 0.0, 1.0, 0.0, 0.0],\n",
              " [1.0, 0.0, 0.0, 0.0, 0.0, 1.0],\n",
              " [0.0, 0.0, 0.0, 1.0, 0.0, 0.0],\n",
              " [1.0, 0.0, 0.0, 0.0, 0.0, 0.0],\n",
              " [0.0, 1.0, 1.0, 1.0, 0.0, 1.0],\n",
              " [0.0, 0.0, 1.0, 0.0, 0.0, 1.0],\n",
              " [0.0, 0.0, 1.0, 0.0, 0.0, 0.0],\n",
              " [0.0, 0.0, 1.0, 0.0, 0.0, 0.0],\n",
              " [1.0, 0.0, 1.0, 0.0, 0.0, 0.0],\n",
              " [0.0, 0.0, 1.0, 0.0, 0.0, 0.0],\n",
              " [0.0, 1.0, 0.0, 0.0, 1.0, 1.0],\n",
              " [1.0, 0.0, 1.0, 1.0, 0.0, 1.0],\n",
              " [0.0, 0.0, 0.0, 1.0, 0.0, 1.0],\n",
              " [0.0, 0.0, 1.0, 1.0, 0.0, 1.0],\n",
              " [0.0, 0.0, 0.0, 0.0, 0.0, 0.0],\n",
              " [0.0, 0.0, 1.0, 0.0, 0.0, 0.0],\n",
              " [0.0, 1.0, 0.0, 1.0, 0.0, 0.0],\n",
              " [0.0, 1.0, 1.0, 1.0, 1.0, 1.0],\n",
              " [0.0, 0.0, 0.0, 0.0, 0.0, 1.0],\n",
              " [0.0, 1.0, 0.0, 1.0, 1.0, 0.0],\n",
              " [0.0, 1.0, 1.0, 1.0, 0.0, 0.0],\n",
              " [0.0, 1.0, 1.0, 0.0, 0.0, 0.0],\n",
              " [0.0, 1.0, 0.0, 0.0, 1.0, 0.0],\n",
              " [0.0, 0.0, 1.0, 0.0, 0.0, 0.0],\n",
              " [0.0, 1.0, 0.0, 0.0, 1.0, 1.0],\n",
              " [0.0, 1.0, 1.0, 0.0, 0.0, 0.0],\n",
              " [0.0, 0.0, 0.0, 1.0, 0.0, 0.0],\n",
              " [0.0, 0.0, 1.0, 1.0, 0.0, 0.0],\n",
              " [0.0, 0.0, 0.0, 0.0, 1.0, 0.0],\n",
              " [1.0, 0.0, 0.0, 0.0, 0.0, 1.0],\n",
              " [0.0, 0.0, 0.0, 0.0, 1.0, 1.0],\n",
              " [0.0, 1.0, 0.0, 1.0, 0.0, 0.0],\n",
              " [0.0, 0.0, 1.0, 1.0, 0.0, 0.0],\n",
              " [1.0, 0.0, 1.0, 0.0, 0.0, 0.0],\n",
              " [1.0, 1.0, 0.0, 1.0, 0.0, 1.0],\n",
              " [0.0, 0.0, 0.0, 0.0, 0.0, 1.0],\n",
              " [1.0, 0.0, 1.0, 0.0, 0.0, 1.0],\n",
              " [0.0, 0.0, 1.0, 0.0, 1.0, 0.0],\n",
              " [0.0, 1.0, 0.0, 1.0, 1.0, 1.0],\n",
              " [0.0, 0.0, 0.0, 1.0, 0.0, 1.0],\n",
              " [0.0, 1.0, 0.0, 0.0, 0.0, 1.0],\n",
              " [0.0, 0.0, 0.0, 1.0, 0.0, 0.0],\n",
              " [0.0, 1.0, 1.0, 0.0, 0.0, 0.0],\n",
              " [0.0, 0.0, 0.0, 1.0, 0.0, 1.0],\n",
              " [0.0, 0.0, 1.0, 1.0, 0.0, 0.0],\n",
              " [0.0, 0.0, 0.0, 0.0, 0.0, 1.0],\n",
              " [1.0, 1.0, 1.0, 0.0, 0.0, 0.0],\n",
              " [1.0, 1.0, 1.0, 0.0, 0.0, 1.0],\n",
              " [0.0, 1.0, 1.0, 1.0, 1.0, 0.0],\n",
              " [1.0, 0.0, 1.0, 0.0, 1.0, 1.0],\n",
              " [0.0, 0.0, 1.0, 0.0, 1.0, 0.0],\n",
              " [0.0, 0.0, 0.0, 1.0, 0.0, 0.0],\n",
              " [0.0, 1.0, 1.0, 0.0, 0.0, 1.0],\n",
              " [0.0, 0.0, 0.0, 1.0, 0.0, 1.0],\n",
              " [1.0, 1.0, 0.0, 0.0, 0.0, 0.0],\n",
              " [0.0, 0.0, 1.0, 0.0, 0.0, 1.0],\n",
              " [0.0, 0.0, 0.0, 0.0, 0.0, 0.0],\n",
              " [0.0, 1.0, 0.0, 1.0, 0.0, 0.0],\n",
              " [0.0, 0.0, 0.0, 0.0, 0.0, 1.0],\n",
              " [0.0, 0.0, 0.0, 1.0, 0.0, 0.0],\n",
              " [0.0, 1.0, 1.0, 0.0, 0.0, 0.0],\n",
              " [1.0, 0.0, 1.0, 0.0, 1.0, 0.0],\n",
              " [0.0, 0.0, 0.0, 0.0, 0.0, 1.0],\n",
              " [1.0, 0.0, 1.0, 0.0, 0.0, 0.0],\n",
              " [0.0, 0.0, 0.0, 0.0, 0.0, 0.0],\n",
              " [0.0, 1.0, 1.0, 0.0, 0.0, 0.0],\n",
              " [0.0, 0.0, 1.0, 1.0, 1.0, 0.0],\n",
              " [1.0, 1.0, 1.0, 0.0, 0.0, 1.0],\n",
              " [0.0, 0.0, 0.0, 0.0, 1.0, 0.0],\n",
              " [0.0, 0.0, 0.0, 1.0, 0.0, 1.0],\n",
              " [0.0, 0.0, 1.0, 0.0, 1.0, 0.0],\n",
              " [0.0, 0.0, 0.0, 0.0, 1.0, 0.0],\n",
              " [0.0, 1.0, 1.0, 0.0, 1.0, 1.0],\n",
              " [0.0, 0.0, 0.0, 1.0, 0.0, 0.0],\n",
              " [0.0, 0.0, 0.0, 1.0, 0.0, 0.0],\n",
              " [0.0, 0.0, 1.0, 1.0, 0.0, 0.0],\n",
              " [0.0, 0.0, 1.0, 0.0, 0.0, 0.0],\n",
              " [0.0, 0.0, 0.0, 0.0, 0.0, 1.0],\n",
              " [0.0, 0.0, 0.0, 0.0, 0.0, 0.0],\n",
              " [0.0, 0.0, 0.0, 0.0, 0.0, 0.0],\n",
              " [1.0, 1.0, 0.0, 0.0, 0.0, 0.0],\n",
              " [0.0, 1.0, 0.0, 1.0, 0.0, 0.0],\n",
              " [1.0, 0.0, 1.0, 0.0, 0.0, 1.0],\n",
              " [0.0, 1.0, 0.0, 0.0, 0.0, 1.0],\n",
              " [1.0, 0.0, 1.0, 0.0, 0.0, 0.0],\n",
              " [1.0, 0.0, 1.0, 0.0, 0.0, 0.0],\n",
              " [0.0, 0.0, 1.0, 0.0, 0.0, 0.0],\n",
              " [0.0, 1.0, 0.0, 1.0, 0.0, 0.0],\n",
              " [0.0, 1.0, 0.0, 0.0, 0.0, 0.0],\n",
              " [0.0, 0.0, 1.0, 0.0, 1.0, 0.0],\n",
              " [0.0, 1.0, 1.0, 0.0, 0.0, 0.0],\n",
              " [0.0, 0.0, 0.0, 0.0, 0.0, 1.0],\n",
              " [0.0, 0.0, 1.0, 1.0, 1.0, 1.0],\n",
              " [1.0, 0.0, 0.0, 0.0, 0.0, 0.0],\n",
              " [1.0, 0.0, 0.0, 0.0, 0.0, 0.0],\n",
              " [0.0, 1.0, 0.0, 0.0, 1.0, 1.0],\n",
              " [0.0, 0.0, 1.0, 0.0, 0.0, 1.0],\n",
              " [0.0, 1.0, 0.0, 0.0, 1.0, 1.0],\n",
              " [0.0, 0.0, 0.0, 0.0, 0.0, 1.0],\n",
              " [0.0, 0.0, 1.0, 1.0, 1.0, 1.0],\n",
              " [0.0, 1.0, 0.0, 0.0, 0.0, 1.0],\n",
              " [0.0, 0.0, 0.0, 1.0, 0.0, 1.0],\n",
              " [0.0, 0.0, 0.0, 0.0, 0.0, 1.0],\n",
              " [0.0, 0.0, 0.0, 0.0, 0.0, 1.0],\n",
              " [0.0, 1.0, 0.0, 0.0, 0.0, 1.0],\n",
              " [0.0, 0.0, 1.0, 0.0, 1.0, 0.0],\n",
              " [1.0, 0.0, 0.0, 0.0, 0.0, 1.0],\n",
              " [0.0, 0.0, 1.0, 0.0, 0.0, 0.0],\n",
              " [0.0, 0.0, 0.0, 0.0, 1.0, 0.0],\n",
              " [0.0, 0.0, 0.0, 0.0, 0.0, 1.0],\n",
              " [0.0, 1.0, 1.0, 0.0, 0.0, 0.0],\n",
              " [1.0, 0.0, 0.0, 0.0, 0.0, 1.0],\n",
              " [0.0, 1.0, 0.0, 0.0, 1.0, 1.0],\n",
              " [1.0, 0.0, 1.0, 0.0, 0.0, 0.0],\n",
              " [0.0, 0.0, 0.0, 0.0, 0.0, 1.0],\n",
              " [0.0, 1.0, 1.0, 0.0, 1.0, 1.0],\n",
              " [0.0, 0.0, 1.0, 0.0, 0.0, 0.0],\n",
              " [0.0, 1.0, 1.0, 0.0, 0.0, 0.0],\n",
              " [0.0, 0.0, 0.0, 0.0, 0.0, 0.0],\n",
              " [0.0, 1.0, 1.0, 1.0, 0.0, 1.0],\n",
              " [0.0, 0.0, 0.0, 0.0, 0.0, 1.0],\n",
              " [0.0, 0.0, 0.0, 1.0, 0.0, 0.0],\n",
              " [0.0, 1.0, 1.0, 0.0, 0.0, 0.0],\n",
              " [0.0, 0.0, 0.0, 1.0, 0.0, 1.0],\n",
              " [0.0, 1.0, 0.0, 1.0, 0.0, 1.0],\n",
              " [0.0, 0.0, 1.0, 0.0, 0.0, 0.0],\n",
              " [0.0, 0.0, 0.0, 0.0, 0.0, 0.0],\n",
              " [1.0, 0.0, 1.0, 0.0, 0.0, 0.0],\n",
              " [0.0, 1.0, 0.0, 0.0, 0.0, 1.0],\n",
              " [0.0, 0.0, 1.0, 0.0, 0.0, 1.0],\n",
              " [0.0, 0.0, 1.0, 0.0, 0.0, 0.0],\n",
              " [0.0, 0.0, 1.0, 1.0, 0.0, 0.0],\n",
              " [0.0, 0.0, 0.0, 1.0, 0.0, 1.0],\n",
              " [0.0, 0.0, 0.0, 1.0, 0.0, 0.0],\n",
              " [0.0, 0.0, 1.0, 0.0, 1.0, 0.0],\n",
              " [0.0, 0.0, 0.0, 1.0, 0.0, 0.0],\n",
              " [0.0, 1.0, 0.0, 1.0, 0.0, 0.0],\n",
              " [1.0, 0.0, 0.0, 0.0, 1.0, 0.0],\n",
              " [0.0, 1.0, 0.0, 0.0, 0.0, 1.0],\n",
              " [0.0, 0.0, 1.0, 0.0, 1.0, 0.0],\n",
              " [0.0, 1.0, 1.0, 0.0, 0.0, 0.0],\n",
              " [0.0, 0.0, 0.0, 0.0, 0.0, 1.0],\n",
              " [0.0, 1.0, 1.0, 0.0, 0.0, 0.0],\n",
              " [1.0, 0.0, 0.0, 0.0, 1.0, 0.0],\n",
              " [0.0, 0.0, 0.0, 0.0, 1.0, 1.0],\n",
              " [0.0, 0.0, 1.0, 0.0, 1.0, 0.0],\n",
              " [0.0, 0.0, 0.0, 0.0, 0.0, 1.0],\n",
              " [0.0, 0.0, 0.0, 1.0, 0.0, 0.0],\n",
              " [0.0, 0.0, 0.0, 0.0, 0.0, 0.0],\n",
              " [1.0, 0.0, 1.0, 1.0, 0.0, 0.0],\n",
              " [0.0, 0.0, 1.0, 0.0, 0.0, 0.0],\n",
              " [0.0, 0.0, 0.0, 0.0, 0.0, 1.0],\n",
              " [1.0, 1.0, 0.0, 1.0, 0.0, 0.0],\n",
              " [0.0, 0.0, 0.0, 0.0, 0.0, 1.0],\n",
              " [0.0, 1.0, 0.0, 1.0, 0.0, 0.0],\n",
              " [1.0, 0.0, 0.0, 0.0, 0.0, 0.0],\n",
              " [0.0, 1.0, 0.0, 1.0, 0.0, 0.0],\n",
              " [0.0, 0.0, 1.0, 0.0, 1.0, 0.0],\n",
              " [0.0, 1.0, 0.0, 1.0, 0.0, 1.0],\n",
              " [0.0, 1.0, 0.0, 1.0, 1.0, 0.0],\n",
              " [1.0, 0.0, 1.0, 0.0, 0.0, 0.0],\n",
              " [0.0, 1.0, 0.0, 1.0, 1.0, 0.0],\n",
              " [0.0, 1.0, 1.0, 0.0, 0.0, 1.0],\n",
              " [0.0, 0.0, 0.0, 1.0, 0.0, 1.0],\n",
              " [1.0, 0.0, 1.0, 0.0, 0.0, 0.0],\n",
              " [0.0, 0.0, 0.0, 0.0, 0.0, 1.0],\n",
              " [0.0, 1.0, 0.0, 0.0, 0.0, 0.0],\n",
              " [0.0, 0.0, 0.0, 0.0, 1.0, 1.0],\n",
              " [0.0, 0.0, 1.0, 0.0, 0.0, 0.0],\n",
              " [0.0, 0.0, 0.0, 1.0, 0.0, 1.0],\n",
              " [0.0, 0.0, 1.0, 0.0, 0.0, 0.0],\n",
              " [0.0, 0.0, 0.0, 1.0, 0.0, 1.0],\n",
              " [0.0, 0.0, 0.0, 0.0, 0.0, 1.0],\n",
              " [1.0, 1.0, 0.0, 0.0, 0.0, 1.0],\n",
              " [0.0, 0.0, 1.0, 0.0, 0.0, 0.0],\n",
              " [0.0, 0.0, 1.0, 0.0, 0.0, 0.0],\n",
              " [0.0, 1.0, 0.0, 1.0, 1.0, 0.0],\n",
              " [1.0, 1.0, 0.0, 0.0, 0.0, 1.0],\n",
              " [1.0, 0.0, 1.0, 0.0, 0.0, 0.0],\n",
              " [0.0, 0.0, 0.0, 0.0, 0.0, 1.0],\n",
              " [0.0, 0.0, 0.0, 0.0, 0.0, 1.0],\n",
              " [0.0, 0.0, 1.0, 0.0, 0.0, 0.0],\n",
              " [1.0, 0.0, 0.0, 0.0, 1.0, 1.0],\n",
              " [0.0, 0.0, 1.0, 0.0, 0.0, 1.0],\n",
              " [0.0, 1.0, 1.0, 1.0, 0.0, 0.0],\n",
              " [1.0, 1.0, 1.0, 0.0, 1.0, 1.0],\n",
              " [0.0, 1.0, 0.0, 1.0, 0.0, 1.0],\n",
              " [0.0, 0.0, 0.0, 0.0, 0.0, 1.0],\n",
              " [1.0, 0.0, 0.0, 0.0, 0.0, 0.0],\n",
              " [1.0, 1.0, 0.0, 1.0, 0.0, 0.0],\n",
              " [0.0, 0.0, 1.0, 0.0, 0.0, 0.0],\n",
              " [0.0, 1.0, 0.0, 0.0, 0.0, 0.0],\n",
              " [1.0, 0.0, 0.0, 0.0, 0.0, 1.0],\n",
              " [0.0, 1.0, 0.0, 0.0, 0.0, 1.0],\n",
              " [1.0, 0.0, 0.0, 0.0, 0.0, 1.0],\n",
              " [0.0, 0.0, 1.0, 0.0, 0.0, 1.0],\n",
              " [0.0, 1.0, 0.0, 0.0, 0.0, 0.0],\n",
              " [0.0, 0.0, 1.0, 1.0, 0.0, 0.0],\n",
              " [0.0, 0.0, 0.0, 0.0, 0.0, 0.0],\n",
              " [1.0, 1.0, 0.0, 0.0, 0.0, 0.0],\n",
              " [0.0, 1.0, 1.0, 0.0, 1.0, 0.0],\n",
              " [0.0, 1.0, 0.0, 1.0, 0.0, 0.0],\n",
              " [0.0, 0.0, 0.0, 0.0, 0.0, 1.0],\n",
              " [0.0, 0.0, 0.0, 0.0, 1.0, 0.0],\n",
              " [0.0, 0.0, 0.0, 0.0, 0.0, 0.0],\n",
              " [0.0, 0.0, 0.0, 0.0, 0.0, 1.0],\n",
              " [0.0, 0.0, 0.0, 1.0, 0.0, 0.0],\n",
              " [1.0, 0.0, 0.0, 0.0, 0.0, 0.0],\n",
              " [0.0, 0.0, 0.0, 0.0, 0.0, 1.0],\n",
              " [0.0, 0.0, 0.0, 0.0, 0.0, 0.0],\n",
              " [0.0, 0.0, 0.0, 0.0, 0.0, 0.0],\n",
              " [0.0, 0.0, 1.0, 0.0, 1.0, 1.0],\n",
              " [0.0, 1.0, 0.0, 1.0, 1.0, 0.0],\n",
              " [1.0, 0.0, 1.0, 0.0, 1.0, 0.0],\n",
              " [1.0, 0.0, 0.0, 0.0, 1.0, 1.0],\n",
              " [0.0, 0.0, 0.0, 0.0, 0.0, 0.0],\n",
              " [0.0, 1.0, 0.0, 0.0, 0.0, 1.0],\n",
              " [0.0, 0.0, 0.0, 0.0, 0.0, 1.0],\n",
              " [0.0, 1.0, 0.0, 0.0, 0.0, 1.0],\n",
              " [1.0, 0.0, 0.0, 0.0, 0.0, 0.0],\n",
              " [1.0, 0.0, 1.0, 0.0, 0.0, 0.0],\n",
              " [1.0, 0.0, 0.0, 0.0, 0.0, 1.0],\n",
              " [0.0, 0.0, 1.0, 0.0, 0.0, 0.0],\n",
              " [0.0, 0.0, 0.0, 0.0, 0.0, 1.0],\n",
              " [0.0, 0.0, 0.0, 1.0, 0.0, 1.0],\n",
              " [0.0, 0.0, 0.0, 0.0, 0.0, 1.0],\n",
              " [1.0, 1.0, 0.0, 0.0, 0.0, 0.0],\n",
              " [0.0, 1.0, 0.0, 0.0, 0.0, 1.0],\n",
              " [0.0, 0.0, 0.0, 1.0, 0.0, 1.0],\n",
              " [1.0, 0.0, 1.0, 0.0, 1.0, 0.0],\n",
              " [0.0, 1.0, 1.0, 0.0, 0.0, 1.0],\n",
              " [0.0, 0.0, 0.0, 1.0, 0.0, 0.0],\n",
              " [0.0, 0.0, 0.0, 1.0, 0.0, 0.0],\n",
              " [0.0, 0.0, 0.0, 0.0, 1.0, 1.0],\n",
              " [0.0, 0.0, 0.0, 1.0, 0.0, 1.0],\n",
              " [1.0, 0.0, 0.0, 0.0, 0.0, 0.0],\n",
              " [1.0, 0.0, 0.0, 0.0, 0.0, 0.0],\n",
              " [0.0, 0.0, 1.0, 0.0, 0.0, 0.0],\n",
              " [0.0, 1.0, 1.0, 0.0, 0.0, 0.0],\n",
              " [0.0, 0.0, 0.0, 1.0, 0.0, 1.0],\n",
              " [1.0, 0.0, 0.0, 0.0, 0.0, 0.0],\n",
              " [0.0, 0.0, 1.0, 0.0, 0.0, 0.0],\n",
              " [0.0, 1.0, 0.0, 0.0, 1.0, 0.0],\n",
              " [0.0, 0.0, 0.0, 1.0, 0.0, 1.0],\n",
              " [0.0, 0.0, 1.0, 0.0, 0.0, 0.0],\n",
              " [0.0, 0.0, 0.0, 0.0, 0.0, 1.0],\n",
              " [0.0, 0.0, 1.0, 0.0, 0.0, 1.0],\n",
              " [0.0, 1.0, 1.0, 0.0, 1.0, 1.0],\n",
              " [0.0, 0.0, 1.0, 1.0, 0.0, 1.0],\n",
              " [1.0, 0.0, 0.0, 0.0, 0.0, 0.0],\n",
              " [0.0, 0.0, 0.0, 1.0, 0.0, 1.0],\n",
              " [0.0, 0.0, 0.0, 0.0, 1.0, 0.0],\n",
              " [1.0, 1.0, 0.0, 0.0, 0.0, 1.0],\n",
              " [0.0, 0.0, 0.0, 0.0, 0.0, 0.0],\n",
              " [0.0, 0.0, 0.0, 0.0, 0.0, 0.0],\n",
              " [0.0, 0.0, 1.0, 0.0, 1.0, 0.0],\n",
              " [0.0, 0.0, 0.0, 0.0, 0.0, 1.0],\n",
              " [0.0, 0.0, 0.0, 1.0, 0.0, 0.0],\n",
              " [0.0, 0.0, 1.0, 0.0, 1.0, 0.0],\n",
              " [0.0, 0.0, 0.0, 1.0, 1.0, 1.0],\n",
              " [1.0, 0.0, 0.0, 0.0, 0.0, 0.0],\n",
              " [0.0, 0.0, 0.0, 1.0, 1.0, 0.0],\n",
              " [0.0, 0.0, 0.0, 0.0, 0.0, 1.0],\n",
              " [1.0, 0.0, 0.0, 0.0, 0.0, 0.0],\n",
              " [0.0, 0.0, 1.0, 0.0, 0.0, 0.0],\n",
              " [0.0, 1.0, 0.0, 0.0, 0.0, 1.0],\n",
              " [1.0, 0.0, 0.0, 0.0, 0.0, 0.0],\n",
              " [0.0, 1.0, 0.0, 0.0, 0.0, 0.0],\n",
              " [0.0, 0.0, 0.0, 0.0, 0.0, 0.0],\n",
              " [0.0, 0.0, 0.0, 0.0, 0.0, 1.0],\n",
              " [0.0, 0.0, 0.0, 0.0, 1.0, 1.0],\n",
              " [0.0, 0.0, 1.0, 0.0, 0.0, 0.0],\n",
              " [0.0, 0.0, 0.0, 0.0, 0.0, 0.0],\n",
              " [0.0, 1.0, 1.0, 0.0, 0.0, 0.0],\n",
              " [0.0, 1.0, 0.0, 0.0, 0.0, 0.0],\n",
              " [1.0, 0.0, 1.0, 0.0, 1.0, 1.0],\n",
              " [0.0, 1.0, 1.0, 0.0, 1.0, 1.0],\n",
              " [0.0, 1.0, 0.0, 1.0, 0.0, 0.0],\n",
              " [0.0, 0.0, 1.0, 1.0, 0.0, 0.0],\n",
              " [1.0, 0.0, 0.0, 0.0, 0.0, 0.0],\n",
              " [0.0, 0.0, 0.0, 0.0, 0.0, 1.0],\n",
              " [0.0, 0.0, 0.0, 0.0, 0.0, 0.0],\n",
              " [1.0, 1.0, 0.0, 0.0, 0.0, 1.0],\n",
              " [0.0, 0.0, 0.0, 0.0, 0.0, 0.0],\n",
              " [1.0, 0.0, 0.0, 0.0, 0.0, 0.0],\n",
              " [1.0, 0.0, 0.0, 0.0, 0.0, 0.0],\n",
              " [0.0, 0.0, 1.0, 0.0, 1.0, 0.0],\n",
              " [1.0, 1.0, 0.0, 1.0, 0.0, 1.0],\n",
              " [1.0, 1.0, 0.0, 0.0, 0.0, 1.0],\n",
              " [0.0, 0.0, 0.0, 0.0, 0.0, 1.0],\n",
              " [1.0, 0.0, 1.0, 0.0, 1.0, 0.0],\n",
              " [0.0, 1.0, 0.0, 1.0, 1.0, 1.0],\n",
              " [1.0, 1.0, 0.0, 0.0, 0.0, 0.0],\n",
              " [1.0, 0.0, 0.0, 0.0, 0.0, 0.0],\n",
              " [0.0, 0.0, 1.0, 0.0, 0.0, 0.0],\n",
              " [0.0, 0.0, 0.0, 0.0, 0.0, 1.0],\n",
              " [1.0, 0.0, 1.0, 1.0, 0.0, 0.0],\n",
              " [1.0, 0.0, 0.0, 0.0, 0.0, 1.0],\n",
              " [0.0, 1.0, 1.0, 0.0, 0.0, 1.0],\n",
              " [0.0, 0.0, 1.0, 1.0, 0.0, 0.0],\n",
              " [0.0, 1.0, 0.0, 0.0, 0.0, 1.0],\n",
              " [0.0, 0.0, 0.0, 0.0, 0.0, 0.0],\n",
              " [0.0, 0.0, 0.0, 0.0, 0.0, 1.0],\n",
              " [0.0, 0.0, 0.0, 1.0, 0.0, 0.0],\n",
              " [1.0, 1.0, 0.0, 0.0, 0.0, 0.0],\n",
              " [0.0, 0.0, 0.0, 0.0, 0.0, 1.0],\n",
              " [0.0, 1.0, 1.0, 0.0, 0.0, 0.0],\n",
              " [1.0, 0.0, 0.0, 0.0, 0.0, 1.0],\n",
              " [1.0, 0.0, 0.0, 0.0, 0.0, 0.0],\n",
              " [1.0, 0.0, 1.0, 1.0, 1.0, 0.0],\n",
              " [0.0, 0.0, 0.0, 0.0, 0.0, 0.0],\n",
              " [0.0, 0.0, 0.0, 0.0, 0.0, 0.0],\n",
              " [1.0, 0.0, 0.0, 0.0, 0.0, 1.0],\n",
              " [0.0, 0.0, 1.0, 1.0, 1.0, 0.0],\n",
              " [0.0, 0.0, 1.0, 0.0, 1.0, 1.0],\n",
              " [1.0, 0.0, 0.0, 0.0, 0.0, 0.0],\n",
              " [0.0, 1.0, 0.0, 0.0, 1.0, 1.0],\n",
              " [0.0, 1.0, 1.0, 0.0, 0.0, 0.0],\n",
              " [0.0, 0.0, 0.0, 0.0, 0.0, 0.0],\n",
              " [0.0, 0.0, 1.0, 0.0, 0.0, 0.0],\n",
              " [0.0, 0.0, 1.0, 1.0, 0.0, 0.0],\n",
              " [0.0, 0.0, 0.0, 1.0, 0.0, 1.0],\n",
              " [0.0, 0.0, 0.0, 1.0, 0.0, 0.0],\n",
              " [1.0, 0.0, 1.0, 0.0, 1.0, 0.0],\n",
              " [0.0, 1.0, 0.0, 0.0, 0.0, 0.0],\n",
              " [0.0, 0.0, 0.0, 0.0, 0.0, 0.0],\n",
              " [1.0, 0.0, 1.0, 0.0, 0.0, 1.0],\n",
              " [0.0, 0.0, 1.0, 0.0, 0.0, 0.0],\n",
              " [0.0, 0.0, 1.0, 0.0, 1.0, 0.0],\n",
              " [0.0, 0.0, 0.0, 1.0, 1.0, 0.0],\n",
              " [1.0, 0.0, 0.0, 0.0, 0.0, 0.0],\n",
              " [0.0, 0.0, 0.0, 1.0, 0.0, 0.0],\n",
              " [0.0, 0.0, 0.0, 0.0, 0.0, 0.0],\n",
              " [1.0, 0.0, 0.0, 0.0, 0.0, 0.0],\n",
              " [0.0, 1.0, 0.0, 0.0, 0.0, 0.0],\n",
              " [0.0, 0.0, 0.0, 1.0, 0.0, 0.0],\n",
              " [0.0, 0.0, 1.0, 1.0, 0.0, 1.0],\n",
              " [0.0, 0.0, 0.0, 1.0, 0.0, 1.0],\n",
              " [0.0, 0.0, 0.0, 0.0, 0.0, 1.0],\n",
              " [0.0, 0.0, 0.0, 1.0, 0.0, 0.0],\n",
              " [1.0, 0.0, 1.0, 1.0, 1.0, 0.0],\n",
              " [0.0, 0.0, 0.0, 0.0, 0.0, 0.0],\n",
              " [0.0, 0.0, 1.0, 0.0, 0.0, 0.0],\n",
              " [1.0, 0.0, 0.0, 0.0, 0.0, 1.0],\n",
              " [0.0, 0.0, 0.0, 0.0, 0.0, 0.0],\n",
              " [1.0, 1.0, 0.0, 0.0, 0.0, 0.0],\n",
              " [0.0, 1.0, 0.0, 1.0, 1.0, 0.0],\n",
              " [0.0, 1.0, 1.0, 1.0, 1.0, 0.0],\n",
              " [0.0, 0.0, 1.0, 0.0, 0.0, 0.0],\n",
              " [0.0, 0.0, 1.0, 1.0, 0.0, 1.0],\n",
              " [0.0, 0.0, 0.0, 0.0, 0.0, 0.0],\n",
              " [0.0, 0.0, 0.0, 0.0, 0.0, 0.0],\n",
              " [0.0, 0.0, 0.0, 1.0, 0.0, 0.0],\n",
              " [0.0, 0.0, 0.0, 0.0, 0.0, 0.0],\n",
              " [1.0, 0.0, 0.0, 0.0, 0.0, 0.0],\n",
              " [0.0, 0.0, 0.0, 1.0, 0.0, 0.0],\n",
              " [1.0, 0.0, 0.0, 0.0, 1.0, 0.0],\n",
              " [1.0, 0.0, 0.0, 0.0, 0.0, 1.0],\n",
              " [1.0, 0.0, 0.0, 1.0, 0.0, 0.0],\n",
              " [0.0, 0.0, 0.0, 0.0, 0.0, 1.0],\n",
              " [0.0, 1.0, 0.0, 1.0, 0.0, 0.0],\n",
              " [0.0, 0.0, 1.0, 0.0, 1.0, 0.0],\n",
              " [0.0, 1.0, 0.0, 1.0, 0.0, 0.0],\n",
              " [0.0, 0.0, 0.0, 0.0, 0.0, 1.0],\n",
              " [0.0, 0.0, 0.0, 0.0, 0.0, 0.0],\n",
              " [1.0, 0.0, 0.0, 0.0, 1.0, 0.0],\n",
              " [1.0, 1.0, 1.0, 1.0, 0.0, 0.0],\n",
              " [0.0, 0.0, 0.0, 1.0, 0.0, 0.0],\n",
              " [1.0, 0.0, 0.0, 0.0, 1.0, 0.0],\n",
              " [1.0, 0.0, 0.0, 0.0, 0.0, 0.0],\n",
              " [0.0, 1.0, 0.0, 0.0, 0.0, 0.0],\n",
              " [0.0, 0.0, 0.0, 1.0, 0.0, 0.0],\n",
              " [1.0, 0.0, 0.0, 0.0, 1.0, 1.0],\n",
              " [0.0, 1.0, 0.0, 1.0, 0.0, 1.0],\n",
              " [0.0, 0.0, 0.0, 0.0, 1.0, 1.0],\n",
              " [0.0, 0.0, 0.0, 0.0, 0.0, 0.0],\n",
              " [0.0, 1.0, 1.0, 0.0, 1.0, 0.0],\n",
              " [0.0, 0.0, 1.0, 0.0, 0.0, 0.0],\n",
              " [0.0, 0.0, 1.0, 0.0, 0.0, 0.0],\n",
              " [0.0, 0.0, 1.0, 1.0, 1.0, 0.0],\n",
              " [1.0, 0.0, 0.0, 0.0, 0.0, 1.0],\n",
              " [1.0, 0.0, 1.0, 0.0, 0.0, 1.0],\n",
              " [0.0, 0.0, 0.0, 0.0, 1.0, 1.0],\n",
              " [0.0, 0.0, 0.0, 0.0, 0.0, 1.0],\n",
              " [1.0, 0.0, 0.0, 0.0, 0.0, 1.0],\n",
              " [1.0, 0.0, 1.0, 0.0, 0.0, 0.0],\n",
              " [0.0, 0.0, 0.0, 0.0, 0.0, 1.0],\n",
              " [1.0, 0.0, 0.0, 0.0, 0.0, 0.0],\n",
              " [0.0, 0.0, 0.0, 0.0, 0.0, 0.0],\n",
              " [0.0, 0.0, 0.0, 0.0, 0.0, 0.0],\n",
              " [0.0, 0.0, 0.0, 0.0, 1.0, 1.0],\n",
              " [0.0, 0.0, 1.0, 0.0, 0.0, 0.0],\n",
              " [1.0, 0.0, 1.0, 0.0, 1.0, 1.0],\n",
              " [0.0, 0.0, 0.0, 0.0, 0.0, 0.0],\n",
              " [0.0, 0.0, 1.0, 0.0, 0.0, 0.0],\n",
              " [0.0, 0.0, 1.0, 0.0, 0.0, 0.0],\n",
              " [0.0, 0.0, 0.0, 0.0, 0.0, 0.0],\n",
              " [0.0, 0.0, 0.0, 0.0, 0.0, 0.0],\n",
              " [1.0, 0.0, 1.0, 1.0, 0.0, 0.0],\n",
              " [1.0, 0.0, 0.0, 0.0, 0.0, 1.0],\n",
              " [0.0, 1.0, 0.0, 1.0, 0.0, 0.0],\n",
              " [1.0, 0.0, 0.0, 0.0, 0.0, 0.0],\n",
              " [0.0, 0.0, 1.0, 0.0, 0.0, 0.0],\n",
              " [1.0, 0.0, 0.0, 0.0, 0.0, 0.0],\n",
              " [0.0, 1.0, 0.0, 0.0, 0.0, 1.0],\n",
              " [0.0, 0.0, 0.0, 1.0, 1.0, 0.0],\n",
              " [0.0, 1.0, 1.0, 0.0, 1.0, 0.0],\n",
              " [0.0, 0.0, 0.0, 0.0, 0.0, 1.0],\n",
              " [1.0, 0.0, 0.0, 0.0, 0.0, 1.0],\n",
              " [0.0, 0.0, 0.0, 0.0, 0.0, 0.0],\n",
              " [0.0, 0.0, 0.0, 0.0, 0.0, 0.0],\n",
              " [0.0, 1.0, 1.0, 0.0, 0.0, 1.0],\n",
              " [0.0, 0.0, 0.0, 0.0, 0.0, 0.0],\n",
              " [0.0, 0.0, 1.0, 0.0, 1.0, 1.0],\n",
              " [0.0, 0.0, 0.0, 0.0, 0.0, 1.0],\n",
              " ...]"
            ]
          },
          "execution_count": 67,
          "metadata": {}
        }
      ],
      "source": [
        "eval_targets"
      ]
    },
    {
      "cell_type": "code",
      "execution_count": null,
      "metadata": {
        "application/vnd.databricks.v1+cell": {
          "cellMetadata": {
            "byteLimit": 2048000,
            "rowLimit": 10000
          },
          "inputWidgets": {},
          "nuid": "de53bebd-5644-4702-bb24-2cca1adbc93b",
          "showTitle": false,
          "title": ""
        },
        "id": "_44bGHkAZ04y"
      },
      "outputs": [],
      "source": [
        "# eval_outputs\n",
        "\n",
        "n_labels = 6\n",
        "value_col = selected_col[4:]\n",
        "\n",
        "f1 = dict()"
      ]
    },
    {
      "cell_type": "code",
      "execution_count": null,
      "metadata": {
        "application/vnd.databricks.v1+cell": {
          "cellMetadata": {
            "byteLimit": 2048000,
            "rowLimit": 10000
          },
          "inputWidgets": {},
          "nuid": "b98700f4-9a1d-4886-9760-bedb67ef0b41",
          "showTitle": false,
          "title": ""
        },
        "id": "Sx3s5h7cZ04y"
      },
      "outputs": [],
      "source": [
        "e_t = np.array(eval_targets)"
      ]
    },
    {
      "cell_type": "code",
      "execution_count": null,
      "metadata": {
        "application/vnd.databricks.v1+cell": {
          "cellMetadata": {
            "byteLimit": 2048000,
            "rowLimit": 10000
          },
          "inputWidgets": {},
          "nuid": "8556a5b0-dfe0-4f42-aab5-7443b507add3",
          "showTitle": false,
          "title": ""
        },
        "id": "3nl8NelfZ04y"
      },
      "outputs": [],
      "source": [
        "e_p = np.array(eval_outputs)"
      ]
    },
    {
      "cell_type": "code",
      "execution_count": null,
      "metadata": {
        "application/vnd.databricks.v1+cell": {
          "cellMetadata": {
            "byteLimit": 2048000,
            "rowLimit": 10000
          },
          "inputWidgets": {},
          "nuid": "472b1d0f-8a91-4ed4-94c3-95a2c64ec6d4",
          "showTitle": false,
          "title": ""
        },
        "id": "ZijA5WdxZ04y",
        "outputId": "086d9d0c-eea5-45eb-c7fa-7786a4790b28"
      },
      "outputs": [
        {
          "output_type": "execute_result",
          "data": {
            "text/plain": [
              "0.2614213197969543"
            ]
          },
          "execution_count": 56,
          "metadata": {}
        }
      ],
      "source": [
        "metrics.accuracy_score(e_t, e_p)"
      ]
    },
    {
      "cell_type": "code",
      "execution_count": null,
      "metadata": {
        "application/vnd.databricks.v1+cell": {
          "cellMetadata": {
            "byteLimit": 2048000,
            "rowLimit": 10000
          },
          "inputWidgets": {},
          "nuid": "a4974aa0-21b0-40a4-82ac-12a55684ea6f",
          "showTitle": false,
          "title": ""
        },
        "id": "u7vql2D7Z04y"
      },
      "outputs": [],
      "source": [
        "for i in range(n_labels):\n",
        "  f1[value_col[i]] = metrics.f1_score(e_t[:, i], e_p[:, i], average='binary')"
      ]
    },
    {
      "cell_type": "code",
      "execution_count": null,
      "metadata": {
        "application/vnd.databricks.v1+cell": {
          "cellMetadata": {
            "byteLimit": 2048000,
            "rowLimit": 10000
          },
          "inputWidgets": {},
          "nuid": "9dbab223-4a65-4c40-b081-fcc1569a8369",
          "showTitle": false,
          "title": ""
        },
        "id": "4XuKzkcBZ04z",
        "outputId": "cebabd96-1d87-47cc-a334-30e382e0b413"
      },
      "outputs": [
        {
          "output_type": "display_data",
          "data": {
            "image/png": "[encoded data removed]",
            "text/plain": [
              "<Figure size 700x500 with 1 Axes>"
            ]
          },
          "metadata": {}
        }
      ],
      "source": [
        "plt.figure(figsize=(7, 5))\n",
        "\n",
        "plt.plot(list(f1.keys()), list(f1.values()), marker='o')\n",
        "\n",
        "plt.xlabel('VALUES')\n",
        "plt.xticks(rotation='vertical')\n",
        "\n",
        "plt.ylabel('F1-Score')\n",
        "plt.title('Graph of F1-Score for each Value')\n",
        "\n",
        "plt.grid(True)\n",
        "plt.show()"
      ]
    },
    {
      "cell_type": "code",
      "execution_count": null,
      "metadata": {
        "application/vnd.databricks.v1+cell": {
          "cellMetadata": {
            "byteLimit": 2048000,
            "rowLimit": 10000
          },
          "inputWidgets": {},
          "nuid": "38bba1c6-7c7f-420c-8ec1-d5668d577931",
          "showTitle": false,
          "title": ""
        },
        "id": "T5_V7jO9Z04z"
      },
      "outputs": [],
      "source": [
        "acc = dict()"
      ]
    },
    {
      "cell_type": "code",
      "execution_count": null,
      "metadata": {
        "application/vnd.databricks.v1+cell": {
          "cellMetadata": {
            "byteLimit": 2048000,
            "rowLimit": 10000
          },
          "inputWidgets": {},
          "nuid": "26b49ebc-1667-4833-8a72-0a1d3e804883",
          "showTitle": false,
          "title": ""
        },
        "id": "7G7XPP6LZ04z"
      },
      "outputs": [],
      "source": [
        "for i in range(n_labels):\n",
        "  acc[value_col[i]] = metrics.accuracy_score(e_t[:, i], e_p[:, i])"
      ]
    },
    {
      "cell_type": "code",
      "execution_count": null,
      "metadata": {
        "application/vnd.databricks.v1+cell": {
          "cellMetadata": {
            "byteLimit": 2048000,
            "rowLimit": 10000
          },
          "inputWidgets": {},
          "nuid": "155743a6-c76a-47be-b71d-f8c0f9574ed5",
          "showTitle": false,
          "title": ""
        },
        "id": "0FL8C1gwZ04z",
        "outputId": "7b57a256-ba22-4a97-e7b2-eb76b90484ea"
      },
      "outputs": [
        {
          "output_type": "execute_result",
          "data": {
            "text/plain": [
              "False"
            ]
          },
          "execution_count": 51,
          "metadata": {}
        }
      ],
      "source": [
        "metrics.accuracy_score(e_t[:, i], e_p[:, i]) == metrics.f1_score(e_t[:, i], e_p[:, i], average='binary')"
      ]
    },
    {
      "cell_type": "code",
      "execution_count": null,
      "metadata": {
        "application/vnd.databricks.v1+cell": {
          "cellMetadata": {
            "byteLimit": 2048000,
            "rowLimit": 10000
          },
          "inputWidgets": {},
          "nuid": "8f8672af-98f5-4c97-8f21-7fe8a3ec79fc",
          "showTitle": false,
          "title": ""
        },
        "id": "KNOyTHDFZ04z",
        "outputId": "0624f082-49a8-4c63-b03e-1acf1d02f4f2"
      },
      "outputs": [
        {
          "output_type": "display_data",
          "data": {
            "image/png": "[encoded data removed]",
            "text/plain": [
              "<Figure size 700x500 with 1 Axes>"
            ]
          },
          "metadata": {}
        }
      ],
      "source": [
        "plt.figure(figsize=(7, 5))\n",
        "\n",
        "plt.plot(list(acc.keys()), list(acc.values()), marker='o')\n",
        "\n",
        "plt.xlabel('VALUES')\n",
        "plt.xticks(rotation='vertical')\n",
        "\n",
        "plt.ylabel('Accuracy Score')\n",
        "plt.title('Graph of Accuracy Score for each Value')\n",
        "\n",
        "plt.grid(True)\n",
        "plt.show()"
      ]
    },
    {
      "cell_type": "code",
      "execution_count": null,
      "metadata": {
        "application/vnd.databricks.v1+cell": {
          "cellMetadata": {
            "byteLimit": 2048000,
            "rowLimit": 10000
          },
          "inputWidgets": {},
          "nuid": "afd30ca3-1d9b-4b99-a858-f56d5ba5d752",
          "showTitle": false,
          "title": ""
        },
        "id": "8wSbE2irZ04z"
      },
      "outputs": [],
      "source": [
        "import statistics"
      ]
    },
    {
      "cell_type": "code",
      "execution_count": null,
      "metadata": {
        "application/vnd.databricks.v1+cell": {
          "cellMetadata": {
            "byteLimit": 2048000,
            "rowLimit": 10000
          },
          "inputWidgets": {},
          "nuid": "b6141573-3fdf-4df7-a016-5eb09b6ab630",
          "showTitle": false,
          "title": ""
        },
        "id": "lum1ieDyZ04z",
        "outputId": "851f4b21-db6c-497b-c425-4fbd947554a5"
      },
      "outputs": [
        {
          "output_type": "execute_result",
          "data": {
            "text/plain": [
              "0.7916666666666666"
            ]
          },
          "execution_count": 66,
          "metadata": {}
        }
      ],
      "source": [
        "statistics.mean(list(acc.values()))"
      ]
    },
    {
      "cell_type": "code",
      "execution_count": null,
      "metadata": {
        "application/vnd.databricks.v1+cell": {
          "cellMetadata": {
            "byteLimit": 2048000,
            "rowLimit": 10000
          },
          "inputWidgets": {},
          "nuid": "d13a5e5f-32f9-43be-8c6b-28250f8e19a8",
          "showTitle": false,
          "title": ""
        },
        "id": "I_PAj8hPZ040",
        "outputId": "aff6fff4-022a-44d7-ade0-babf1549fcb6"
      },
      "outputs": [
        {
          "output_type": "execute_result",
          "data": {
            "text/plain": [
              "{0: {'Train Accuracy Score': 0.19316778707641652,\n",
              "  'Train F1 Score (Micro)': 0.4623540856031128,\n",
              "  'Train F1 Score (Macro)': 0.43469021758934145,\n",
              "  'Eval Accuracy Score': 0.25,\n",
              "  'Eval F1 Score (Micro)': 0.6008719778042014,\n",
              "  'Eval F1 Score (Macro)': 0.5726316176815321},\n",
              " 1: {'Train Accuracy Score': 0.28851694333927835,\n",
              "  'Train F1 Score (Micro)': 0.6366811124668658,\n",
              "  'Train F1 Score (Macro)': 0.616465848212889,\n",
              "  'Eval Accuracy Score': 0.2893401015228426,\n",
              "  'Eval F1 Score (Micro)': 0.6143273635985006,\n",
              "  'Eval F1 Score (Macro)': 0.5878124038183544},\n",
              " 2: {'Train Accuracy Score': 0.34929345589244065,\n",
              "  'Train F1 Score (Micro)': 0.7024867509172441,\n",
              "  'Train F1 Score (Macro)': 0.6878058262043778,\n",
              "  'Eval Accuracy Score': 0.28045685279187815,\n",
              "  'Eval F1 Score (Micro)': 0.6330203442879498,\n",
              "  'Eval F1 Score (Macro)': 0.6049233538691109},\n",
              " 3: {'Train Accuracy Score': 0.42022225270956237,\n",
              "  'Train F1 Score (Micro)': 0.7566301413371446,\n",
              "  'Train F1 Score (Macro)': 0.7450719239467655,\n",
              "  'Eval Accuracy Score': 0.30076142131979694,\n",
              "  'Eval F1 Score (Micro)': 0.6410154700515669,\n",
              "  'Eval F1 Score (Macro)': 0.6164163602406529},\n",
              " 4: {'Train Accuracy Score': 0.499931403484703,\n",
              "  'Train F1 Score (Micro)': 0.8064465898473996,\n",
              "  'Train F1 Score (Macro)': 0.797908749797667,\n",
              "  'Eval Accuracy Score': 0.3020304568527919,\n",
              "  'Eval F1 Score (Micro)': 0.6262543518328896,\n",
              "  'Eval F1 Score (Macro)': 0.6063362911386995},\n",
              " 5: {'Train Accuracy Score': 0.5904788036767732,\n",
              "  'Train F1 Score (Micro)': 0.8528261369736942,\n",
              "  'Train F1 Score (Macro)': 0.8461814925863756,\n",
              "  'Eval Accuracy Score': 0.27093908629441626,\n",
              "  'Eval F1 Score (Micro)': 0.6240833654959475,\n",
              "  'Eval F1 Score (Macro)': 0.6061657045307646},\n",
              " 6: {'Train Accuracy Score': 0.6716970777884483,\n",
              "  'Train F1 Score (Micro)': 0.888029424032154,\n",
              "  'Train F1 Score (Macro)': 0.8831092230329874,\n",
              "  'Eval Accuracy Score': 0.2868020304568528,\n",
              "  'Eval F1 Score (Micro)': 0.6195673744790633,\n",
              "  'Eval F1 Score (Macro)': 0.5978313355283994},\n",
              " 7: {'Train Accuracy Score': 0.7490739470434902,\n",
              "  'Train F1 Score (Micro)': 0.9183888179153828,\n",
              "  'Train F1 Score (Macro)': 0.91489800820149,\n",
              "  'Eval Accuracy Score': 0.27284263959390864,\n",
              "  'Eval F1 Score (Micro)': 0.6216895418519235,\n",
              "  'Eval F1 Score (Macro)': 0.6019733370454246},\n",
              " 8: {'Train Accuracy Score': 0.8014816847304157,\n",
              "  'Train F1 Score (Micro)': 0.9360718678942856,\n",
              "  'Train F1 Score (Macro)': 0.9337941138618023,\n",
              "  'Eval Accuracy Score': 0.24492385786802032,\n",
              "  'Eval F1 Score (Micro)': 0.6222711429095579,\n",
              "  'Eval F1 Score (Macro)': 0.6086984819148918},\n",
              " 9: {'Train Accuracy Score': 0.8566332830292221,\n",
              "  'Train F1 Score (Micro)': 0.9554946682464455,\n",
              "  'Train F1 Score (Macro)': 0.9539969916042309,\n",
              "  'Eval Accuracy Score': 0.2614213197969543,\n",
              "  'Eval F1 Score (Micro)': 0.6186604723190089,\n",
              "  'Eval F1 Score (Macro)': 0.5990978443213036}}"
            ]
          },
          "execution_count": 53,
          "metadata": {}
        }
      ],
      "source": [
        "metrics_train_eval"
      ]
    },
    {
      "cell_type": "code",
      "execution_count": null,
      "metadata": {
        "application/vnd.databricks.v1+cell": {
          "cellMetadata": {
            "byteLimit": 2048000,
            "rowLimit": 10000
          },
          "inputWidgets": {},
          "nuid": "b96018c4-f31a-489d-8d98-58e9959abb18",
          "showTitle": false,
          "title": ""
        },
        "id": "U7IHhZh3Z040",
        "outputId": "46d1095c-497f-4aed-822e-625849e759cf"
      },
      "outputs": [
        {
          "output_type": "display_data",
          "data": {
            "image/png": "[encoded data removed]",
            "text/plain": [
              "<Figure size 1400x800 with 3 Axes>"
            ]
          },
          "metadata": {}
        }
      ],
      "source": [
        "# extract metrics\n",
        "epochs = list(metrics_train_eval.keys())\n",
        "train_accuracy = [metrics_train_eval[epoch]['Train Accuracy Score'] for epoch in epochs]\n",
        "eval_accuracy = [metrics_train_eval[epoch]['Eval Accuracy Score'] for epoch in epochs]\n",
        "train_f1_micro = [metrics_train_eval[epoch]['Train F1 Score (Micro)'] for epoch in epochs]\n",
        "eval_f1_micro = [metrics_train_eval[epoch]['Eval F1 Score (Micro)'] for epoch in epochs]\n",
        "train_f1_macro = [metrics_train_eval[epoch]['Train F1 Score (Macro)'] for epoch in epochs]\n",
        "eval_f1_macro = [metrics_train_eval[epoch]['Eval F1 Score (Macro)'] for epoch in epochs]\n",
        "\n",
        "# plot fig\n",
        "plt.figure(figsize=(14, 8))\n",
        "\n",
        "# accuracy plot\n",
        "plt.subplot(3, 1, 1)\n",
        "plt.plot(epochs, train_accuracy, label='Train Accuracy', marker='o')\n",
        "plt.plot(epochs, eval_accuracy, label='Eval Accuracy', marker='o')\n",
        "plt.title('Accuracy over Epochs')\n",
        "plt.xlabel('Epochs')\n",
        "plt.ylabel('Accuracy')\n",
        "plt.legend()\n",
        "\n",
        "# F1 micro plot\n",
        "plt.subplot(3, 1, 2)\n",
        "plt.plot(epochs, train_f1_micro, label='Train F1 Score (Micro)', marker='o')\n",
        "plt.plot(epochs, eval_f1_micro, label='Eval F1 Score (Micro)', marker='o')\n",
        "plt.title('F1 Score (Micro) over Epochs')\n",
        "plt.xlabel('Epochs')\n",
        "plt.ylabel('F1 Score (Micro)')\n",
        "plt.legend()\n",
        "\n",
        "# F1 macro plot\n",
        "plt.subplot(3, 1, 3)\n",
        "plt.plot(epochs, train_f1_macro, label='Train F1 Score (Macro)', marker='o')\n",
        "plt.plot(epochs, eval_f1_macro, label='Eval F1 Score (Macro)', marker='o')\n",
        "plt.title('F1 Score (Macro) over Epochs')\n",
        "plt.xlabel('Epochs')\n",
        "plt.ylabel('F1 Score (Macro)')\n",
        "plt.legend()\n",
        "\n",
        "plt.tight_layout()\n",
        "plt.show()"
      ]
    },
    {
      "cell_type": "code",
      "execution_count": null,
      "metadata": {
        "application/vnd.databricks.v1+cell": {
          "cellMetadata": {
            "byteLimit": 2048000,
            "rowLimit": 10000
          },
          "inputWidgets": {},
          "nuid": "0ab90442-1fcc-4da1-9eb0-e7af170d6355",
          "showTitle": false,
          "title": ""
        },
        "id": "qh1egrSQZ040",
        "outputId": "a8c2d5bd-5dd4-48ee-b75d-e89adefba78b"
      },
      "outputs": [
        {
          "output_type": "execute_result",
          "data": {
            "text/plain": [
              "['Self-direction: action',\n",
              " 'Achievement',\n",
              " 'Security: personal',\n",
              " 'Security: societal',\n",
              " 'Benevolence: caring',\n",
              " 'Universalism: concern']"
            ]
          },
          "execution_count": 31,
          "metadata": {}
        }
      ],
      "source": [
        "selected_col[4:]"
      ]
    },
    {
      "cell_type": "code",
      "execution_count": null,
      "metadata": {
        "application/vnd.databricks.v1+cell": {
          "cellMetadata": {
            "byteLimit": 2048000,
            "rowLimit": 10000
          },
          "inputWidgets": {},
          "nuid": "d737b43d-5666-4946-93f6-8ff776af1f0a",
          "showTitle": false,
          "title": ""
        },
        "id": "cnIWPplhZ040",
        "outputId": "4a4da6b3-70bb-41c6-a13f-9f619e12d780"
      },
      "outputs": [
        {
          "output_type": "execute_result",
          "data": {
            "text/html": [
              "<div>\n",
              "<style scoped>\n",
              "    .dataframe tbody tr th:only-of-type {\n",
              "        vertical-align: middle;\n",
              "    }\n",
              "\n",
              "    .dataframe tbody tr th {\n",
              "        vertical-align: top;\n",
              "    }\n",
              "\n",
              "    .dataframe thead th {\n",
              "        text-align: right;\n",
              "    }\n",
              "</style>\n",
              "<table border=\"1\" class=\"dataframe\">\n",
              "  <thead>\n",
              "    <tr style=\"text-align: right;\">\n",
              "      <th></th>\n",
              "      <th>Text</th>\n",
              "      <th>list</th>\n",
              "    </tr>\n",
              "  </thead>\n",
              "  <tbody>\n",
              "    <tr>\n",
              "      <th>0</th>\n",
              "      <td>against We should end affirmative action affir...</td>\n",
              "      <td>[0, 1, 1, 0, 0, 1]</td>\n",
              "    </tr>\n",
              "  </tbody>\n",
              "</table>\n",
              "</div>"
            ],
            "text/plain": [
              "                                                Text                list\n",
              "0  against We should end affirmative action affir...  [0, 1, 1, 0, 0, 1]"
            ]
          },
          "execution_count": 32,
          "metadata": {}
        }
      ],
      "source": [
        "test_set.head(1)"
      ]
    },
    {
      "cell_type": "code",
      "execution_count": null,
      "metadata": {
        "application/vnd.databricks.v1+cell": {
          "cellMetadata": {
            "byteLimit": 2048000,
            "rowLimit": 10000
          },
          "inputWidgets": {},
          "nuid": "96858ed6-0bfe-43fe-8eba-8bb4bf172bf3",
          "showTitle": false,
          "title": ""
        },
        "id": "z5eIWx21Z040",
        "outputId": "24735243-c507-48a0-9817-16c4729ba339"
      },
      "outputs": [
        {
          "output_type": "stream",
          "name": "stdout",
          "text": [
            "Model Output: tensor([[-2.6299,  1.6202,  0.7199, -2.4349,  0.4053, -0.5044]],\n       device='cuda:0')\nModel Output after SIGMOID: [[0.06724177300930023, 0.8348291516304016, 0.6725941300392151, 0.08054693043231964, 0.5999504327774048, 0.37650883197784424]]\nModel Output threshold: [[False  True  True False  True False]]\nActual Target: tensor([0., 1., 1., 0., 0., 1.])\n"
          ]
        }
      ],
      "source": [
        "test_item_0 = testing_set.__getitem__(0)\n",
        "ids = test_item_0['ids'].to(device, dtype = torch.long)\n",
        "mask = test_item_0['mask'].to(device, dtype = torch.long)\n",
        "#token_type_ids = test_item_0['token_type_ids'].to(device, dtype = torch.long)\n",
        "targets = test_item_0['targets'] #\n",
        "\n",
        "# disable gradient calculation, add an extra dimension to the input tensors using unsqueeze(0) to create a batch of size 1.\n",
        "with torch.no_grad():\n",
        "    outputs = model(ids.unsqueeze(0), mask.unsqueeze(0)) #, token_type_ids.unsqueeze(0))\n",
        "\n",
        "print(\"Model Output:\", outputs)\n",
        "\n",
        "outputs = torch.sigmoid(outputs).cpu().detach().numpy().tolist()\n",
        "print(\"Model Output after SIGMOID:\", outputs)\n",
        "\n",
        "outputs = np.array(outputs) >= 0.5\n",
        "\n",
        "# model's output and the actual target\n",
        "print(\"Model Output threshold:\", outputs)\n",
        "print(\"Actual Target:\", targets)"
      ]
    },
    {
      "cell_type": "code",
      "execution_count": null,
      "metadata": {
        "application/vnd.databricks.v1+cell": {
          "cellMetadata": {
            "byteLimit": 2048000,
            "rowLimit": 10000
          },
          "inputWidgets": {},
          "nuid": "641b6a62-cc1e-4463-aeb5-ecb043da2bcf",
          "showTitle": false,
          "title": ""
        },
        "id": "ylUmpVXDZ041",
        "outputId": "e768cba1-4530-4db1-d438-bbab47c55a02"
      },
      "outputs": [
        {
          "output_type": "stream",
          "name": "stdout",
          "text": [
            "Accuracy Score: 0.6666666666666666\nF1 micro Score: 0.6666666666666666\nF1 macro Score: 0.6666666666666666\n"
          ]
        }
      ],
      "source": [
        "# flat the outputs and targets arrays\n",
        "outputs_flat = np.ravel(outputs)\n",
        "targets_flat = np.ravel(targets)\n",
        "\n",
        "print(\"Accuracy Score:\", metrics.accuracy_score(targets_flat, outputs_flat))\n",
        "print(\"F1 micro Score:\", metrics.f1_score(targets_flat, outputs_flat, average='micro'))\n",
        "print(\"F1 macro Score:\", metrics.f1_score(targets_flat, outputs_flat, average='macro'))"
      ]
    },
    {
      "cell_type": "code",
      "execution_count": null,
      "metadata": {
        "application/vnd.databricks.v1+cell": {
          "cellMetadata": {
            "byteLimit": 2048000,
            "rowLimit": 10000
          },
          "inputWidgets": {},
          "nuid": "f079d17d-1455-48da-b69b-dfedbd0d9161",
          "showTitle": false,
          "title": ""
        },
        "id": "BOtroM3qZ041",
        "outputId": "051975dc-67a8-46a4-b5e8-4a346c224536"
      },
      "outputs": [
        {
          "output_type": "execute_result",
          "data": {
            "text/html": [
              "<div>\n",
              "<style scoped>\n",
              "    .dataframe tbody tr th:only-of-type {\n",
              "        vertical-align: middle;\n",
              "    }\n",
              "\n",
              "    .dataframe tbody tr th {\n",
              "        vertical-align: top;\n",
              "    }\n",
              "\n",
              "    .dataframe thead th {\n",
              "        text-align: right;\n",
              "    }\n",
              "</style>\n",
              "<table border=\"1\" class=\"dataframe\">\n",
              "  <thead>\n",
              "    <tr style=\"text-align: right;\">\n",
              "      <th></th>\n",
              "      <th>Text</th>\n",
              "      <th>list</th>\n",
              "    </tr>\n",
              "  </thead>\n",
              "  <tbody>\n",
              "    <tr>\n",
              "      <th>87</th>\n",
              "      <td>in favor of We should abandon marriage marriag...</td>\n",
              "      <td>[0, 0, 1, 0, 0, 1]</td>\n",
              "    </tr>\n",
              "  </tbody>\n",
              "</table>\n",
              "</div>"
            ],
            "text/plain": [
              "                                                 Text                list\n",
              "87  in favor of We should abandon marriage marriag...  [0, 0, 1, 0, 0, 1]"
            ]
          },
          "execution_count": 35,
          "metadata": {}
        }
      ],
      "source": [
        "test_set[87:88]"
      ]
    },
    {
      "cell_type": "code",
      "execution_count": null,
      "metadata": {
        "application/vnd.databricks.v1+cell": {
          "cellMetadata": {
            "byteLimit": 2048000,
            "rowLimit": 10000
          },
          "inputWidgets": {},
          "nuid": "ea523b90-b8fe-40f6-9399-917b886701b0",
          "showTitle": false,
          "title": ""
        },
        "id": "e-V-JuyyZ041",
        "outputId": "2a3d5cd8-4301-4ec5-d604-2b721aa0f8c4"
      },
      "outputs": [
        {
          "output_type": "stream",
          "name": "stdout",
          "text": [
            "Model Output: tensor([[-3.3091, -0.5833, -0.9000, -1.7042, -1.4754,  0.5591]],\n       device='cuda:0')\nModel Output after SIGMOID: [[0.03525879234075546, 0.35817810893058777, 0.2890597879886627, 0.15391238033771515, 0.18612763285636902, 0.63625168800354]]\nModel Output threshold: [[False False False False False  True]]\nActual Target: tensor([0., 0., 1., 0., 0., 1.])\n"
          ]
        }
      ],
      "source": [
        "test_item_0 = testing_set.__getitem__(87)\n",
        "ids = test_item_0['ids'].to(device, dtype = torch.long)\n",
        "mask = test_item_0['mask'].to(device, dtype = torch.long)\n",
        "#token_type_ids = test_item_0['token_type_ids'].to(device, dtype = torch.long)\n",
        "targets = test_item_0['targets'] #\n",
        "\n",
        "# disable gradient calculation, add an extra dimension to the input tensors using unsqueeze(0) to create a batch of size 1.\n",
        "with torch.no_grad():\n",
        "    outputs = model(ids.unsqueeze(0), mask.unsqueeze(0)) #, token_type_ids.unsqueeze(0))\n",
        "\n",
        "print(\"Model Output:\", outputs)\n",
        "\n",
        "outputs = torch.sigmoid(outputs).cpu().detach().numpy().tolist()\n",
        "print(\"Model Output after SIGMOID:\", outputs)\n",
        "\n",
        "outputs = np.array(outputs) >= 0.5\n",
        "\n",
        "# model's output and the actual target\n",
        "print(\"Model Output threshold:\", outputs)\n",
        "print(\"Actual Target:\", targets)"
      ]
    },
    {
      "cell_type": "code",
      "execution_count": null,
      "metadata": {
        "application/vnd.databricks.v1+cell": {
          "cellMetadata": {
            "byteLimit": 2048000,
            "rowLimit": 10000
          },
          "inputWidgets": {},
          "nuid": "e690b429-ad21-40c2-8411-5299a8c5958f",
          "showTitle": false,
          "title": ""
        },
        "id": "oM4NC59sZ041",
        "outputId": "d0816731-47cd-4a53-c234-d6afdfd73448"
      },
      "outputs": [
        {
          "output_type": "stream",
          "name": "stdout",
          "text": [
            "Accuracy Score: 0.8333333333333334\nF1 micro Score: 0.8333333333333334\nF1 macro Score: 0.7777777777777778\n"
          ]
        }
      ],
      "source": [
        "# flat the outputs and targets arrays\n",
        "outputs_flat = np.ravel(outputs)\n",
        "targets_flat = np.ravel(targets)\n",
        "\n",
        "print(\"Accuracy Score:\", metrics.accuracy_score(targets_flat, outputs_flat))\n",
        "print(\"F1 micro Score:\", metrics.f1_score(targets_flat, outputs_flat, average='micro'))\n",
        "print(\"F1 macro Score:\", metrics.f1_score(targets_flat, outputs_flat, average='macro'))"
      ]
    },
    {
      "cell_type": "code",
      "execution_count": null,
      "metadata": {
        "application/vnd.databricks.v1+cell": {
          "cellMetadata": {
            "byteLimit": 2048000,
            "rowLimit": 10000
          },
          "inputWidgets": {},
          "nuid": "a5d8a4e8-9d73-438c-839d-5aad36617e90",
          "showTitle": false,
          "title": ""
        },
        "id": "Fp6qMhlkZ041",
        "outputId": "063af733-d119-46bb-c517-8449edafa9e7"
      },
      "outputs": [
        {
          "output_type": "execute_result",
          "data": {
            "text/html": [
              "<div>\n",
              "<style scoped>\n",
              "    .dataframe tbody tr th:only-of-type {\n",
              "        vertical-align: middle;\n",
              "    }\n",
              "\n",
              "    .dataframe tbody tr th {\n",
              "        vertical-align: top;\n",
              "    }\n",
              "\n",
              "    .dataframe thead th {\n",
              "        text-align: right;\n",
              "    }\n",
              "</style>\n",
              "<table border=\"1\" class=\"dataframe\">\n",
              "  <thead>\n",
              "    <tr style=\"text-align: right;\">\n",
              "      <th></th>\n",
              "      <th>Text</th>\n",
              "      <th>list</th>\n",
              "    </tr>\n",
              "  </thead>\n",
              "  <tbody>\n",
              "    <tr>\n",
              "      <th>1456</th>\n",
              "      <td>against We should get migration from Asia, and...</td>\n",
              "      <td>[0, 0, 0, 0, 0, 0]</td>\n",
              "    </tr>\n",
              "  </tbody>\n",
              "</table>\n",
              "</div>"
            ],
            "text/plain": [
              "                                                   Text                list\n",
              "1456  against We should get migration from Asia, and...  [0, 0, 0, 0, 0, 0]"
            ]
          },
          "execution_count": 38,
          "metadata": {}
        }
      ],
      "source": [
        "test_set[1456:1457]"
      ]
    },
    {
      "cell_type": "code",
      "execution_count": null,
      "metadata": {
        "application/vnd.databricks.v1+cell": {
          "cellMetadata": {
            "byteLimit": 2048000,
            "rowLimit": 10000
          },
          "inputWidgets": {},
          "nuid": "14e67a81-ee1b-4136-813f-09d8336aa624",
          "showTitle": false,
          "title": ""
        },
        "id": "Ml3onScDZ041",
        "outputId": "b102aa40-8588-4108-bd89-536ce70d0d46"
      },
      "outputs": [
        {
          "output_type": "stream",
          "name": "stdout",
          "text": [
            "Model Output: tensor([[-2.5308,  0.2860,  0.2736, -0.8659, -2.4458, -3.5349]],\n       device='cuda:0')\nModel Output after SIGMOID: [[0.07372570037841797, 0.5710223913192749, 0.5679871439933777, 0.2961139678955078, 0.07974442094564438, 0.02833637222647667]]\nModel Output threshold: [[False  True  True False False False]]\nActual Target: tensor([0., 0., 0., 0., 0., 0.])\n"
          ]
        }
      ],
      "source": [
        "test_item_0 = testing_set.__getitem__(1456)\n",
        "ids = test_item_0['ids'].to(device, dtype = torch.long)\n",
        "mask = test_item_0['mask'].to(device, dtype = torch.long)\n",
        "#token_type_ids = test_item_0['token_type_ids'].to(device, dtype = torch.long)\n",
        "targets = test_item_0['targets'] #\n",
        "\n",
        "# disable gradient calculation, add an extra dimension to the input tensors using unsqueeze(0) to create a batch of size 1.\n",
        "with torch.no_grad():\n",
        "    outputs = model(ids.unsqueeze(0), mask.unsqueeze(0)) #, token_type_ids.unsqueeze(0))\n",
        "\n",
        "print(\"Model Output:\", outputs)\n",
        "\n",
        "outputs = torch.sigmoid(outputs).cpu().detach().numpy().tolist()\n",
        "print(\"Model Output after SIGMOID:\", outputs)\n",
        "\n",
        "outputs = np.array(outputs) >= 0.5\n",
        "\n",
        "# model's output and the actual target\n",
        "print(\"Model Output threshold:\", outputs)\n",
        "print(\"Actual Target:\", targets)"
      ]
    },
    {
      "cell_type": "code",
      "execution_count": null,
      "metadata": {
        "application/vnd.databricks.v1+cell": {
          "cellMetadata": {
            "byteLimit": 2048000,
            "rowLimit": 10000
          },
          "inputWidgets": {},
          "nuid": "172769ba-44ec-46c9-9e90-bb0f07d20e9e",
          "showTitle": false,
          "title": ""
        },
        "id": "ZNNH-Wh_Z041",
        "outputId": "b2c018a1-7945-4892-eca5-d64295005aca"
      },
      "outputs": [
        {
          "output_type": "stream",
          "name": "stdout",
          "text": [
            "Accuracy Score: 0.6666666666666666\nF1 micro Score: 0.6666666666666666\nF1 macro Score: 0.4\n"
          ]
        }
      ],
      "source": [
        "# flat the outputs and targets arrays\n",
        "outputs_flat = np.ravel(outputs)\n",
        "targets_flat = np.ravel(targets)\n",
        "\n",
        "print(\"Accuracy Score:\", metrics.accuracy_score(targets_flat, outputs_flat))\n",
        "print(\"F1 micro Score:\", metrics.f1_score(targets_flat, outputs_flat, average='micro'))\n",
        "print(\"F1 macro Score:\", metrics.f1_score(targets_flat, outputs_flat, average='macro'))"
      ]
    }
  ],
  "metadata": {
    "application/vnd.databricks.v1+notebook": {
      "dashboards": [],
      "environmentMetadata": null,
      "language": "python",
      "notebookMetadata": {
        "pythonIndentUnit": 2
      },
      "notebookName": "P2_databricks_2",
      "widgets": {}
    },
    "colab": {
      "provenance": [],
      "include_colab_link": true
    }
  },
  "nbformat": 4,
  "nbformat_minor": 0
}