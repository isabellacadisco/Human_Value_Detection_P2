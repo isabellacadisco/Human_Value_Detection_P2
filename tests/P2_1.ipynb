{
  "cells": [
    {
      "cell_type": "markdown",
      "metadata": {
        "id": "view-in-github",
        "colab_type": "text"
      },
      "source": [
        "<a href=\"https://colab.research.google.com/github/isabellacadisco/Human_Value_Detection_P2/blob/main/tests/P2_1.ipynb\" target=\"_parent\"><img src=\"https://colab.research.google.com/assets/colab-badge.svg\" alt=\"Open In Colab\"/></a>"
      ]
    },
    {
      "cell_type": "code",
      "execution_count": null,
      "metadata": {
        "application/vnd.databricks.v1+cell": {
          "cellMetadata": {
            "byteLimit": 2048000,
            "rowLimit": 10000
          },
          "inputWidgets": {},
          "nuid": "046f4295-c749-4703-8318-5836da467d80",
          "showTitle": false,
          "title": ""
        },
        "id": "fjmGIWqIZIR9",
        "outputId": "d5def4bf-5fca-425d-e30b-931a3384fed5"
      },
      "outputs": [
        {
          "output_type": "stream",
          "name": "stdout",
          "text": [
            "\u001b[43mNote: you may need to restart the kernel using dbutils.library.restartPython() to use updated packages.\u001b[0m\nRequirement already satisfied: transformers in /databricks/python3/lib/python3.10/site-packages (4.36.1)\nCollecting transformers\n  Downloading transformers-4.40.2-py3-none-any.whl (9.0 MB)\n     ━━━━━━━━━━━━━━━━━━━━━━━━━━━━━━━━━━━━━━━━ 9.0/9.0 MB 40.3 MB/s eta 0:00:00\nRequirement already satisfied: datasets in /databricks/python3/lib/python3.10/site-packages (2.15.0)\nCollecting datasets\n  Downloading datasets-2.19.1-py3-none-any.whl (542 kB)\n     ━━━━━━━━━━━━━━━━━━━━━━━━━━━━━━━━━━━━━━ 542.0/542.0 kB 51.8 MB/s eta 0:00:00\nRequirement already satisfied: evaluate in /databricks/python3/lib/python3.10/site-packages (0.4.1)\nCollecting evaluate\n  Downloading evaluate-0.4.2-py3-none-any.whl (84 kB)\n     ━━━━━━━━━━━━━━━━━━━━━━━━━━━━━━━━━━━━━━━━ 84.1/84.1 kB 8.2 MB/s eta 0:00:00\nRequirement already satisfied: accelerate in /databricks/python3/lib/python3.10/site-packages (0.25.0)\nCollecting accelerate\n  Downloading accelerate-0.30.1-py3-none-any.whl (302 kB)\n     ━━━━━━━━━━━━━━━━━━━━━━━━━━━━━━━━━━━━━━ 302.6/302.6 kB 35.1 MB/s eta 0:00:00\nRequirement already satisfied: tqdm>=4.27 in /databricks/python3/lib/python3.10/site-packages (from transformers) (4.64.1)\nRequirement already satisfied: huggingface-hub<1.0,>=0.19.3 in /databricks/python3/lib/python3.10/site-packages (from transformers) (0.19.4)\nRequirement already satisfied: packaging>=20.0 in /databricks/python3/lib/python3.10/site-packages (from transformers) (23.2)\nRequirement already satisfied: requests in /databricks/python3/lib/python3.10/site-packages (from transformers) (2.28.1)\nRequirement already satisfied: numpy>=1.17 in /databricks/python3/lib/python3.10/site-packages (from transformers) (1.23.5)\nCollecting tokenizers<0.20,>=0.19\n  Using cached tokenizers-0.19.1-cp310-cp310-manylinux_2_17_x86_64.manylinux2014_x86_64.whl (3.6 MB)\nRequirement already satisfied: filelock in /databricks/python3/lib/python3.10/site-packages (from transformers) (3.9.0)\nRequirement already satisfied: regex!=2019.12.17 in /databricks/python3/lib/python3.10/site-packages (from transformers) (2022.7.9)\nRequirement already satisfied: safetensors>=0.4.1 in /databricks/python3/lib/python3.10/site-packages (from transformers) (0.4.1)\nRequirement already satisfied: pyyaml>=5.1 in /databricks/python3/lib/python3.10/site-packages (from transformers) (6.0)\nRequirement already satisfied: pyarrow-hotfix in /databricks/python3/lib/python3.10/site-packages (from datasets) (0.5)\nRequirement already satisfied: xxhash in /databricks/python3/lib/python3.10/site-packages (from datasets) (3.4.1)\nCollecting huggingface-hub<1.0,>=0.19.3\n  Using cached huggingface_hub-0.23.0-py3-none-any.whl (401 kB)\nRequirement already satisfied: dill<0.3.9,>=0.3.0 in /databricks/python3/lib/python3.10/site-packages (from datasets) (0.3.6)\nCollecting pyarrow>=12.0.0\n  Downloading pyarrow-16.1.0-cp310-cp310-manylinux_2_28_x86_64.whl (40.8 MB)\n     ━━━━━━━━━━━━━━━━━━━━━━━━━━━━━━━━━━━━━━━━ 40.8/40.8 MB 11.7 MB/s eta 0:00:00\nRequirement already satisfied: aiohttp in /databricks/python3/lib/python3.10/site-packages (from datasets) (3.9.1)\nRequirement already satisfied: fsspec[http]<=2024.3.1,>=2023.1.0 in /databricks/python3/lib/python3.10/site-packages (from datasets) (2023.6.0)\nRequirement already satisfied: multiprocess in /databricks/python3/lib/python3.10/site-packages (from datasets) (0.70.14)\nRequirement already satisfied: pandas in /databricks/python3/lib/python3.10/site-packages (from datasets) (1.5.3)\nRequirement already satisfied: psutil in /databricks/python3/lib/python3.10/site-packages (from accelerate) (5.9.0)\nRequirement already satisfied: torch>=1.10.0 in /databricks/python3/lib/python3.10/site-packages (from accelerate) (2.0.1+cu118)\nRequirement already satisfied: frozenlist>=1.1.1 in /databricks/python3/lib/python3.10/site-packages (from aiohttp->datasets) (1.4.1)\nRequirement already satisfied: yarl<2.0,>=1.0 in /databricks/python3/lib/python3.10/site-packages (from aiohttp->datasets) (1.9.4)\nRequirement already satisfied: multidict<7.0,>=4.5 in /databricks/python3/lib/python3.10/site-packages (from aiohttp->datasets) (6.0.4)\nRequirement already satisfied: async-timeout<5.0,>=4.0 in /databricks/python3/lib/python3.10/site-packages (from aiohttp->datasets) (4.0.3)\nRequirement already satisfied: attrs>=17.3.0 in /databricks/python3/lib/python3.10/site-packages (from aiohttp->datasets) (22.1.0)\nRequirement already satisfied: aiosignal>=1.1.2 in /databricks/python3/lib/python3.10/site-packages (from aiohttp->datasets) (1.3.1)\nRequirement already satisfied: typing-extensions>=3.7.4.3 in /databricks/python3/lib/python3.10/site-packages (from huggingface-hub<1.0,>=0.19.3->transformers) (4.4.0)\nRequirement already satisfied: urllib3<1.27,>=1.21.1 in /databricks/python3/lib/python3.10/site-packages (from requests->transformers) (1.26.14)\nRequirement already satisfied: charset-normalizer<3,>=2 in /databricks/python3/lib/python3.10/site-packages (from requests->transformers) (2.0.4)\nRequirement already satisfied: idna<4,>=2.5 in /databricks/python3/lib/python3.10/site-packages (from requests->transformers) (3.4)\nRequirement already satisfied: certifi>=2017.4.17 in /databricks/python3/lib/python3.10/site-packages (from requests->transformers) (2022.12.7)\nRequirement already satisfied: networkx in /databricks/python3/lib/python3.10/site-packages (from torch>=1.10.0->accelerate) (2.8.4)\nRequirement already satisfied: triton==2.0.0 in /databricks/python3/lib/python3.10/site-packages (from torch>=1.10.0->accelerate) (2.0.0)\nRequirement already satisfied: jinja2 in /databricks/python3/lib/python3.10/site-packages (from torch>=1.10.0->accelerate) (3.1.2)\nRequirement already satisfied: sympy in /databricks/python3/lib/python3.10/site-packages (from torch>=1.10.0->accelerate) (1.11.1)\nRequirement already satisfied: lit in /databricks/python3/lib/python3.10/site-packages (from triton==2.0.0->torch>=1.10.0->accelerate) (17.0.6)\nRequirement already satisfied: cmake in /databricks/python3/lib/python3.10/site-packages (from triton==2.0.0->torch>=1.10.0->accelerate) (3.28.1)\nRequirement already satisfied: pytz>=2020.1 in /databricks/python3/lib/python3.10/site-packages (from pandas->datasets) (2022.7)\nRequirement already satisfied: python-dateutil>=2.8.1 in /databricks/python3/lib/python3.10/site-packages (from pandas->datasets) (2.8.2)\nRequirement already satisfied: six>=1.5 in /usr/lib/python3/dist-packages (from python-dateutil>=2.8.1->pandas->datasets) (1.16.0)\nRequirement already satisfied: MarkupSafe>=2.0 in /databricks/python3/lib/python3.10/site-packages (from jinja2->torch>=1.10.0->accelerate) (2.1.1)\nRequirement already satisfied: mpmath>=0.19 in /databricks/python3/lib/python3.10/site-packages (from sympy->torch>=1.10.0->accelerate) (1.2.1)\nInstalling collected packages: pyarrow, huggingface-hub, tokenizers, transformers, datasets, evaluate, accelerate\n  Attempting uninstall: pyarrow\n    Found existing installation: pyarrow 8.0.0\n    Not uninstalling pyarrow at /databricks/python3/lib/python3.10/site-packages, outside environment /local_disk0/.ephemeral_nfs/envs/pythonEnv-cb987ab7-6bcf-45fc-b021-a623a8896b5b\n    Can't uninstall 'pyarrow'. No files were found to uninstall.\n  Attempting uninstall: huggingface-hub\n    Found existing installation: huggingface-hub 0.19.4\n    Not uninstalling huggingface-hub at /databricks/python3/lib/python3.10/site-packages, outside environment /local_disk0/.ephemeral_nfs/envs/pythonEnv-cb987ab7-6bcf-45fc-b021-a623a8896b5b\n    Can't uninstall 'huggingface-hub'. No files were found to uninstall.\n  Attempting uninstall: tokenizers\n    Found existing installation: tokenizers 0.15.0\n    Not uninstalling tokenizers at /databricks/python3/lib/python3.10/site-packages, outside environment /local_disk0/.ephemeral_nfs/envs/pythonEnv-cb987ab7-6bcf-45fc-b021-a623a8896b5b\n    Can't uninstall 'tokenizers'. No files were found to uninstall.\n  Attempting uninstall: transformers\n    Found existing installation: transformers 4.36.1\n    Not uninstalling transformers at /databricks/python3/lib/python3.10/site-packages, outside environment /local_disk0/.ephemeral_nfs/envs/pythonEnv-cb987ab7-6bcf-45fc-b021-a623a8896b5b\n    Can't uninstall 'transformers'. No files were found to uninstall.\n  Attempting uninstall: datasets\n    Found existing installation: datasets 2.15.0\n    Not uninstalling datasets at /databricks/python3/lib/python3.10/site-packages, outside environment /local_disk0/.ephemeral_nfs/envs/pythonEnv-cb987ab7-6bcf-45fc-b021-a623a8896b5b\n    Can't uninstall 'datasets'. No files were found to uninstall.\n  Attempting uninstall: evaluate\n    Found existing installation: evaluate 0.4.1\n    Not uninstalling evaluate at /databricks/python3/lib/python3.10/site-packages, outside environment /local_disk0/.ephemeral_nfs/envs/pythonEnv-cb987ab7-6bcf-45fc-b021-a623a8896b5b\n    Can't uninstall 'evaluate'. No files were found to uninstall.\n  Attempting uninstall: accelerate\n    Found existing installation: accelerate 0.25.0\n    Not uninstalling accelerate at /databricks/python3/lib/python3.10/site-packages, outside environment /local_disk0/.ephemeral_nfs/envs/pythonEnv-cb987ab7-6bcf-45fc-b021-a623a8896b5b\n    Can't uninstall 'accelerate'. No files were found to uninstall.\nERROR: pip's dependency resolver does not currently take into account all the packages that are installed. This behaviour is the source of the following dependency conflicts.\npetastorm 0.12.1 requires pyspark>=2.1.0, which is not installed.\nSuccessfully installed accelerate-0.30.1 datasets-2.19.1 evaluate-0.4.2 huggingface-hub-0.23.0 pyarrow-16.1.0 tokenizers-0.19.1 transformers-4.40.2\n\u001b[43mNote: you may need to restart the kernel using dbutils.library.restartPython() to use updated packages.\u001b[0m\n"
          ]
        }
      ],
      "source": [
        "%pip install -U transformers datasets evaluate accelerate\n",
        "#%pip install optuna"
      ]
    },
    {
      "cell_type": "code",
      "execution_count": null,
      "metadata": {
        "application/vnd.databricks.v1+cell": {
          "cellMetadata": {
            "byteLimit": 2048000,
            "rowLimit": 10000
          },
          "inputWidgets": {},
          "nuid": "4204f192-14e0-4340-98f6-afa396638eae",
          "showTitle": false,
          "title": ""
        },
        "id": "79ViF0B3ZIR-"
      },
      "outputs": [],
      "source": [
        "dbutils.library.restartPython()"
      ]
    },
    {
      "cell_type": "code",
      "execution_count": null,
      "metadata": {
        "application/vnd.databricks.v1+cell": {
          "cellMetadata": {
            "byteLimit": 2048000,
            "rowLimit": 10000
          },
          "inputWidgets": {},
          "nuid": "ddfdb518-33fe-49d4-92c9-f1f08ef7e71b",
          "showTitle": false,
          "title": ""
        },
        "id": "fQoJYdoAZIR_",
        "outputId": "69e015b2-85de-41dd-a2b2-e523d029a952"
      },
      "outputs": [
        {
          "output_type": "stream",
          "name": "stderr",
          "text": [
            "2024-05-16 17:36:23.881885: E tensorflow/compiler/xla/stream_executor/cuda/cuda_dnn.cc:9342] Unable to register cuDNN factory: Attempting to register factory for plugin cuDNN when one has already been registered\n2024-05-16 17:36:23.881966: E tensorflow/compiler/xla/stream_executor/cuda/cuda_fft.cc:609] Unable to register cuFFT factory: Attempting to register factory for plugin cuFFT when one has already been registered\n2024-05-16 17:36:23.882951: E tensorflow/compiler/xla/stream_executor/cuda/cuda_blas.cc:1518] Unable to register cuBLAS factory: Attempting to register factory for plugin cuBLAS when one has already been registered\n2024-05-16 17:36:24.582941: I tensorflow/core/platform/cpu_feature_guard.cc:182] This TensorFlow binary is optimized to use available CPU instructions in performance-critical operations.\nTo enable the following instructions: AVX2 FMA, in other operations, rebuild TensorFlow with the appropriate compiler flags.\n"
          ]
        }
      ],
      "source": [
        "# Importing stock ml libraries\n",
        "import numpy as np\n",
        "import pandas as pd\n",
        "from sklearn import metrics\n",
        "import transformers\n",
        "import torch\n",
        "import torch.nn as nn\n",
        "from torch.utils.data import Dataset, DataLoader, RandomSampler, SequentialSampler\n",
        "from transformers import BertTokenizer, BertModel, BertConfig\n",
        "\n",
        "# for viz\n",
        "import matplotlib.pyplot as plt\n",
        "\n",
        "# Preparing for TPU usage\n",
        "# import torch_xla\n",
        "# import torch_xla.core.xla_model as xm\n",
        "# device = xm.xla_device()\n",
        "import copy\n"
      ]
    },
    {
      "cell_type": "code",
      "execution_count": null,
      "metadata": {
        "application/vnd.databricks.v1+cell": {
          "cellMetadata": {
            "byteLimit": 2048000,
            "rowLimit": 10000
          },
          "inputWidgets": {},
          "nuid": "59d84a00-f5ac-4806-b5de-0f2a5dcc32c2",
          "showTitle": false,
          "title": ""
        },
        "id": "zauLPn2SZIR_"
      },
      "outputs": [],
      "source": [
        "# # Setting up the device for GPU usage\n",
        "\n",
        "from torch import cuda\n",
        "device = 'cuda' if cuda.is_available() else 'cpu'"
      ]
    },
    {
      "cell_type": "code",
      "execution_count": null,
      "metadata": {
        "application/vnd.databricks.v1+cell": {
          "cellMetadata": {
            "byteLimit": 2048000,
            "rowLimit": 10000
          },
          "inputWidgets": {},
          "nuid": "aa92c920-4063-4138-acb3-a61ab745dae1",
          "showTitle": false,
          "title": ""
        },
        "id": "zxjRMbwFZIR_"
      },
      "outputs": [],
      "source": [
        "# train\n",
        "arg_training = pd.read_csv(\"/dbfs/mnt/tesi/hs/data_ir/arguments-training.tsv\", delimiter='\\t')\n",
        "label_training = pd.read_csv(\"/dbfs/mnt/tesi/hs/data_ir/labels-training.tsv\", delimiter= '\\t')\n",
        "df_training = pd.merge(arg_training, label_training, how='left', on=\"Argument ID\")"
      ]
    },
    {
      "cell_type": "code",
      "execution_count": null,
      "metadata": {
        "application/vnd.databricks.v1+cell": {
          "cellMetadata": {
            "byteLimit": 2048000,
            "rowLimit": 10000
          },
          "inputWidgets": {},
          "nuid": "8de5c215-bdbf-41ff-ac37-4fcf9def3b97",
          "showTitle": false,
          "title": ""
        },
        "id": "xAwyJ8lkZISA"
      },
      "outputs": [],
      "source": [
        "# validation\n",
        "arg_validation = pd.read_csv(\"/dbfs/mnt/tesi/hs/data_ir/arguments-validation.tsv\", delimiter='\\t')\n",
        "label_validation = pd.read_csv(\"/dbfs/mnt/tesi/hs/data_ir/labels-validation.tsv\", delimiter= '\\t')\n",
        "df_validation = pd.merge(arg_validation, label_validation, how='left', on=\"Argument ID\")\n",
        "\n"
      ]
    },
    {
      "cell_type": "code",
      "execution_count": null,
      "metadata": {
        "application/vnd.databricks.v1+cell": {
          "cellMetadata": {
            "byteLimit": 2048000,
            "rowLimit": 10000
          },
          "inputWidgets": {},
          "nuid": "05ba2ad2-3d4d-4f68-910c-1a9c4c6ea02f",
          "showTitle": false,
          "title": ""
        },
        "id": "9Bo9BdjEZISA"
      },
      "outputs": [],
      "source": [
        "# test\n",
        "arg_test = pd.read_csv(\"/dbfs/mnt/tesi/hs/data_ir/arguments-test.tsv\", delimiter='\\t')\n",
        "label_test = pd.read_csv(\"/dbfs/mnt/tesi/hs/data_ir/labels-test.tsv\", delimiter= '\\t')\n",
        "df_test = pd.merge(arg_test, label_test, how='left', on=\"Argument ID\")"
      ]
    },
    {
      "cell_type": "code",
      "execution_count": null,
      "metadata": {
        "application/vnd.databricks.v1+cell": {
          "cellMetadata": {
            "byteLimit": 2048000,
            "rowLimit": 10000
          },
          "inputWidgets": {},
          "nuid": "b3b18a93-25da-4bf8-bb62-147e0bfcfc40",
          "showTitle": false,
          "title": ""
        },
        "id": "E9kinFO4ZISA"
      },
      "outputs": [],
      "source": [
        "selected_col = ['Argument ID', 'Conclusion', 'Stance', 'Premise','Self-direction: action', 'Achievement', 'Security: personal', 'Security: societal', 'Benevolence: caring', 'Universalism: concern']\n",
        "\n",
        "subset_train = df_training[selected_col]\n",
        "subset_val = df_validation[selected_col]\n",
        "subset_test = df_test[selected_col]\n"
      ]
    },
    {
      "cell_type": "code",
      "execution_count": null,
      "metadata": {
        "application/vnd.databricks.v1+cell": {
          "cellMetadata": {
            "byteLimit": 2048000,
            "rowLimit": 10000
          },
          "inputWidgets": {},
          "nuid": "da2140a9-2971-428a-8a5f-d1210412d316",
          "showTitle": false,
          "title": ""
        },
        "id": "RKyvp5smZISA",
        "outputId": "fcdb9bb4-7c9b-4fbd-81b5-b1bb7142f63a"
      },
      "outputs": [
        {
          "output_type": "stream",
          "name": "stderr",
          "text": [
            "/root/.ipykernel/15996/command-2990697313651037-737349166:1: SettingWithCopyWarning: \nA value is trying to be set on a copy of a slice from a DataFrame.\nTry using .loc[row_indexer,col_indexer] = value instead\n\nSee the caveats in the documentation: https://pandas.pydata.org/pandas-docs/stable/user_guide/indexing.html#returning-a-view-versus-a-copy\n  subset_train['list'] = subset_train[subset_train.columns[4:]].values.tolist()\n"
          ]
        },
        {
          "output_type": "execute_result",
          "data": {
            "text/html": [
              "<div>\n",
              "<style scoped>\n",
              "    .dataframe tbody tr th:only-of-type {\n",
              "        vertical-align: middle;\n",
              "    }\n",
              "\n",
              "    .dataframe tbody tr th {\n",
              "        vertical-align: top;\n",
              "    }\n",
              "\n",
              "    .dataframe thead th {\n",
              "        text-align: right;\n",
              "    }\n",
              "</style>\n",
              "<table border=\"1\" class=\"dataframe\">\n",
              "  <thead>\n",
              "    <tr style=\"text-align: right;\">\n",
              "      <th></th>\n",
              "      <th>Premise</th>\n",
              "      <th>list</th>\n",
              "    </tr>\n",
              "  </thead>\n",
              "  <tbody>\n",
              "    <tr>\n",
              "      <th>0</th>\n",
              "      <td>we should ban human cloning as it will only ca...</td>\n",
              "      <td>[0, 0, 0, 1, 0, 0]</td>\n",
              "    </tr>\n",
              "    <tr>\n",
              "      <th>1</th>\n",
              "      <td>fast food should be banned because it is reall...</td>\n",
              "      <td>[0, 0, 1, 0, 0, 0]</td>\n",
              "    </tr>\n",
              "    <tr>\n",
              "      <th>2</th>\n",
              "      <td>sometimes economic sanctions are the only thin...</td>\n",
              "      <td>[0, 0, 0, 1, 0, 0]</td>\n",
              "    </tr>\n",
              "    <tr>\n",
              "      <th>3</th>\n",
              "      <td>capital punishment is sometimes the only optio...</td>\n",
              "      <td>[0, 0, 0, 1, 0, 1]</td>\n",
              "    </tr>\n",
              "    <tr>\n",
              "      <th>4</th>\n",
              "      <td>factory farming allows for the production of c...</td>\n",
              "      <td>[0, 0, 1, 0, 1, 1]</td>\n",
              "    </tr>\n",
              "  </tbody>\n",
              "</table>\n",
              "</div>"
            ],
            "text/plain": [
              "                                             Premise                list\n",
              "0  we should ban human cloning as it will only ca...  [0, 0, 0, 1, 0, 0]\n",
              "1  fast food should be banned because it is reall...  [0, 0, 1, 0, 0, 0]\n",
              "2  sometimes economic sanctions are the only thin...  [0, 0, 0, 1, 0, 0]\n",
              "3  capital punishment is sometimes the only optio...  [0, 0, 0, 1, 0, 1]\n",
              "4  factory farming allows for the production of c...  [0, 0, 1, 0, 1, 1]"
            ]
          },
          "execution_count": 7,
          "metadata": {}
        }
      ],
      "source": [
        "subset_train['list'] = subset_train[subset_train.columns[4:]].values.tolist()\n",
        "train_set = subset_train[['Premise', 'list']].copy()\n",
        "train_set.head()"
      ]
    },
    {
      "cell_type": "code",
      "execution_count": null,
      "metadata": {
        "application/vnd.databricks.v1+cell": {
          "cellMetadata": {
            "byteLimit": 2048000,
            "rowLimit": 10000
          },
          "inputWidgets": {},
          "nuid": "6d9041f9-4727-4818-98c1-885a1b069e25",
          "showTitle": false,
          "title": ""
        },
        "id": "so24ANsmZISB",
        "outputId": "6c6602a3-218f-4c29-adab-73d528959330"
      },
      "outputs": [
        {
          "output_type": "stream",
          "name": "stderr",
          "text": [
            "/root/.ipykernel/15996/command-2990697313651038-977711949:1: SettingWithCopyWarning: \nA value is trying to be set on a copy of a slice from a DataFrame.\nTry using .loc[row_indexer,col_indexer] = value instead\n\nSee the caveats in the documentation: https://pandas.pydata.org/pandas-docs/stable/user_guide/indexing.html#returning-a-view-versus-a-copy\n  subset_val['list'] = subset_val[subset_val.columns[4:]].values.tolist()\n"
          ]
        },
        {
          "output_type": "execute_result",
          "data": {
            "text/html": [
              "<div>\n",
              "<style scoped>\n",
              "    .dataframe tbody tr th:only-of-type {\n",
              "        vertical-align: middle;\n",
              "    }\n",
              "\n",
              "    .dataframe tbody tr th {\n",
              "        vertical-align: top;\n",
              "    }\n",
              "\n",
              "    .dataframe thead th {\n",
              "        text-align: right;\n",
              "    }\n",
              "</style>\n",
              "<table border=\"1\" class=\"dataframe\">\n",
              "  <thead>\n",
              "    <tr style=\"text-align: right;\">\n",
              "      <th></th>\n",
              "      <th>Premise</th>\n",
              "      <th>list</th>\n",
              "    </tr>\n",
              "  </thead>\n",
              "  <tbody>\n",
              "    <tr>\n",
              "      <th>0</th>\n",
              "      <td>if entrapment can serve to more easily capture...</td>\n",
              "      <td>[0, 0, 0, 1, 0, 0]</td>\n",
              "    </tr>\n",
              "    <tr>\n",
              "      <th>1</th>\n",
              "      <td>the use of public defenders should be mandator...</td>\n",
              "      <td>[0, 0, 0, 0, 0, 1]</td>\n",
              "    </tr>\n",
              "    <tr>\n",
              "      <th>2</th>\n",
              "      <td>payday loans create a more impoverished societ...</td>\n",
              "      <td>[0, 0, 1, 0, 0, 1]</td>\n",
              "    </tr>\n",
              "    <tr>\n",
              "      <th>3</th>\n",
              "      <td>Surrogacy should not be banned as it is the wo...</td>\n",
              "      <td>[1, 0, 0, 0, 0, 0]</td>\n",
              "    </tr>\n",
              "    <tr>\n",
              "      <th>4</th>\n",
              "      <td>entrapment is gravely immoral and against huma...</td>\n",
              "      <td>[0, 0, 0, 0, 0, 1]</td>\n",
              "    </tr>\n",
              "  </tbody>\n",
              "</table>\n",
              "</div>"
            ],
            "text/plain": [
              "                                             Premise                list\n",
              "0  if entrapment can serve to more easily capture...  [0, 0, 0, 1, 0, 0]\n",
              "1  the use of public defenders should be mandator...  [0, 0, 0, 0, 0, 1]\n",
              "2  payday loans create a more impoverished societ...  [0, 0, 1, 0, 0, 1]\n",
              "3  Surrogacy should not be banned as it is the wo...  [1, 0, 0, 0, 0, 0]\n",
              "4  entrapment is gravely immoral and against huma...  [0, 0, 0, 0, 0, 1]"
            ]
          },
          "execution_count": 8,
          "metadata": {}
        }
      ],
      "source": [
        "subset_val['list'] = subset_val[subset_val.columns[4:]].values.tolist()\n",
        "val_set = subset_val[['Premise', 'list']].copy()\n",
        "val_set.head()"
      ]
    },
    {
      "cell_type": "code",
      "execution_count": null,
      "metadata": {
        "application/vnd.databricks.v1+cell": {
          "cellMetadata": {
            "byteLimit": 2048000,
            "rowLimit": 10000
          },
          "inputWidgets": {},
          "nuid": "bdce731a-b6a8-4c4d-b116-9b1fb33de379",
          "showTitle": false,
          "title": ""
        },
        "id": "9HOs2DueZISB",
        "outputId": "88e36c44-b2bf-4d88-dfed-cc100876707b"
      },
      "outputs": [
        {
          "output_type": "stream",
          "name": "stderr",
          "text": [
            "/root/.ipykernel/15996/command-2990697313651039-2477271213:1: SettingWithCopyWarning: \nA value is trying to be set on a copy of a slice from a DataFrame.\nTry using .loc[row_indexer,col_indexer] = value instead\n\nSee the caveats in the documentation: https://pandas.pydata.org/pandas-docs/stable/user_guide/indexing.html#returning-a-view-versus-a-copy\n  subset_test['list'] = subset_test[subset_test.columns[4:]].values.tolist()\n"
          ]
        },
        {
          "output_type": "execute_result",
          "data": {
            "text/html": [
              "<div>\n",
              "<style scoped>\n",
              "    .dataframe tbody tr th:only-of-type {\n",
              "        vertical-align: middle;\n",
              "    }\n",
              "\n",
              "    .dataframe tbody tr th {\n",
              "        vertical-align: top;\n",
              "    }\n",
              "\n",
              "    .dataframe thead th {\n",
              "        text-align: right;\n",
              "    }\n",
              "</style>\n",
              "<table border=\"1\" class=\"dataframe\">\n",
              "  <thead>\n",
              "    <tr style=\"text-align: right;\">\n",
              "      <th></th>\n",
              "      <th>Premise</th>\n",
              "      <th>list</th>\n",
              "    </tr>\n",
              "  </thead>\n",
              "  <tbody>\n",
              "    <tr>\n",
              "      <th>0</th>\n",
              "      <td>affirmative action helps with employment equity.</td>\n",
              "      <td>[0, 1, 1, 0, 0, 1]</td>\n",
              "    </tr>\n",
              "    <tr>\n",
              "      <th>1</th>\n",
              "      <td>affirmative action can be considered discrimin...</td>\n",
              "      <td>[0, 1, 0, 0, 0, 1]</td>\n",
              "    </tr>\n",
              "    <tr>\n",
              "      <th>2</th>\n",
              "      <td>naturopathy is very dangerous for the most vul...</td>\n",
              "      <td>[0, 1, 1, 0, 0, 1]</td>\n",
              "    </tr>\n",
              "    <tr>\n",
              "      <th>3</th>\n",
              "      <td>women shouldn't be in combat because they aren...</td>\n",
              "      <td>[0, 1, 0, 0, 0, 0]</td>\n",
              "    </tr>\n",
              "    <tr>\n",
              "      <th>4</th>\n",
              "      <td>once eradicated illnesses are returning due to...</td>\n",
              "      <td>[0, 1, 1, 1, 1, 0]</td>\n",
              "    </tr>\n",
              "  </tbody>\n",
              "</table>\n",
              "</div>"
            ],
            "text/plain": [
              "                                             Premise                list\n",
              "0   affirmative action helps with employment equity.  [0, 1, 1, 0, 0, 1]\n",
              "1  affirmative action can be considered discrimin...  [0, 1, 0, 0, 0, 1]\n",
              "2  naturopathy is very dangerous for the most vul...  [0, 1, 1, 0, 0, 1]\n",
              "3  women shouldn't be in combat because they aren...  [0, 1, 0, 0, 0, 0]\n",
              "4  once eradicated illnesses are returning due to...  [0, 1, 1, 1, 1, 0]"
            ]
          },
          "execution_count": 9,
          "metadata": {}
        }
      ],
      "source": [
        "subset_test['list'] = subset_test[subset_test.columns[4:]].values.tolist()\n",
        "test_set = subset_test[['Premise', 'list']].copy()\n",
        "test_set.head()"
      ]
    },
    {
      "cell_type": "code",
      "execution_count": null,
      "metadata": {
        "application/vnd.databricks.v1+cell": {
          "cellMetadata": {
            "byteLimit": 2048000,
            "rowLimit": 10000
          },
          "inputWidgets": {},
          "nuid": "2e271f2c-6908-4709-8127-fe434e490e4d",
          "showTitle": false,
          "title": ""
        },
        "colab": {
          "referenced_widgets": [
            "93fe257e2e2e4d4aa43a6d6b7ac5fb06",
            "b8450634b1f743faa40c79c56493850c",
            "8d9aacfe9afc493c94149062bbb10eb7",
            "4b4be53f4e6a4a24bd3699a7fcd2b944"
          ]
        },
        "id": "ywBHsbKoZISB",
        "outputId": "9a00b4af-bcb8-43d4-b372-909d1a28f0ab"
      },
      "outputs": [
        {
          "output_type": "stream",
          "name": "stderr",
          "text": [
            "/local_disk0/.ephemeral_nfs/envs/pythonEnv-cb987ab7-6bcf-45fc-b021-a623a8896b5b/lib/python3.10/site-packages/huggingface_hub/file_download.py:1132: FutureWarning: `resume_download` is deprecated and will be removed in version 1.0.0. Downloads always resume when possible. If you want to force a new download, use `force_download=True`.\n  warnings.warn(\n"
          ]
        },
        {
          "output_type": "display_data",
          "data": {
            "application/vnd.jupyter.widget-view+json": {
              "model_id": "93fe257e2e2e4d4aa43a6d6b7ac5fb06",
              "version_major": 2,
              "version_minor": 0
            },
            "text/plain": [
              "tokenizer_config.json:   0%|          | 0.00/48.0 [00:00<?, ?B/s]"
            ]
          },
          "metadata": {}
        },
        {
          "output_type": "display_data",
          "data": {
            "application/vnd.jupyter.widget-view+json": {
              "model_id": "b8450634b1f743faa40c79c56493850c",
              "version_major": 2,
              "version_minor": 0
            },
            "text/plain": [
              "vocab.txt:   0%|          | 0.00/232k [00:00<?, ?B/s]"
            ]
          },
          "metadata": {}
        },
        {
          "output_type": "display_data",
          "data": {
            "application/vnd.jupyter.widget-view+json": {
              "model_id": "8d9aacfe9afc493c94149062bbb10eb7",
              "version_major": 2,
              "version_minor": 0
            },
            "text/plain": [
              "tokenizer.json:   0%|          | 0.00/466k [00:00<?, ?B/s]"
            ]
          },
          "metadata": {}
        },
        {
          "output_type": "display_data",
          "data": {
            "application/vnd.jupyter.widget-view+json": {
              "model_id": "4b4be53f4e6a4a24bd3699a7fcd2b944",
              "version_major": 2,
              "version_minor": 0
            },
            "text/plain": [
              "config.json:   0%|          | 0.00/570 [00:00<?, ?B/s]"
            ]
          },
          "metadata": {}
        }
      ],
      "source": [
        "# variables that will be used later on in the training\n",
        "MAX_LEN = 512\n",
        "TRAIN_BATCH_SIZE = 16\n",
        "VALID_BATCH_SIZE = 16\n",
        "EPOCHS = 10\n",
        "LEARNING_RATE = 1.5e-04\n",
        "tokenizer = BertTokenizer.from_pretrained('bert-base-uncased')"
      ]
    },
    {
      "cell_type": "code",
      "execution_count": null,
      "metadata": {
        "application/vnd.databricks.v1+cell": {
          "cellMetadata": {
            "byteLimit": 2048000,
            "rowLimit": 10000
          },
          "inputWidgets": {},
          "nuid": "5c5881de-6465-461b-a3af-ee075942962d",
          "showTitle": false,
          "title": ""
        },
        "id": "6mT74RPwZISB"
      },
      "outputs": [],
      "source": [
        "class CustomDataset(Dataset):\n",
        "\n",
        "    def __init__(self, dataframe, tokenizer, max_len):\n",
        "        self.tokenizer = tokenizer\n",
        "        self.data = dataframe\n",
        "        self.Premise = dataframe.Premise\n",
        "        self.targets = self.data.list\n",
        "        self.max_len = max_len\n",
        "\n",
        "    def __len__(self):\n",
        "        return len(self.Premise)\n",
        "\n",
        "    def __getitem__(self, index):\n",
        "        Premise = str(self.Premise[index])\n",
        "        Premise = \" \".join(Premise.split())\n",
        "\n",
        "        inputs = self.tokenizer.encode_plus(\n",
        "            Premise,\n",
        "            None,\n",
        "            add_special_tokens=True,\n",
        "            max_length=self.max_len,\n",
        "            #pad_to_max_length=True, deprecated\n",
        "            padding='max_length',\n",
        "            return_token_type_ids=True\n",
        "        )\n",
        "        ids = inputs['input_ids']\n",
        "        mask = inputs['attention_mask']\n",
        "        token_type_ids = inputs[\"token_type_ids\"]\n",
        "\n",
        "\n",
        "        return {\n",
        "            'ids': torch.tensor(ids, dtype=torch.long),\n",
        "            'mask': torch.tensor(mask, dtype=torch.long),\n",
        "            'token_type_ids': torch.tensor(token_type_ids, dtype=torch.long),\n",
        "            'targets': torch.tensor(self.targets[index], dtype=torch.float)\n",
        "        }"
      ]
    },
    {
      "cell_type": "code",
      "execution_count": null,
      "metadata": {
        "application/vnd.databricks.v1+cell": {
          "cellMetadata": {
            "byteLimit": 2048000,
            "rowLimit": 10000
          },
          "inputWidgets": {},
          "nuid": "97cb8202-ee48-4cfb-8a8d-b7c965acd39c",
          "showTitle": false,
          "title": ""
        },
        "id": "CvxoZizoZISC"
      },
      "outputs": [],
      "source": [
        "train_set = train_set.reset_index(drop=True)\n",
        "test_set = test_set.reset_index(drop=True)\n"
      ]
    },
    {
      "cell_type": "code",
      "execution_count": null,
      "metadata": {
        "application/vnd.databricks.v1+cell": {
          "cellMetadata": {
            "byteLimit": 2048000,
            "rowLimit": 10000
          },
          "inputWidgets": {},
          "nuid": "67b0bf17-c8d4-4069-bf18-0674ad6bafb6",
          "showTitle": false,
          "title": ""
        },
        "id": "Se0YikDHZISC",
        "outputId": "39ddcce9-c83b-4964-e756-f555931e672c"
      },
      "outputs": [
        {
          "output_type": "stream",
          "name": "stdout",
          "text": [
            "TRAIN Dataset: (5393, 2)\nTEST Dataset: (1576, 2)\n"
          ]
        }
      ],
      "source": [
        "print(\"TRAIN Dataset: {}\".format(train_set.shape))\n",
        "print(\"TEST Dataset: {}\".format(test_set.shape))"
      ]
    },
    {
      "cell_type": "code",
      "execution_count": null,
      "metadata": {
        "application/vnd.databricks.v1+cell": {
          "cellMetadata": {
            "byteLimit": 2048000,
            "rowLimit": 10000
          },
          "inputWidgets": {},
          "nuid": "837ff969-4055-475f-b2c9-1ab4b1abaa21",
          "showTitle": false,
          "title": ""
        },
        "id": "abBo6ob1ZISC"
      },
      "outputs": [],
      "source": [
        "training_set = CustomDataset(train_set, tokenizer, MAX_LEN)\n",
        "testing_set = CustomDataset(test_set, tokenizer, MAX_LEN)\n"
      ]
    },
    {
      "cell_type": "code",
      "execution_count": null,
      "metadata": {
        "application/vnd.databricks.v1+cell": {
          "cellMetadata": {
            "byteLimit": 2048000,
            "rowLimit": 10000
          },
          "inputWidgets": {},
          "nuid": "41969002-a5cf-4638-8e74-57b6849b6057",
          "showTitle": false,
          "title": ""
        },
        "id": "_1C1hvMTZISC"
      },
      "outputs": [],
      "source": [
        "\n",
        "train_params = {'batch_size': TRAIN_BATCH_SIZE,\n",
        "                'shuffle': True,\n",
        "                'num_workers': 0\n",
        "                }\n",
        "\n",
        "test_params = {'batch_size': VALID_BATCH_SIZE,\n",
        "                'shuffle': True,\n",
        "                'num_workers': 0\n",
        "                }\n",
        "\n",
        "training_loader = DataLoader(training_set, **train_params)\n",
        "testing_loader = DataLoader(testing_set, **test_params)"
      ]
    },
    {
      "cell_type": "code",
      "execution_count": null,
      "metadata": {
        "application/vnd.databricks.v1+cell": {
          "cellMetadata": {
            "byteLimit": 2048000,
            "rowLimit": 10000
          },
          "inputWidgets": {},
          "nuid": "202c6c70-18cf-41f2-a306-61643924bc2f",
          "showTitle": false,
          "title": ""
        },
        "colab": {
          "referenced_widgets": [
            "f58c577cd19f482a9d0bc7f509c72d45"
          ]
        },
        "id": "StiJKTJfZISC",
        "outputId": "07503380-92d3-438f-cb83-c7644ee07a07"
      },
      "outputs": [
        {
          "output_type": "display_data",
          "data": {
            "application/vnd.jupyter.widget-view+json": {
              "model_id": "f58c577cd19f482a9d0bc7f509c72d45",
              "version_major": 2,
              "version_minor": 0
            },
            "text/plain": [
              "model.safetensors:   0%|          | 0.00/440M [00:00<?, ?B/s]"
            ]
          },
          "metadata": {}
        },
        {
          "output_type": "execute_result",
          "data": {
            "text/plain": [
              "BERTClass(\n",
              "  (l1): BertModel(\n",
              "    (embeddings): BertEmbeddings(\n",
              "      (word_embeddings): Embedding(30522, 768, padding_idx=0)\n",
              "      (position_embeddings): Embedding(512, 768)\n",
              "      (token_type_embeddings): Embedding(2, 768)\n",
              "      (LayerNorm): LayerNorm((768,), eps=1e-12, elementwise_affine=True)\n",
              "      (dropout): Dropout(p=0.1, inplace=False)\n",
              "    )\n",
              "    (encoder): BertEncoder(\n",
              "      (layer): ModuleList(\n",
              "        (0-11): 12 x BertLayer(\n",
              "          (attention): BertAttention(\n",
              "            (self): BertSelfAttention(\n",
              "              (query): Linear(in_features=768, out_features=768, bias=True)\n",
              "              (key): Linear(in_features=768, out_features=768, bias=True)\n",
              "              (value): Linear(in_features=768, out_features=768, bias=True)\n",
              "              (dropout): Dropout(p=0.1, inplace=False)\n",
              "            )\n",
              "            (output): BertSelfOutput(\n",
              "              (dense): Linear(in_features=768, out_features=768, bias=True)\n",
              "              (LayerNorm): LayerNorm((768,), eps=1e-12, elementwise_affine=True)\n",
              "              (dropout): Dropout(p=0.1, inplace=False)\n",
              "            )\n",
              "          )\n",
              "          (intermediate): BertIntermediate(\n",
              "            (dense): Linear(in_features=768, out_features=3072, bias=True)\n",
              "            (intermediate_act_fn): GELUActivation()\n",
              "          )\n",
              "          (output): BertOutput(\n",
              "            (dense): Linear(in_features=3072, out_features=768, bias=True)\n",
              "            (LayerNorm): LayerNorm((768,), eps=1e-12, elementwise_affine=True)\n",
              "            (dropout): Dropout(p=0.1, inplace=False)\n",
              "          )\n",
              "        )\n",
              "      )\n",
              "    )\n",
              "    (pooler): BertPooler(\n",
              "      (dense): Linear(in_features=768, out_features=768, bias=True)\n",
              "      (activation): Tanh()\n",
              "    )\n",
              "  )\n",
              "  (l2): Dropout(p=0.3, inplace=False)\n",
              "  (l3): Linear(in_features=768, out_features=6, bias=True)\n",
              ")"
            ]
          },
          "execution_count": 16,
          "metadata": {}
        }
      ],
      "source": [
        "# Creating the customized model, by adding a drop out and a dense layer on top of distil bert to get the final output for the model.\n",
        "\n",
        "class BERTClass(torch.nn.Module):\n",
        "    def __init__(self):\n",
        "        super(BERTClass, self).__init__()\n",
        "        self.l1 = transformers.BertModel.from_pretrained('bert-base-uncased')\n",
        "        self.l2 = torch.nn.Dropout(0.3) # aumento drop out\n",
        "        self.l3 = torch.nn.Linear(768, 6)\n",
        "\n",
        "    def forward(self, ids, mask, token_type_ids):\n",
        "\n",
        "        outputs = self.l1(ids, attention_mask=mask, token_type_ids=token_type_ids)\n",
        "        output_1 = outputs.pooler_output #!!!\n",
        "\n",
        "        output_2 = self.l2(output_1)\n",
        "        output = self.l3(output_2)\n",
        "        return output\n",
        "\n",
        "model = BERTClass()\n",
        "model.to(device)"
      ]
    },
    {
      "cell_type": "code",
      "execution_count": null,
      "metadata": {
        "application/vnd.databricks.v1+cell": {
          "cellMetadata": {
            "byteLimit": 2048000,
            "rowLimit": 10000
          },
          "inputWidgets": {},
          "nuid": "374b61ae-c7a7-49b1-9596-67ffc278d871",
          "showTitle": false,
          "title": ""
        },
        "id": "neI5fYivZISC"
      },
      "outputs": [],
      "source": [
        "def loss_fn(outputs, targets):\n",
        "    return torch.nn.BCEWithLogitsLoss()(outputs, targets)"
      ]
    },
    {
      "cell_type": "code",
      "execution_count": null,
      "metadata": {
        "application/vnd.databricks.v1+cell": {
          "cellMetadata": {
            "byteLimit": 2048000,
            "rowLimit": 10000
          },
          "inputWidgets": {},
          "nuid": "ceba8d21-0341-4645-b722-38be24f6b8fd",
          "showTitle": false,
          "title": ""
        },
        "id": "0WCdGzJVZISC"
      },
      "outputs": [],
      "source": [
        "# optimizer and LR scheduler\n",
        "optimizer = torch.optim.AdamW(model.parameters(), lr=LEARNING_RATE, weight_decay=0.1)  #weight decay\n"
      ]
    },
    {
      "cell_type": "code",
      "execution_count": null,
      "metadata": {
        "application/vnd.databricks.v1+cell": {
          "cellMetadata": {
            "byteLimit": 2048000,
            "rowLimit": 10000
          },
          "inputWidgets": {},
          "nuid": "dacddbd6-e061-4f6f-abb6-15cbdcf7ac81",
          "showTitle": false,
          "title": ""
        },
        "id": "sTEo7b4zZISD"
      },
      "outputs": [],
      "source": [
        "def train(epoch):\n",
        "    model.train()\n",
        "\n",
        "    losses = []\n",
        "\n",
        "    t_fin_targets=[]\n",
        "    t_fin_outputs=[]\n",
        "\n",
        "    for _,data in enumerate(training_loader, 0):\n",
        "        ids = data['ids'].to(device, dtype = torch.long)\n",
        "        mask = data['mask'].to(device, dtype = torch.long)\n",
        "        token_type_ids = data['token_type_ids'].to(device, dtype = torch.long)\n",
        "        targets = data['targets'].to(device, dtype = torch.float)\n",
        "\n",
        "        # forward\n",
        "        outputs = model(ids, mask, token_type_ids)\n",
        "\n",
        "        t_fin_targets.extend(targets.cpu().detach().numpy().tolist())\n",
        "        # apply SIGMOID to get multilabel predictions\n",
        "        t_fin_outputs.extend(torch.sigmoid(outputs).cpu().detach().numpy().tolist())\n",
        "\n",
        "        #optimizer.zero_grad()\n",
        "        loss = loss_fn(outputs, targets)\n",
        "        losses.append(loss.item())\n",
        "\n",
        "        #if _%2000==0:\n",
        "         #   print(f'Epoch: {epoch}, Loss:  {loss.item()}')\n",
        "\n",
        "        # backward\n",
        "        optimizer.zero_grad()\n",
        "        loss.backward()\n",
        "        # clipping\n",
        "        nn.utils.clip_grad_norm_(model.parameters(), max_norm=1.0)\n",
        "        optimizer.step()\n",
        "\n",
        "    return t_fin_outputs, t_fin_targets, np.mean(losses)"
      ]
    },
    {
      "cell_type": "code",
      "execution_count": null,
      "metadata": {
        "application/vnd.databricks.v1+cell": {
          "cellMetadata": {
            "byteLimit": 2048000,
            "rowLimit": 10000
          },
          "inputWidgets": {},
          "nuid": "02e825ab-ec51-4e39-b941-916af892335c",
          "showTitle": false,
          "title": ""
        },
        "id": "BEccRruOZISD"
      },
      "outputs": [],
      "source": [
        "def validation(epoch):\n",
        "    model.eval()\n",
        "\n",
        "    fin_targets=[]\n",
        "    fin_outputs=[]\n",
        "\n",
        "    with torch.no_grad(): #disable gradient calculation, useful for evaluation\n",
        "        for _, data in enumerate(testing_loader, 0):\n",
        "\n",
        "            ids = data['ids'].to(device, dtype = torch.long)\n",
        "            mask = data['mask'].to(device, dtype = torch.long)\n",
        "            token_type_ids = data['token_type_ids'].to(device, dtype = torch.long)\n",
        "            targets = data['targets'].to(device, dtype = torch.float)\n",
        "\n",
        "            outputs = model(ids, mask, token_type_ids)\n",
        "            fin_targets.extend(targets.cpu().detach().numpy().tolist())\n",
        "            fin_outputs.extend(torch.sigmoid(outputs).cpu().detach().numpy().tolist())\n",
        "    return fin_outputs, fin_targets"
      ]
    },
    {
      "cell_type": "code",
      "execution_count": null,
      "metadata": {
        "application/vnd.databricks.v1+cell": {
          "cellMetadata": {
            "byteLimit": 2048000,
            "rowLimit": 10000
          },
          "inputWidgets": {},
          "nuid": "17d2eaf8-ee71-488f-b281-f8f259f5860c",
          "showTitle": false,
          "title": ""
        },
        "id": "6bha2ZaCZISD"
      },
      "outputs": [],
      "source": [
        "metrics_train_eval = {}"
      ]
    },
    {
      "cell_type": "code",
      "execution_count": null,
      "metadata": {
        "application/vnd.databricks.v1+cell": {
          "cellMetadata": {
            "byteLimit": 2048000,
            "rowLimit": 10000
          },
          "inputWidgets": {},
          "nuid": "bd8c481f-2f74-43f8-b3fc-129bfb06a794",
          "showTitle": false,
          "title": ""
        },
        "id": "83WA9oSjZISD",
        "outputId": "200bdd6d-d5c8-4506-bfee-56a46b2ce738"
      },
      "outputs": [
        {
          "output_type": "stream",
          "name": "stdout",
          "text": [
            "Epoch: 0\nTrain Accuracy Score = 0.17281661412942703\nTrain F1 Score (Micro) = 0.4307936718077712\nTrain F1 Score (Macro) = 0.38699934880385944\nTrain loss = 0.554316176288932\nEval Accuracy Score = 0.2366751269035533\nEval F1 Score (Micro) = 0.5167707610455702\nEval F1 Score (Macro) = 0.46593624549408935\n-------------------------------------------------------------------\nEpoch: 1\nTrain Accuracy Score = 0.252920452438346\nTrain F1 Score (Micro) = 0.5892106354000118\nTrain F1 Score (Macro) = 0.5490602402354008\nTrain loss = 0.4790727417673585\nEval Accuracy Score = 0.24619289340101522\nEval F1 Score (Micro) = 0.5315045006429491\nEval F1 Score (Macro) = 0.4445940369473574\n-------------------------------------------------------------------\nEpoch: 2\nTrain Accuracy Score = 0.333580567402188\nTrain F1 Score (Micro) = 0.68203125\nTrain F1 Score (Macro) = 0.65000137095682\nTrain loss = 0.40871749906497595\nEval Accuracy Score = 0.25571065989847713\nEval F1 Score (Micro) = 0.5617795753286148\nEval F1 Score (Macro) = 0.5289376791287609\n-------------------------------------------------------------------\nEpoch: 3\nTrain Accuracy Score = 0.42666419432597813\nTrain F1 Score (Micro) = 0.7606740968071932\nTrain F1 Score (Macro) = 0.7375992007165953\nTrain loss = 0.3354668793152775\nEval Accuracy Score = 0.23286802030456852\nEval F1 Score (Micro) = 0.5749661443219192\nEval F1 Score (Macro) = 0.5365502563030565\n-------------------------------------------------------------------\nEpoch: 4\nTrain Accuracy Score = 0.5408863341368441\nTrain F1 Score (Micro) = 0.8255528255528255\nTrain F1 Score (Macro) = 0.812803632237396\nTrain loss = 0.25827084777094206\nEval Accuracy Score = 0.2265228426395939\nEval F1 Score (Micro) = 0.5893158388003749\nEval F1 Score (Macro) = 0.5610766206000654\n-------------------------------------------------------------------\nEpoch: 5\nTrain Accuracy Score = 0.6478768774337104\nTrain F1 Score (Micro) = 0.8791613398107901\nTrain F1 Score (Macro) = 0.8711463674114467\nTrain loss = 0.19394105154822563\nEval Accuracy Score = 0.18083756345177665\nEval F1 Score (Micro) = 0.5629005676616005\nEval F1 Score (Macro) = 0.5254045994232975\n-------------------------------------------------------------------\nEpoch: 6\nTrain Accuracy Score = 0.7198219914704246\nTrain F1 Score (Micro) = 0.908952805347377\nTrain F1 Score (Macro) = 0.9036625458809375\nTrain loss = 0.15085579961891005\nEval Accuracy Score = 0.18527918781725888\nEval F1 Score (Micro) = 0.5624007060900265\nEval F1 Score (Macro) = 0.5435302712897453\n-------------------------------------------------------------------\nEpoch: 7\nTrain Accuracy Score = 0.7782310402373447\nTrain F1 Score (Micro) = 0.9298245614035088\nTrain F1 Score (Macro) = 0.926095040548227\nTrain loss = 0.11838684460291496\nEval Accuracy Score = 0.1935279187817259\nEval F1 Score (Micro) = 0.564009442527692\nEval F1 Score (Macro) = 0.5444706563478983\n-------------------------------------------------------------------\nEpoch: 8\nTrain Accuracy Score = 0.805303170776933\nTrain F1 Score (Micro) = 0.9391321815990359\nTrain F1 Score (Macro) = 0.936876378529488\nTrain loss = 0.10371363277618702\nEval Accuracy Score = 0.17766497461928935\nEval F1 Score (Micro) = 0.5510582992944671\nEval F1 Score (Macro) = 0.5205502098300915\n-------------------------------------------------------------------\nEpoch: 9\nTrain Accuracy Score = 0.8264416836640089\nTrain F1 Score (Micro) = 0.9462667134057791\nTrain F1 Score (Macro) = 0.9444282609577237\nTrain loss = 0.09225050123000639\nEval Accuracy Score = 0.22271573604060912\nEval F1 Score (Micro) = 0.5506120069943656\nEval F1 Score (Macro) = 0.5334471786509701\n-------------------------------------------------------------------\n"
          ]
        }
      ],
      "source": [
        "for epoch in range(EPOCHS):\n",
        "\n",
        "    print(f'Epoch: {epoch}')\n",
        "\n",
        "    # training ----------------------------------------------------------------\n",
        "    train_outputs, train_targets, train_loss = train(epoch)\n",
        "    # put to 1 predictions with value >= 0.5\n",
        "    train_outputs = np.array(train_outputs) >= 0.5\n",
        "\n",
        "    train_accuracy = metrics.accuracy_score(train_targets, train_outputs)\n",
        "    train_f1_score_micro = metrics.f1_score(train_targets, train_outputs, average='micro')\n",
        "    train_f1_score_macro = metrics.f1_score(train_targets, train_outputs, average='macro')\n",
        "\n",
        "    metrics_train_eval[epoch] = {'Train Accuracy Score' : train_accuracy,\n",
        "                        'Train F1 Score (Micro)' : train_f1_score_micro,\n",
        "                        'Train F1 Score (Macro)' : train_f1_score_macro}\n",
        "\n",
        "    print(f\"Train Accuracy Score = {train_accuracy}\")\n",
        "    print(f\"Train F1 Score (Micro) = {train_f1_score_micro}\")\n",
        "    print(f\"Train F1 Score (Macro) = {train_f1_score_macro}\")\n",
        "    print(f\"Train loss = {train_loss}\")\n",
        "\n",
        "\n",
        "    # validation --------------------------------------------------------------\n",
        "\n",
        "    eval_outputs, eval_targets = validation(epoch)\n",
        "    # put to 1 predictions with value >= 0.5\n",
        "    eval_outputs = np.array(eval_outputs) >= 0.5\n",
        "\n",
        "    eval_accuracy = metrics.accuracy_score(eval_targets, eval_outputs)\n",
        "    eval_f1_score_micro = metrics.f1_score(eval_targets, eval_outputs, average='micro')\n",
        "    eval_f1_score_macro = metrics.f1_score(eval_targets, eval_outputs, average='macro')\n",
        "\n",
        "    metrics_train_eval[epoch].update({\n",
        "        'Eval Accuracy Score': eval_accuracy,\n",
        "        'Eval F1 Score (Micro)': eval_f1_score_micro,\n",
        "        'Eval F1 Score (Macro)': eval_f1_score_macro\n",
        "    })\n",
        "\n",
        "    print(f\"Eval Accuracy Score = {eval_accuracy}\")\n",
        "    print(f\"Eval F1 Score (Micro) = {eval_f1_score_micro}\")\n",
        "    print(f\"Eval F1 Score (Macro) = {eval_f1_score_macro}\")\n",
        "\n",
        "    print('-------------------------------------------------------------------')"
      ]
    },
    {
      "cell_type": "code",
      "execution_count": null,
      "metadata": {
        "application/vnd.databricks.v1+cell": {
          "cellMetadata": {
            "byteLimit": 2048000,
            "rowLimit": 10000
          },
          "inputWidgets": {},
          "nuid": "fe9ec4b9-9dbe-454b-b59a-f35ee018b870",
          "showTitle": false,
          "title": ""
        },
        "id": "QNs-DYgkZISD",
        "outputId": "a9feb317-c422-4da6-f8d8-ada3f910ffb7"
      },
      "outputs": [
        {
          "output_type": "execute_result",
          "data": {
            "text/plain": [
              "{0: {'Train Accuracy Score': 0.17281661412942703,\n",
              "  'Train F1 Score (Micro)': 0.4307936718077712,\n",
              "  'Train F1 Score (Macro)': 0.38699934880385944,\n",
              "  'Eval Accuracy Score': 0.2366751269035533,\n",
              "  'Eval F1 Score (Micro)': 0.5167707610455702,\n",
              "  'Eval F1 Score (Macro)': 0.46593624549408935},\n",
              " 1: {'Train Accuracy Score': 0.252920452438346,\n",
              "  'Train F1 Score (Micro)': 0.5892106354000118,\n",
              "  'Train F1 Score (Macro)': 0.5490602402354008,\n",
              "  'Eval Accuracy Score': 0.24619289340101522,\n",
              "  'Eval F1 Score (Micro)': 0.5315045006429491,\n",
              "  'Eval F1 Score (Macro)': 0.4445940369473574},\n",
              " 2: {'Train Accuracy Score': 0.333580567402188,\n",
              "  'Train F1 Score (Micro)': 0.68203125,\n",
              "  'Train F1 Score (Macro)': 0.65000137095682,\n",
              "  'Eval Accuracy Score': 0.25571065989847713,\n",
              "  'Eval F1 Score (Micro)': 0.5617795753286148,\n",
              "  'Eval F1 Score (Macro)': 0.5289376791287609},\n",
              " 3: {'Train Accuracy Score': 0.42666419432597813,\n",
              "  'Train F1 Score (Micro)': 0.7606740968071932,\n",
              "  'Train F1 Score (Macro)': 0.7375992007165953,\n",
              "  'Eval Accuracy Score': 0.23286802030456852,\n",
              "  'Eval F1 Score (Micro)': 0.5749661443219192,\n",
              "  'Eval F1 Score (Macro)': 0.5365502563030565},\n",
              " 4: {'Train Accuracy Score': 0.5408863341368441,\n",
              "  'Train F1 Score (Micro)': 0.8255528255528255,\n",
              "  'Train F1 Score (Macro)': 0.812803632237396,\n",
              "  'Eval Accuracy Score': 0.2265228426395939,\n",
              "  'Eval F1 Score (Micro)': 0.5893158388003749,\n",
              "  'Eval F1 Score (Macro)': 0.5610766206000654},\n",
              " 5: {'Train Accuracy Score': 0.6478768774337104,\n",
              "  'Train F1 Score (Micro)': 0.8791613398107901,\n",
              "  'Train F1 Score (Macro)': 0.8711463674114467,\n",
              "  'Eval Accuracy Score': 0.18083756345177665,\n",
              "  'Eval F1 Score (Micro)': 0.5629005676616005,\n",
              "  'Eval F1 Score (Macro)': 0.5254045994232975},\n",
              " 6: {'Train Accuracy Score': 0.7198219914704246,\n",
              "  'Train F1 Score (Micro)': 0.908952805347377,\n",
              "  'Train F1 Score (Macro)': 0.9036625458809375,\n",
              "  'Eval Accuracy Score': 0.18527918781725888,\n",
              "  'Eval F1 Score (Micro)': 0.5624007060900265,\n",
              "  'Eval F1 Score (Macro)': 0.5435302712897453},\n",
              " 7: {'Train Accuracy Score': 0.7782310402373447,\n",
              "  'Train F1 Score (Micro)': 0.9298245614035088,\n",
              "  'Train F1 Score (Macro)': 0.926095040548227,\n",
              "  'Eval Accuracy Score': 0.1935279187817259,\n",
              "  'Eval F1 Score (Micro)': 0.564009442527692,\n",
              "  'Eval F1 Score (Macro)': 0.5444706563478983},\n",
              " 8: {'Train Accuracy Score': 0.805303170776933,\n",
              "  'Train F1 Score (Micro)': 0.9391321815990359,\n",
              "  'Train F1 Score (Macro)': 0.936876378529488,\n",
              "  'Eval Accuracy Score': 0.17766497461928935,\n",
              "  'Eval F1 Score (Micro)': 0.5510582992944671,\n",
              "  'Eval F1 Score (Macro)': 0.5205502098300915},\n",
              " 9: {'Train Accuracy Score': 0.8264416836640089,\n",
              "  'Train F1 Score (Micro)': 0.9462667134057791,\n",
              "  'Train F1 Score (Macro)': 0.9444282609577237,\n",
              "  'Eval Accuracy Score': 0.22271573604060912,\n",
              "  'Eval F1 Score (Micro)': 0.5506120069943656,\n",
              "  'Eval F1 Score (Macro)': 0.5334471786509701}}"
            ]
          },
          "execution_count": 23,
          "metadata": {}
        }
      ],
      "source": [
        "metrics_train_eval"
      ]
    },
    {
      "cell_type": "code",
      "execution_count": null,
      "metadata": {
        "application/vnd.databricks.v1+cell": {
          "cellMetadata": {
            "byteLimit": 2048000,
            "rowLimit": 10000
          },
          "inputWidgets": {},
          "nuid": "c4793edb-f03f-4bb0-89b1-69ea96ea6da9",
          "showTitle": false,
          "title": ""
        },
        "id": "p7r8baZ-ZISD",
        "outputId": "15d20e6e-c596-4523-f19c-bf1864532f55"
      },
      "outputs": [
        {
          "output_type": "display_data",
          "data": {
            "image/png": "[encoded data removed]",
            "text/plain": [
              "<Figure size 1400x800 with 3 Axes>"
            ]
          },
          "metadata": {}
        }
      ],
      "source": [
        "# extract metrics\n",
        "epochs = list(metrics_train_eval.keys())\n",
        "train_accuracy = [metrics_train_eval[epoch]['Train Accuracy Score'] for epoch in epochs]\n",
        "eval_accuracy = [metrics_train_eval[epoch]['Eval Accuracy Score'] for epoch in epochs]\n",
        "train_f1_micro = [metrics_train_eval[epoch]['Train F1 Score (Micro)'] for epoch in epochs]\n",
        "eval_f1_micro = [metrics_train_eval[epoch]['Eval F1 Score (Micro)'] for epoch in epochs]\n",
        "train_f1_macro = [metrics_train_eval[epoch]['Train F1 Score (Macro)'] for epoch in epochs]\n",
        "eval_f1_macro = [metrics_train_eval[epoch]['Eval F1 Score (Macro)'] for epoch in epochs]\n",
        "\n",
        "# plot fig\n",
        "plt.figure(figsize=(14, 8))\n",
        "\n",
        "# accuracy plot\n",
        "plt.subplot(3, 1, 1)\n",
        "plt.plot(epochs, train_accuracy, label='Train Accuracy', marker='o')\n",
        "plt.plot(epochs, eval_accuracy, label='Eval Accuracy', marker='o')\n",
        "plt.title('Accuracy over Epochs')\n",
        "plt.xlabel('Epochs')\n",
        "plt.ylabel('Accuracy')\n",
        "plt.legend()\n",
        "\n",
        "# F1 micro plot\n",
        "plt.subplot(3, 1, 2)\n",
        "plt.plot(epochs, train_f1_micro, label='Train F1 Score (Micro)', marker='o')\n",
        "plt.plot(epochs, eval_f1_micro, label='Eval F1 Score (Micro)', marker='o')\n",
        "plt.title('F1 Score (Micro) over Epochs')\n",
        "plt.xlabel('Epochs')\n",
        "plt.ylabel('F1 Score (Micro)')\n",
        "plt.legend()\n",
        "\n",
        "# F1 macro plot\n",
        "plt.subplot(3, 1, 3)\n",
        "plt.plot(epochs, train_f1_macro, label='Train F1 Score (Macro)', marker='o')\n",
        "plt.plot(epochs, eval_f1_macro, label='Eval F1 Score (Macro)', marker='o')\n",
        "plt.title('F1 Score (Macro) over Epochs')\n",
        "plt.xlabel('Epochs')\n",
        "plt.ylabel('F1 Score (Macro)')\n",
        "plt.legend()\n",
        "\n",
        "plt.tight_layout()\n",
        "plt.show()"
      ]
    },
    {
      "cell_type": "code",
      "execution_count": null,
      "metadata": {
        "application/vnd.databricks.v1+cell": {
          "cellMetadata": {
            "byteLimit": 2048000,
            "rowLimit": 10000
          },
          "inputWidgets": {},
          "nuid": "ff2a45f9-8b1e-4f6c-a5ca-ed3d24bd2747",
          "showTitle": false,
          "title": ""
        },
        "id": "NJMSXfGxZISE",
        "outputId": "40928ea8-5bd7-4f7b-a471-7b8279cdf41a"
      },
      "outputs": [
        {
          "output_type": "execute_result",
          "data": {
            "text/plain": [
              "['Self-direction: action',\n",
              " 'Achievement',\n",
              " 'Security: personal',\n",
              " 'Security: societal',\n",
              " 'Benevolence: caring',\n",
              " 'Universalism: concern']"
            ]
          },
          "execution_count": 25,
          "metadata": {}
        }
      ],
      "source": [
        "selected_col[4:]"
      ]
    },
    {
      "cell_type": "code",
      "execution_count": null,
      "metadata": {
        "application/vnd.databricks.v1+cell": {
          "cellMetadata": {
            "byteLimit": 2048000,
            "rowLimit": 10000
          },
          "inputWidgets": {},
          "nuid": "930c8800-ee1f-480c-8931-f91e74264436",
          "showTitle": false,
          "title": ""
        },
        "id": "nWmV138RZISE",
        "outputId": "de56e50c-7299-4393-e0e4-00c5fadececd"
      },
      "outputs": [
        {
          "output_type": "execute_result",
          "data": {
            "text/html": [
              "<div>\n",
              "<style scoped>\n",
              "    .dataframe tbody tr th:only-of-type {\n",
              "        vertical-align: middle;\n",
              "    }\n",
              "\n",
              "    .dataframe tbody tr th {\n",
              "        vertical-align: top;\n",
              "    }\n",
              "\n",
              "    .dataframe thead th {\n",
              "        text-align: right;\n",
              "    }\n",
              "</style>\n",
              "<table border=\"1\" class=\"dataframe\">\n",
              "  <thead>\n",
              "    <tr style=\"text-align: right;\">\n",
              "      <th></th>\n",
              "      <th>Premise</th>\n",
              "      <th>list</th>\n",
              "    </tr>\n",
              "  </thead>\n",
              "  <tbody>\n",
              "    <tr>\n",
              "      <th>0</th>\n",
              "      <td>affirmative action helps with employment equity.</td>\n",
              "      <td>[0, 1, 1, 0, 0, 1]</td>\n",
              "    </tr>\n",
              "  </tbody>\n",
              "</table>\n",
              "</div>"
            ],
            "text/plain": [
              "                                            Premise                list\n",
              "0  affirmative action helps with employment equity.  [0, 1, 1, 0, 0, 1]"
            ]
          },
          "execution_count": 26,
          "metadata": {}
        }
      ],
      "source": [
        "test_set.head(1)"
      ]
    },
    {
      "cell_type": "code",
      "execution_count": null,
      "metadata": {
        "application/vnd.databricks.v1+cell": {
          "cellMetadata": {
            "byteLimit": 2048000,
            "rowLimit": 10000
          },
          "inputWidgets": {},
          "nuid": "546d0ce9-feac-4262-8ad4-7bb18ddde20a",
          "showTitle": false,
          "title": ""
        },
        "id": "GU9aPo_1ZISE",
        "outputId": "d8a708c7-720d-4e1e-e4e1-9ef468c30684"
      },
      "outputs": [
        {
          "output_type": "stream",
          "name": "stdout",
          "text": [
            "Model Output: tensor([[-6.3188,  1.8996,  1.9873, -3.7659, -1.3958,  6.3108]],\n       device='cuda:0')\nModel Output after SIGMOID: [[0.0017989211482927203, 0.869840681552887, 0.8794570565223694, 0.022622382268309593, 0.1984855681657791, 0.9981867671012878]]\nModel Output threshold: [[False  True  True False False  True]]\nActual Target: tensor([0., 1., 1., 0., 0., 1.])\n"
          ]
        }
      ],
      "source": [
        "test_item_0 = testing_set.__getitem__(0)\n",
        "ids = test_item_0['ids'].to(device, dtype = torch.long)\n",
        "mask = test_item_0['mask'].to(device, dtype = torch.long)\n",
        "token_type_ids = test_item_0['token_type_ids'].to(device, dtype = torch.long)\n",
        "targets = test_item_0['targets'] #\n",
        "\n",
        "# disable gradient calculation, add an extra dimension to the input tensors using unsqueeze(0) to create a batch of size 1.\n",
        "with torch.no_grad():\n",
        "    outputs = model(ids.unsqueeze(0), mask.unsqueeze(0), token_type_ids.unsqueeze(0))\n",
        "\n",
        "print(\"Model Output:\", outputs)\n",
        "\n",
        "outputs = torch.sigmoid(outputs).cpu().detach().numpy().tolist()\n",
        "print(\"Model Output after SIGMOID:\", outputs)\n",
        "\n",
        "outputs = np.array(outputs) >= 0.5\n",
        "\n",
        "# model's output and the actual target\n",
        "print(\"Model Output threshold:\", outputs)\n",
        "print(\"Actual Target:\", targets)"
      ]
    },
    {
      "cell_type": "code",
      "execution_count": null,
      "metadata": {
        "application/vnd.databricks.v1+cell": {
          "cellMetadata": {
            "byteLimit": 2048000,
            "rowLimit": 10000
          },
          "inputWidgets": {},
          "nuid": "43396ffb-3f7b-4a91-b6a3-1786fae370bb",
          "showTitle": false,
          "title": ""
        },
        "id": "SLhUxfd6ZISE",
        "outputId": "048e1e17-af67-43fd-b370-63f6845c5c45"
      },
      "outputs": [
        {
          "output_type": "stream",
          "name": "stdout",
          "text": [
            "Accuracy Score: 1.0\nF1 micro Score: 1.0\nF1 macro Score: 1.0\n"
          ]
        }
      ],
      "source": [
        "# flat the outputs and targets arrays\n",
        "outputs_flat = np.ravel(outputs)\n",
        "targets_flat = np.ravel(targets)\n",
        "\n",
        "print(\"Accuracy Score:\", metrics.accuracy_score(targets_flat, outputs_flat))\n",
        "print(\"F1 micro Score:\", metrics.f1_score(targets_flat, outputs_flat, average='micro'))\n",
        "print(\"F1 macro Score:\", metrics.f1_score(targets_flat, outputs_flat, average='macro'))"
      ]
    },
    {
      "cell_type": "code",
      "execution_count": null,
      "metadata": {
        "application/vnd.databricks.v1+cell": {
          "cellMetadata": {
            "byteLimit": 2048000,
            "rowLimit": 10000
          },
          "inputWidgets": {},
          "nuid": "239bb4da-0061-42dd-91ef-d54cdc6f824d",
          "showTitle": false,
          "title": ""
        },
        "id": "KhuYHMfCZISE",
        "outputId": "80a0cd5b-4736-41af-bbca-15e074e3d26a"
      },
      "outputs": [
        {
          "output_type": "execute_result",
          "data": {
            "text/html": [
              "<div>\n",
              "<style scoped>\n",
              "    .dataframe tbody tr th:only-of-type {\n",
              "        vertical-align: middle;\n",
              "    }\n",
              "\n",
              "    .dataframe tbody tr th {\n",
              "        vertical-align: top;\n",
              "    }\n",
              "\n",
              "    .dataframe thead th {\n",
              "        text-align: right;\n",
              "    }\n",
              "</style>\n",
              "<table border=\"1\" class=\"dataframe\">\n",
              "  <thead>\n",
              "    <tr style=\"text-align: right;\">\n",
              "      <th></th>\n",
              "      <th>Premise</th>\n",
              "      <th>list</th>\n",
              "    </tr>\n",
              "  </thead>\n",
              "  <tbody>\n",
              "    <tr>\n",
              "      <th>87</th>\n",
              "      <td>marriage is antiquated and does not provide mu...</td>\n",
              "      <td>[0, 0, 1, 0, 0, 1]</td>\n",
              "    </tr>\n",
              "  </tbody>\n",
              "</table>\n",
              "</div>"
            ],
            "text/plain": [
              "                                              Premise                list\n",
              "87  marriage is antiquated and does not provide mu...  [0, 0, 1, 0, 0, 1]"
            ]
          },
          "execution_count": 29,
          "metadata": {}
        }
      ],
      "source": [
        "test_set[87:88]"
      ]
    },
    {
      "cell_type": "code",
      "execution_count": null,
      "metadata": {
        "application/vnd.databricks.v1+cell": {
          "cellMetadata": {
            "byteLimit": 2048000,
            "rowLimit": 10000
          },
          "inputWidgets": {},
          "nuid": "85b379bb-a9cd-4deb-bc9c-57ca21b22264",
          "showTitle": false,
          "title": ""
        },
        "id": "9s-xnDiPZISE",
        "outputId": "36625ac6-b953-415a-a2fa-76e293a09bbf"
      },
      "outputs": [
        {
          "output_type": "stream",
          "name": "stdout",
          "text": [
            "Model Output: tensor([[-7.9174,  4.5496,  0.9944, -2.5244, -7.9968, -0.5072]],\n       device='cuda:0')\nModel Output after SIGMOID: [[0.00036423015990294516, 0.9895386695861816, 0.7299584746360779, 0.07416830211877823, 0.00033641516347415745, 0.3758528232574463]]\nModel Output threshold: [[False  True  True False False False]]\nActual Target: tensor([0., 0., 1., 0., 0., 1.])\n"
          ]
        }
      ],
      "source": [
        "test_item_0 = testing_set.__getitem__(87)\n",
        "ids = test_item_0['ids'].to(device, dtype = torch.long)\n",
        "mask = test_item_0['mask'].to(device, dtype = torch.long)\n",
        "token_type_ids = test_item_0['token_type_ids'].to(device, dtype = torch.long)\n",
        "targets = test_item_0['targets'] #\n",
        "\n",
        "# disable gradient calculation, add an extra dimension to the input tensors using unsqueeze(0) to create a batch of size 1.\n",
        "with torch.no_grad():\n",
        "    outputs = model(ids.unsqueeze(0), mask.unsqueeze(0), token_type_ids.unsqueeze(0))\n",
        "\n",
        "print(\"Model Output:\", outputs)\n",
        "\n",
        "outputs = torch.sigmoid(outputs).cpu().detach().numpy().tolist()\n",
        "print(\"Model Output after SIGMOID:\", outputs)\n",
        "\n",
        "outputs = np.array(outputs) >= 0.5\n",
        "\n",
        "# model's output and the actual target\n",
        "print(\"Model Output threshold:\", outputs)\n",
        "print(\"Actual Target:\", targets)"
      ]
    },
    {
      "cell_type": "code",
      "execution_count": null,
      "metadata": {
        "application/vnd.databricks.v1+cell": {
          "cellMetadata": {
            "byteLimit": 2048000,
            "rowLimit": 10000
          },
          "inputWidgets": {},
          "nuid": "e42265fd-f73c-4891-a20f-2a7407ab2e77",
          "showTitle": false,
          "title": ""
        },
        "id": "epzGck3RZISF",
        "outputId": "48b7e1fd-10d7-4b65-eda7-903668061f32"
      },
      "outputs": [
        {
          "output_type": "stream",
          "name": "stdout",
          "text": [
            "Accuracy Score: 0.6666666666666666\nF1 micro Score: 0.6666666666666666\nF1 macro Score: 0.625\n"
          ]
        }
      ],
      "source": [
        "# flat the outputs and targets arrays\n",
        "outputs_flat = np.ravel(outputs)\n",
        "targets_flat = np.ravel(targets)\n",
        "\n",
        "print(\"Accuracy Score:\", metrics.accuracy_score(targets_flat, outputs_flat))\n",
        "print(\"F1 micro Score:\", metrics.f1_score(targets_flat, outputs_flat, average='micro'))\n",
        "print(\"F1 macro Score:\", metrics.f1_score(targets_flat, outputs_flat, average='macro'))"
      ]
    },
    {
      "cell_type": "code",
      "execution_count": null,
      "metadata": {
        "application/vnd.databricks.v1+cell": {
          "cellMetadata": {
            "byteLimit": 2048000,
            "rowLimit": 10000
          },
          "inputWidgets": {},
          "nuid": "2628f163-32f8-4abb-935a-1933eb7d5768",
          "showTitle": false,
          "title": ""
        },
        "id": "bbzm0OC2ZISF",
        "outputId": "9481183e-284d-4767-ef51-1fdc0211a13d"
      },
      "outputs": [
        {
          "output_type": "execute_result",
          "data": {
            "text/html": [
              "<div>\n",
              "<style scoped>\n",
              "    .dataframe tbody tr th:only-of-type {\n",
              "        vertical-align: middle;\n",
              "    }\n",
              "\n",
              "    .dataframe tbody tr th {\n",
              "        vertical-align: top;\n",
              "    }\n",
              "\n",
              "    .dataframe thead th {\n",
              "        text-align: right;\n",
              "    }\n",
              "</style>\n",
              "<table border=\"1\" class=\"dataframe\">\n",
              "  <thead>\n",
              "    <tr style=\"text-align: right;\">\n",
              "      <th></th>\n",
              "      <th>Premise</th>\n",
              "      <th>list</th>\n",
              "    </tr>\n",
              "  </thead>\n",
              "  <tbody>\n",
              "    <tr>\n",
              "      <th>1456</th>\n",
              "      <td>Immigrants from non-European countries are als...</td>\n",
              "      <td>[0, 0, 0, 0, 0, 0]</td>\n",
              "    </tr>\n",
              "  </tbody>\n",
              "</table>\n",
              "</div>"
            ],
            "text/plain": [
              "                                                Premise                list\n",
              "1456  Immigrants from non-European countries are als...  [0, 0, 0, 0, 0, 0]"
            ]
          },
          "execution_count": 32,
          "metadata": {}
        }
      ],
      "source": [
        "test_set[1456:1457]"
      ]
    },
    {
      "cell_type": "code",
      "execution_count": null,
      "metadata": {
        "application/vnd.databricks.v1+cell": {
          "cellMetadata": {
            "byteLimit": 2048000,
            "rowLimit": 10000
          },
          "inputWidgets": {},
          "nuid": "98c9a3f2-b072-4382-9a5f-26252509ca29",
          "showTitle": false,
          "title": ""
        },
        "id": "0X8Xl5w6ZISF",
        "outputId": "7e954662-7d7e-46d1-d71b-5a8cc14b6585"
      },
      "outputs": [
        {
          "output_type": "stream",
          "name": "stdout",
          "text": [
            "Model Output: tensor([[-4.2103,  0.4157, -2.8443, -1.6576, -1.4383, -2.7416]],\n       device='cuda:0')\nModel Output after SIGMOID: [[0.014625472947955132, 0.6024443507194519, 0.05497518554329872, 0.1600819230079651, 0.19181329011917114, 0.06056015193462372]]\nModel Output threshold: [[False  True False False False False]]\nActual Target: tensor([0., 0., 0., 0., 0., 0.])\n"
          ]
        }
      ],
      "source": [
        "test_item_0 = testing_set.__getitem__(1456)\n",
        "ids = test_item_0['ids'].to(device, dtype = torch.long)\n",
        "mask = test_item_0['mask'].to(device, dtype = torch.long)\n",
        "token_type_ids = test_item_0['token_type_ids'].to(device, dtype = torch.long)\n",
        "targets = test_item_0['targets'] #\n",
        "\n",
        "# disable gradient calculation, add an extra dimension to the input tensors using unsqueeze(0) to create a batch of size 1.\n",
        "with torch.no_grad():\n",
        "    outputs = model(ids.unsqueeze(0), mask.unsqueeze(0), token_type_ids.unsqueeze(0))\n",
        "\n",
        "print(\"Model Output:\", outputs)\n",
        "\n",
        "outputs = torch.sigmoid(outputs).cpu().detach().numpy().tolist()\n",
        "print(\"Model Output after SIGMOID:\", outputs)\n",
        "\n",
        "outputs = np.array(outputs) >= 0.5\n",
        "\n",
        "# model's output and the actual target\n",
        "print(\"Model Output threshold:\", outputs)\n",
        "print(\"Actual Target:\", targets)"
      ]
    },
    {
      "cell_type": "code",
      "execution_count": null,
      "metadata": {
        "application/vnd.databricks.v1+cell": {
          "cellMetadata": {
            "byteLimit": 2048000,
            "rowLimit": 10000
          },
          "inputWidgets": {},
          "nuid": "490059ca-91a2-4ff2-9c3d-425e8589f4a6",
          "showTitle": false,
          "title": ""
        },
        "id": "gwfa0zXYZISF",
        "outputId": "adb483b1-9ba1-454f-df64-2572b85a2561"
      },
      "outputs": [
        {
          "output_type": "stream",
          "name": "stdout",
          "text": [
            "Accuracy Score: 0.8333333333333334\nF1 micro Score: 0.8333333333333334\nF1 macro Score: 0.45454545454545453\n"
          ]
        }
      ],
      "source": [
        "# flat the outputs and targets arrays\n",
        "outputs_flat = np.ravel(outputs)\n",
        "targets_flat = np.ravel(targets)\n",
        "\n",
        "print(\"Accuracy Score:\", metrics.accuracy_score(targets_flat, outputs_flat))\n",
        "print(\"F1 micro Score:\", metrics.f1_score(targets_flat, outputs_flat, average='micro'))\n",
        "print(\"F1 macro Score:\", metrics.f1_score(targets_flat, outputs_flat, average='macro'))"
      ]
    },
    {
      "cell_type": "markdown",
      "metadata": {
        "application/vnd.databricks.v1+cell": {
          "cellMetadata": {
            "byteLimit": 2048000,
            "rowLimit": 10000
          },
          "inputWidgets": {},
          "nuid": "9f306273-bed1-407c-be35-f5ea79ebacc6",
          "showTitle": false,
          "title": ""
        },
        "id": "mAViRnqPZISF"
      },
      "source": [
        "https://github.com/dtolk/multilabel-BERT/blob/master/notebooks/multi_label_text_classification_BERT.ipynb"
      ]
    },
    {
      "cell_type": "code",
      "execution_count": null,
      "metadata": {
        "application/vnd.databricks.v1+cell": {
          "cellMetadata": {
            "byteLimit": 2048000,
            "rowLimit": 10000
          },
          "inputWidgets": {},
          "nuid": "b421bc72-7554-4b5c-bbae-57a108d019c3",
          "showTitle": false,
          "title": ""
        },
        "id": "6B2bHQvLZISG"
      },
      "outputs": [],
      "source": []
    }
  ],
  "metadata": {
    "application/vnd.databricks.v1+notebook": {
      "dashboards": [],
      "environmentMetadata": null,
      "language": "python",
      "notebookMetadata": {
        "pythonIndentUnit": 2
      },
      "notebookName": "P2_databricks_1",
      "widgets": {}
    },
    "colab": {
      "provenance": [],
      "include_colab_link": true
    }
  },
  "nbformat": 4,
  "nbformat_minor": 0
}